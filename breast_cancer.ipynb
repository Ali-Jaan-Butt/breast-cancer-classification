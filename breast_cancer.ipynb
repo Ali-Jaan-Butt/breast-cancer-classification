{
 "cells": [
  {
   "cell_type": "code",
   "execution_count": 4,
   "id": "d6306861-8d3b-42ed-8290-36c46877895a",
   "metadata": {},
   "outputs": [],
   "source": [
    "import numpy as np \n",
    "\n",
    "import os\n",
    "\n",
    "\n",
    "import pickle\n",
    "import random\n",
    "from skimage.io import imread\n",
    "from skimage.transform import resize\n",
    "\n",
    "import tensorflow as tf\n",
    "import keras\n",
    "from keras.models import Sequential\n",
    "from tensorflow.keras.models import Sequential\n",
    "from keras.layers import Conv2D,Flatten,Dense,MaxPooling2D,Dropout\n",
    "from sklearn.metrics import accuracy_score\n",
    "from tensorflow.keras.models import Sequential\n",
    "from tensorflow.keras.layers import Dense, Activation,Dropout"
   ]
  },
  {
   "cell_type": "code",
   "execution_count": 5,
   "id": "8197cfef-8856-41e0-972b-df0185e560a9",
   "metadata": {},
   "outputs": [],
   "source": [
    "train_dataset = './train'\n",
    "test_dataset = './test'"
   ]
  },
  {
   "cell_type": "code",
   "execution_count": 6,
   "id": "edd253c5-4bbb-4dc0-8f06-6f55bfd68c3b",
   "metadata": {},
   "outputs": [
    {
     "ename": "NotADirectoryError",
     "evalue": "[Errno 20] Not a directory: './train/.DS_Store'",
     "output_type": "error",
     "traceback": [
      "\u001b[0;31m---------------------------------------------------------------------------\u001b[0m",
      "\u001b[0;31mNotADirectoryError\u001b[0m                        Traceback (most recent call last)",
      "Cell \u001b[0;32mIn[6], line 3\u001b[0m\n\u001b[1;32m      1\u001b[0m \u001b[38;5;28;01mfor\u001b[39;00m category \u001b[38;5;129;01min\u001b[39;00m os\u001b[38;5;241m.\u001b[39mlistdir(train_dataset):\n\u001b[1;32m      2\u001b[0m     category_data \u001b[38;5;241m=\u001b[39m os\u001b[38;5;241m.\u001b[39mpath\u001b[38;5;241m.\u001b[39mjoin(train_dataset, category)\n\u001b[0;32m----> 3\u001b[0m     image_count \u001b[38;5;241m=\u001b[39m \u001b[38;5;28mlen\u001b[39m(os\u001b[38;5;241m.\u001b[39mlistdir(category_data))\n\u001b[1;32m      4\u001b[0m     \u001b[38;5;28mprint\u001b[39m(\u001b[38;5;124mf\u001b[39m\u001b[38;5;124m'\u001b[39m\u001b[38;5;124mNumber of images classified as \u001b[39m\u001b[38;5;132;01m{\u001b[39;00mcategory\u001b[38;5;132;01m}\u001b[39;00m\u001b[38;5;124m: \u001b[39m\u001b[38;5;124m'\u001b[39m, image_count)\n",
      "\u001b[0;31mNotADirectoryError\u001b[0m: [Errno 20] Not a directory: './train/.DS_Store'"
     ]
    }
   ],
   "source": [
    "for category in os.listdir(train_dataset):\n",
    "    category_data = os.path.join(train_dataset, category)\n",
    "    image_count = len(os.listdir(category_data))\n",
    "    print(f'Number of images classified as {category}: ', image_count)"
   ]
  },
  {
   "cell_type": "code",
   "execution_count": null,
   "id": "f78e4c49-478b-42bd-92e8-ae1dae155dec",
   "metadata": {},
   "outputs": [],
   "source": []
  }
 ],
 "metadata": {
  "kernelspec": {
   "display_name": "Python 3 (ipykernel)",
   "language": "python",
   "name": "python3"
  },
  "language_info": {
   "codemirror_mode": {
    "name": "ipython",
    "version": 3
   },
   "file_extension": ".py",
   "mimetype": "text/x-python",
   "name": "python",
   "nbconvert_exporter": "python",
   "pygments_lexer": "ipython3",
   "version": "3.11.3"
  }
 },
 "nbformat": 4,
 "nbformat_minor": 5
}
