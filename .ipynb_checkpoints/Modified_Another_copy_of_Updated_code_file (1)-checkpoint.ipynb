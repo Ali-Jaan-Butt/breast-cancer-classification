{
  "cells": [
    {
      "cell_type": "code",
      "source": [
        "import tensorflow as tf\n",
        "tf.__version__\n",
        "tf.config.list_physical_devices('GPU')"
      ],
      "metadata": {
        "colab": {
          "base_uri": "https://localhost:8080/"
        },
        "id": "GEMOPXt8YuI1",
        "outputId": "905976e1-24d6-469b-b3f5-328b077db74a"
      },
      "execution_count": 261,
      "outputs": [
        {
          "output_type": "execute_result",
          "data": {
            "text/plain": [
              "[PhysicalDevice(name='/physical_device:GPU:0', device_type='GPU')]"
            ]
          },
          "metadata": {},
          "execution_count": 261
        }
      ]
    },
    {
      "cell_type": "code",
      "execution_count": 262,
      "metadata": {
        "id": "0mn2bgcnqmmQ"
      },
      "outputs": [],
      "source": [
        "from tensorflow.keras.models import Sequential, Model\n",
        "from tensorflow.keras.layers import Input, Conv2D, MaxPooling2D, GlobalAveragePooling2D, Dropout, Dense, Add, Concatenate\n",
        "from tensorflow.keras.optimizers import Adam\n",
        "from tensorflow.keras.layers import Input, Conv2D, MaxPooling2D, GlobalAveragePooling2D, Dropout, Dense, Add, Concatenate, Flatten\n",
        "from tensorflow.keras.preprocessing.image import ImageDataGenerator\n",
        "from tensorflow.keras.callbacks import ModelCheckpoint, EarlyStopping\n",
        "from tensorflow.keras.applications import VGG16\n",
        "from tensorflow.keras.utils import plot_model\n",
        "from sklearn.metrics import classification_report, confusion_matrix, roc_curve, auc, precision_recall_curve, average_precision_score\n",
        "from sklearn.preprocessing import label_binarize\n",
        "import matplotlib.pyplot as plt\n",
        "import numpy as np\n",
        "from collections import Counter\n",
        "from itertools import cycle\n",
        "from tensorflow.keras.preprocessing import image\n"
      ]
    },
    {
      "cell_type": "code",
      "execution_count": 263,
      "metadata": {
        "id": "KHEj0a2irhje",
        "colab": {
          "base_uri": "https://localhost:8080/"
        },
        "outputId": "103c7667-7881-4c6a-ff46-3271a3d283e7"
      },
      "outputs": [
        {
          "output_type": "stream",
          "name": "stdout",
          "text": [
            "Drive already mounted at /content/drive; to attempt to forcibly remount, call drive.mount(\"/content/drive\", force_remount=True).\n",
            "'Colab Notebooks'  'Oiginal Data'  'Training 70% augmented Testing 30%'\n",
            "Drive already mounted at /content/drive; to attempt to forcibly remount, call drive.mount(\"/content/drive\", force_remount=True).\n"
          ]
        }
      ],
      "source": [
        "# Mount Google Drive\n",
        "from google.colab import drive\n",
        "drive.mount('/content/drive') # Mount to /content/drive\n",
        "\n",
        "# Check if the directory exists\n",
        "!ls /content/drive/MyDrive/ # list contents of MyDrive to see if your folders exist\n",
        "\n",
        "# If the directory exists, you can try mounting to a subdirectory\n",
        "!mkdir -p /content/drive/MyDrive/dataset breast # creates the directory if it does not exist\n",
        "\n",
        "# Mount to the /content/drive directory\n",
        "drive.mount('/content/drive') # Now try mounting to the subdirectory"
      ]
    },
    {
      "cell_type": "markdown",
      "metadata": {
        "id": "mLfD59g_4tk4"
      },
      "source": [
        "# New section"
      ]
    },
    {
      "cell_type": "code",
      "execution_count": 264,
      "metadata": {
        "id": "7kP6YqCmrUT0"
      },
      "outputs": [],
      "source": [
        "#   Paths to your dataset\n",
        "train_loc = '/content/drive/MyDrive/Training 70% augmented Testing 30%/Augmenttaion Training'\n",
        "val_loc = '/content/drive/MyDrive/Training 70% augmented Testing 30%/Testing'\n",
        "test_loc = '/content/drive/MyDrive/Training 70% augmented Testing 30%/Testing'"
      ]
    },
    {
      "cell_type": "code",
      "execution_count": 265,
      "metadata": {
        "id": "ergHXilKsGGc"
      },
      "outputs": [],
      "source": [
        "# Data preparation\n",
        "BATCH_SIZE = 32\n"
      ]
    },
    {
      "cell_type": "code",
      "execution_count": 266,
      "metadata": {
        "id": "x6T7At1Q4uqI",
        "colab": {
          "base_uri": "https://localhost:8080/"
        },
        "outputId": "1f45e8aa-4c2c-47e0-b831-4609f2e980c0"
      },
      "outputs": [
        {
          "output_type": "stream",
          "name": "stdout",
          "text": [
            "Drive already mounted at /content/drive; to attempt to forcibly remount, call drive.mount(\"/content/drive\", force_remount=True).\n",
            "'Colab Notebooks'   dataset  'Oiginal Data'  'Training 70% augmented Testing 30%'\n",
            "Found 4388 images belonging to 3 classes.\n"
          ]
        }
      ],
      "source": [
        "# Mount Google Drive\n",
        "from google.colab import drive\n",
        "drive.mount('/content/drive')\n",
        "\n",
        "# List the contents of your Drive to double check the path\n",
        "!ls \"/content/drive/MyDrive\"\n",
        "\n",
        "#  Paths to your dataset\n",
        "train_loc = '/content/drive/MyDrive/Training 70% augmented Testing 30%/Augmenttaion Training'\n",
        "val_loc = '/content/drive/MyDrive/Training 70% augmented Testing 30%/Testing'\n",
        "test_loc = '/content/drive/MyDrive/Training 70% augmented Testing 30%/Testing'\n",
        "# Data preparation\n",
        "BATCH_SIZE = 32\n",
        "\n",
        "trdata = ImageDataGenerator(rescale=1./255)\n",
        "\n",
        "# Add error handling for the file not found case\n",
        "try:\n",
        "    train_data = trdata.flow_from_directory(directory=train_loc, target_size=(224,224), batch_size=BATCH_SIZE, shuffle=True, seed=42)\n",
        "except FileNotFoundError:\n",
        "    print(f\"Error: Directory not found - {train_loc}\")\n",
        "    # Handle the error, e.g., by asking the user to verify the path or creating the directory"
      ]
    },
    {
      "cell_type": "code",
      "execution_count": 267,
      "metadata": {
        "id": "rkpQbjRKsJJp",
        "colab": {
          "base_uri": "https://localhost:8080/"
        },
        "outputId": "b4dc1b58-9825-4516-a5cd-63365c0ddc82"
      },
      "outputs": [
        {
          "output_type": "stream",
          "name": "stdout",
          "text": [
            "Drive already mounted at /content/drive; to attempt to forcibly remount, call drive.mount(\"/content/drive\", force_remount=True).\n",
            "'Colab Notebooks'   dataset  'Oiginal Data'  'Training 70% augmented Testing 30%'\n",
            "Found 4388 images belonging to 3 classes.\n"
          ]
        }
      ],
      "source": [
        "# Mount Google Drive\n",
        "from google.colab import drive\n",
        "drive.mount('/content/drive')\n",
        "\n",
        "# List the contents of your Drive to double check the path\n",
        "!ls \"/content/drive/MyDrive\"\n",
        "\n",
        "#  Paths to your dataset\n",
        "train_loc = '/content/drive/MyDrive/Training 70% augmented Testing 30%/Augmenttaion Training'\n",
        "val_loc = '/content/drive/MyDrive/Training 70% augmented Testing 30%/Testing'\n",
        "\n",
        "trdata = ImageDataGenerator(rescale=1./255)\n",
        "\n",
        "# Add error handling for the file not found case\n",
        "try:\n",
        "    train_data = trdata.flow_from_directory(directory=train_loc, target_size=(224,224), batch_size=BATCH_SIZE, shuffle=True, seed=42)\n",
        "except FileNotFoundError:\n",
        "    print(f\"Error: Directory not found - {train_loc}\")\n",
        "    # Handle the error, e.g., by asking the user to verify the path or creating the directory"
      ]
    },
    {
      "cell_type": "code",
      "execution_count": 268,
      "metadata": {
        "id": "1hlHBwPzsNW2",
        "colab": {
          "base_uri": "https://localhost:8080/"
        },
        "outputId": "f91a9802-e51d-4749-ef4d-79228d7e462d"
      },
      "outputs": [
        {
          "output_type": "stream",
          "name": "stdout",
          "text": [
            "Found 235 images belonging to 3 classes.\n"
          ]
        }
      ],
      "source": [
        "vdata = ImageDataGenerator(rescale=1./255)\n",
        "# Add error handling for the file not found case\n",
        "try:\n",
        "    val_data = vdata.flow_from_directory(directory=val_loc, target_size=(224,224), batch_size=BATCH_SIZE, shuffle=True, seed=42)\n",
        "except FileNotFoundError:\n",
        "    print(f\"Error: Directory not found - {val_loc}\")\n",
        "    # Handle the error, e.g., by asking the user to verify the path or creating the directory"
      ]
    },
    {
      "cell_type": "code",
      "execution_count": 269,
      "metadata": {
        "id": "magz6fEQEG3Q"
      },
      "outputs": [],
      "source": [
        "# Class weights calculation for handling class imbalance\n",
        "counter = Counter('/content/drive/MyDrive/Training 70% augmented Testing 30%')\n",
        "max_val = float(max(counter.values()))\n",
        "class_weights = {class_id: max_val/num_images for class_id, num_images in counter.items()}"
      ]
    },
    {
      "cell_type": "code",
      "execution_count": 270,
      "metadata": {
        "id": "HsbycPkMEMOk"
      },
      "outputs": [],
      "source": [
        "# Function to build the VGG16-based model\n",
        "def create_vgg16_model(input_shape, n_classes, optimizer):\n",
        "    conv_base = VGG16(include_top=False, weights='imagenet', input_shape=input_shape)"
      ]
    },
    {
      "cell_type": "code",
      "execution_count": 271,
      "metadata": {
        "id": "7iDksbhiEiv2"
      },
      "outputs": [],
      "source": [
        "# Function to build the VGG16-based model\n",
        "def create_vgg16_model(input_shape, n_classes, optimizer):\n",
        "    conv_base = VGG16(include_top=False, weights='imagenet', input_shape=input_shape)\n",
        "    x = conv_base.output\n",
        "    x = GlobalAveragePooling2D()(x)\n",
        "    x = Dropout(0.5)(x)\n",
        "    x = Dense(512, activation='relu')(x)\n",
        "    x = Dropout(0.5)(x)\n",
        "    x = Dense(256, activation='relu')(x)\n",
        "    x = Dropout(0.3)(x)\n",
        "    output_layer = Dense(n_classes, activation='softmax')(x)"
      ]
    },
    {
      "cell_type": "code",
      "source": [
        "def create_vgg16_model(input_shape, n_classes, optimizer):\n",
        "    conv_base = VGG16(include_top=False, weights='imagenet', input_shape=input_shape)\n",
        "    x = conv_base.output\n",
        "    x = GlobalAveragePooling2D()(x)\n",
        "    x = Dropout(0.5)(x)\n",
        "    x = Dense(512, activation='relu')(x)\n",
        "    x = Dropout(0.5)(x)\n",
        "    x = Dense(256, activation='relu')(x)\n",
        "    x = Dropout(0.3)(x)\n",
        "    output_layer = Dense(n_classes, activation='softmax')(x)\n",
        "    model = Model(inputs=conv_base.input, outputs=output_layer)\n",
        "    return model"
      ],
      "metadata": {
        "id": "efFPILj0m3yc"
      },
      "execution_count": 272,
      "outputs": []
    },
    {
      "cell_type": "code",
      "source": [
        "input_shape = (224, 224, 3)\n",
        "n_classes = 2\n",
        "optimizer = tf.keras.optimizers.Adam()\n",
        "model = create_vgg16_model(input_shape, n_classes, optimizer)\n",
        "model.compile(optimizer=optimizer, loss='categorical_crossentropy', metrics=['accuracy'])"
      ],
      "metadata": {
        "id": "vMbUnJBYv-r5"
      },
      "execution_count": 273,
      "outputs": []
    },
    {
      "cell_type": "code",
      "execution_count": 274,
      "metadata": {
        "id": "MClvl--uFdCI",
        "colab": {
          "base_uri": "https://localhost:8080/",
          "height": 977
        },
        "outputId": "a16366fb-8c94-48d0-948f-3ab3e989da94"
      },
      "outputs": [
        {
          "output_type": "display_data",
          "data": {
            "text/plain": [
              "\u001b[1mModel: \"functional_18\"\u001b[0m\n"
            ],
            "text/html": [
              "<pre style=\"white-space:pre;overflow-x:auto;line-height:normal;font-family:Menlo,'DejaVu Sans Mono',consolas,'Courier New',monospace\"><span style=\"font-weight: bold\">Model: \"functional_18\"</span>\n",
              "</pre>\n"
            ]
          },
          "metadata": {}
        },
        {
          "output_type": "display_data",
          "data": {
            "text/plain": [
              "┏━━━━━━━━━━━━━━━━━━━━━━━━━━━━━━━━━━━━━━┳━━━━━━━━━━━━━━━━━━━━━━━━━━━━━┳━━━━━━━━━━━━━━━━━┓\n",
              "┃\u001b[1m \u001b[0m\u001b[1mLayer (type)                        \u001b[0m\u001b[1m \u001b[0m┃\u001b[1m \u001b[0m\u001b[1mOutput Shape               \u001b[0m\u001b[1m \u001b[0m┃\u001b[1m \u001b[0m\u001b[1m        Param #\u001b[0m\u001b[1m \u001b[0m┃\n",
              "┡━━━━━━━━━━━━━━━━━━━━━━━━━━━━━━━━━━━━━━╇━━━━━━━━━━━━━━━━━━━━━━━━━━━━━╇━━━━━━━━━━━━━━━━━┩\n",
              "│ input_layer_18 (\u001b[38;5;33mInputLayer\u001b[0m)          │ (\u001b[38;5;45mNone\u001b[0m, \u001b[38;5;34m224\u001b[0m, \u001b[38;5;34m224\u001b[0m, \u001b[38;5;34m3\u001b[0m)         │               \u001b[38;5;34m0\u001b[0m │\n",
              "├──────────────────────────────────────┼─────────────────────────────┼─────────────────┤\n",
              "│ block1_conv1 (\u001b[38;5;33mConv2D\u001b[0m)                │ (\u001b[38;5;45mNone\u001b[0m, \u001b[38;5;34m224\u001b[0m, \u001b[38;5;34m224\u001b[0m, \u001b[38;5;34m64\u001b[0m)        │           \u001b[38;5;34m1,792\u001b[0m │\n",
              "├──────────────────────────────────────┼─────────────────────────────┼─────────────────┤\n",
              "│ block1_conv2 (\u001b[38;5;33mConv2D\u001b[0m)                │ (\u001b[38;5;45mNone\u001b[0m, \u001b[38;5;34m224\u001b[0m, \u001b[38;5;34m224\u001b[0m, \u001b[38;5;34m64\u001b[0m)        │          \u001b[38;5;34m36,928\u001b[0m │\n",
              "├──────────────────────────────────────┼─────────────────────────────┼─────────────────┤\n",
              "│ block1_pool (\u001b[38;5;33mMaxPooling2D\u001b[0m)           │ (\u001b[38;5;45mNone\u001b[0m, \u001b[38;5;34m112\u001b[0m, \u001b[38;5;34m112\u001b[0m, \u001b[38;5;34m64\u001b[0m)        │               \u001b[38;5;34m0\u001b[0m │\n",
              "├──────────────────────────────────────┼─────────────────────────────┼─────────────────┤\n",
              "│ block2_conv1 (\u001b[38;5;33mConv2D\u001b[0m)                │ (\u001b[38;5;45mNone\u001b[0m, \u001b[38;5;34m112\u001b[0m, \u001b[38;5;34m112\u001b[0m, \u001b[38;5;34m128\u001b[0m)       │          \u001b[38;5;34m73,856\u001b[0m │\n",
              "├──────────────────────────────────────┼─────────────────────────────┼─────────────────┤\n",
              "│ block2_conv2 (\u001b[38;5;33mConv2D\u001b[0m)                │ (\u001b[38;5;45mNone\u001b[0m, \u001b[38;5;34m112\u001b[0m, \u001b[38;5;34m112\u001b[0m, \u001b[38;5;34m128\u001b[0m)       │         \u001b[38;5;34m147,584\u001b[0m │\n",
              "├──────────────────────────────────────┼─────────────────────────────┼─────────────────┤\n",
              "│ block2_pool (\u001b[38;5;33mMaxPooling2D\u001b[0m)           │ (\u001b[38;5;45mNone\u001b[0m, \u001b[38;5;34m56\u001b[0m, \u001b[38;5;34m56\u001b[0m, \u001b[38;5;34m128\u001b[0m)         │               \u001b[38;5;34m0\u001b[0m │\n",
              "├──────────────────────────────────────┼─────────────────────────────┼─────────────────┤\n",
              "│ block3_conv1 (\u001b[38;5;33mConv2D\u001b[0m)                │ (\u001b[38;5;45mNone\u001b[0m, \u001b[38;5;34m56\u001b[0m, \u001b[38;5;34m56\u001b[0m, \u001b[38;5;34m256\u001b[0m)         │         \u001b[38;5;34m295,168\u001b[0m │\n",
              "├──────────────────────────────────────┼─────────────────────────────┼─────────────────┤\n",
              "│ block3_conv2 (\u001b[38;5;33mConv2D\u001b[0m)                │ (\u001b[38;5;45mNone\u001b[0m, \u001b[38;5;34m56\u001b[0m, \u001b[38;5;34m56\u001b[0m, \u001b[38;5;34m256\u001b[0m)         │         \u001b[38;5;34m590,080\u001b[0m │\n",
              "├──────────────────────────────────────┼─────────────────────────────┼─────────────────┤\n",
              "│ block3_conv3 (\u001b[38;5;33mConv2D\u001b[0m)                │ (\u001b[38;5;45mNone\u001b[0m, \u001b[38;5;34m56\u001b[0m, \u001b[38;5;34m56\u001b[0m, \u001b[38;5;34m256\u001b[0m)         │         \u001b[38;5;34m590,080\u001b[0m │\n",
              "├──────────────────────────────────────┼─────────────────────────────┼─────────────────┤\n",
              "│ block3_pool (\u001b[38;5;33mMaxPooling2D\u001b[0m)           │ (\u001b[38;5;45mNone\u001b[0m, \u001b[38;5;34m28\u001b[0m, \u001b[38;5;34m28\u001b[0m, \u001b[38;5;34m256\u001b[0m)         │               \u001b[38;5;34m0\u001b[0m │\n",
              "├──────────────────────────────────────┼─────────────────────────────┼─────────────────┤\n",
              "│ block4_conv1 (\u001b[38;5;33mConv2D\u001b[0m)                │ (\u001b[38;5;45mNone\u001b[0m, \u001b[38;5;34m28\u001b[0m, \u001b[38;5;34m28\u001b[0m, \u001b[38;5;34m512\u001b[0m)         │       \u001b[38;5;34m1,180,160\u001b[0m │\n",
              "├──────────────────────────────────────┼─────────────────────────────┼─────────────────┤\n",
              "│ block4_conv2 (\u001b[38;5;33mConv2D\u001b[0m)                │ (\u001b[38;5;45mNone\u001b[0m, \u001b[38;5;34m28\u001b[0m, \u001b[38;5;34m28\u001b[0m, \u001b[38;5;34m512\u001b[0m)         │       \u001b[38;5;34m2,359,808\u001b[0m │\n",
              "├──────────────────────────────────────┼─────────────────────────────┼─────────────────┤\n",
              "│ block4_conv3 (\u001b[38;5;33mConv2D\u001b[0m)                │ (\u001b[38;5;45mNone\u001b[0m, \u001b[38;5;34m28\u001b[0m, \u001b[38;5;34m28\u001b[0m, \u001b[38;5;34m512\u001b[0m)         │       \u001b[38;5;34m2,359,808\u001b[0m │\n",
              "├──────────────────────────────────────┼─────────────────────────────┼─────────────────┤\n",
              "│ block4_pool (\u001b[38;5;33mMaxPooling2D\u001b[0m)           │ (\u001b[38;5;45mNone\u001b[0m, \u001b[38;5;34m14\u001b[0m, \u001b[38;5;34m14\u001b[0m, \u001b[38;5;34m512\u001b[0m)         │               \u001b[38;5;34m0\u001b[0m │\n",
              "├──────────────────────────────────────┼─────────────────────────────┼─────────────────┤\n",
              "│ block5_conv1 (\u001b[38;5;33mConv2D\u001b[0m)                │ (\u001b[38;5;45mNone\u001b[0m, \u001b[38;5;34m14\u001b[0m, \u001b[38;5;34m14\u001b[0m, \u001b[38;5;34m512\u001b[0m)         │       \u001b[38;5;34m2,359,808\u001b[0m │\n",
              "├──────────────────────────────────────┼─────────────────────────────┼─────────────────┤\n",
              "│ block5_conv2 (\u001b[38;5;33mConv2D\u001b[0m)                │ (\u001b[38;5;45mNone\u001b[0m, \u001b[38;5;34m14\u001b[0m, \u001b[38;5;34m14\u001b[0m, \u001b[38;5;34m512\u001b[0m)         │       \u001b[38;5;34m2,359,808\u001b[0m │\n",
              "├──────────────────────────────────────┼─────────────────────────────┼─────────────────┤\n",
              "│ block5_conv3 (\u001b[38;5;33mConv2D\u001b[0m)                │ (\u001b[38;5;45mNone\u001b[0m, \u001b[38;5;34m14\u001b[0m, \u001b[38;5;34m14\u001b[0m, \u001b[38;5;34m512\u001b[0m)         │       \u001b[38;5;34m2,359,808\u001b[0m │\n",
              "├──────────────────────────────────────┼─────────────────────────────┼─────────────────┤\n",
              "│ block5_pool (\u001b[38;5;33mMaxPooling2D\u001b[0m)           │ (\u001b[38;5;45mNone\u001b[0m, \u001b[38;5;34m7\u001b[0m, \u001b[38;5;34m7\u001b[0m, \u001b[38;5;34m512\u001b[0m)           │               \u001b[38;5;34m0\u001b[0m │\n",
              "├──────────────────────────────────────┼─────────────────────────────┼─────────────────┤\n",
              "│ global_average_pooling2d_10          │ (\u001b[38;5;45mNone\u001b[0m, \u001b[38;5;34m512\u001b[0m)                 │               \u001b[38;5;34m0\u001b[0m │\n",
              "│ (\u001b[38;5;33mGlobalAveragePooling2D\u001b[0m)             │                             │                 │\n",
              "├──────────────────────────────────────┼─────────────────────────────┼─────────────────┤\n",
              "│ dropout_30 (\u001b[38;5;33mDropout\u001b[0m)                 │ (\u001b[38;5;45mNone\u001b[0m, \u001b[38;5;34m512\u001b[0m)                 │               \u001b[38;5;34m0\u001b[0m │\n",
              "├──────────────────────────────────────┼─────────────────────────────┼─────────────────┤\n",
              "│ dense_46 (\u001b[38;5;33mDense\u001b[0m)                     │ (\u001b[38;5;45mNone\u001b[0m, \u001b[38;5;34m512\u001b[0m)                 │         \u001b[38;5;34m262,656\u001b[0m │\n",
              "├──────────────────────────────────────┼─────────────────────────────┼─────────────────┤\n",
              "│ dropout_31 (\u001b[38;5;33mDropout\u001b[0m)                 │ (\u001b[38;5;45mNone\u001b[0m, \u001b[38;5;34m512\u001b[0m)                 │               \u001b[38;5;34m0\u001b[0m │\n",
              "├──────────────────────────────────────┼─────────────────────────────┼─────────────────┤\n",
              "│ dense_47 (\u001b[38;5;33mDense\u001b[0m)                     │ (\u001b[38;5;45mNone\u001b[0m, \u001b[38;5;34m256\u001b[0m)                 │         \u001b[38;5;34m131,328\u001b[0m │\n",
              "├──────────────────────────────────────┼─────────────────────────────┼─────────────────┤\n",
              "│ dropout_32 (\u001b[38;5;33mDropout\u001b[0m)                 │ (\u001b[38;5;45mNone\u001b[0m, \u001b[38;5;34m256\u001b[0m)                 │               \u001b[38;5;34m0\u001b[0m │\n",
              "├──────────────────────────────────────┼─────────────────────────────┼─────────────────┤\n",
              "│ dense_48 (\u001b[38;5;33mDense\u001b[0m)                     │ (\u001b[38;5;45mNone\u001b[0m, \u001b[38;5;34m2\u001b[0m)                   │             \u001b[38;5;34m514\u001b[0m │\n",
              "└──────────────────────────────────────┴─────────────────────────────┴─────────────────┘\n"
            ],
            "text/html": [
              "<pre style=\"white-space:pre;overflow-x:auto;line-height:normal;font-family:Menlo,'DejaVu Sans Mono',consolas,'Courier New',monospace\">┏━━━━━━━━━━━━━━━━━━━━━━━━━━━━━━━━━━━━━━┳━━━━━━━━━━━━━━━━━━━━━━━━━━━━━┳━━━━━━━━━━━━━━━━━┓\n",
              "┃<span style=\"font-weight: bold\"> Layer (type)                         </span>┃<span style=\"font-weight: bold\"> Output Shape                </span>┃<span style=\"font-weight: bold\">         Param # </span>┃\n",
              "┡━━━━━━━━━━━━━━━━━━━━━━━━━━━━━━━━━━━━━━╇━━━━━━━━━━━━━━━━━━━━━━━━━━━━━╇━━━━━━━━━━━━━━━━━┩\n",
              "│ input_layer_18 (<span style=\"color: #0087ff; text-decoration-color: #0087ff\">InputLayer</span>)          │ (<span style=\"color: #00d7ff; text-decoration-color: #00d7ff\">None</span>, <span style=\"color: #00af00; text-decoration-color: #00af00\">224</span>, <span style=\"color: #00af00; text-decoration-color: #00af00\">224</span>, <span style=\"color: #00af00; text-decoration-color: #00af00\">3</span>)         │               <span style=\"color: #00af00; text-decoration-color: #00af00\">0</span> │\n",
              "├──────────────────────────────────────┼─────────────────────────────┼─────────────────┤\n",
              "│ block1_conv1 (<span style=\"color: #0087ff; text-decoration-color: #0087ff\">Conv2D</span>)                │ (<span style=\"color: #00d7ff; text-decoration-color: #00d7ff\">None</span>, <span style=\"color: #00af00; text-decoration-color: #00af00\">224</span>, <span style=\"color: #00af00; text-decoration-color: #00af00\">224</span>, <span style=\"color: #00af00; text-decoration-color: #00af00\">64</span>)        │           <span style=\"color: #00af00; text-decoration-color: #00af00\">1,792</span> │\n",
              "├──────────────────────────────────────┼─────────────────────────────┼─────────────────┤\n",
              "│ block1_conv2 (<span style=\"color: #0087ff; text-decoration-color: #0087ff\">Conv2D</span>)                │ (<span style=\"color: #00d7ff; text-decoration-color: #00d7ff\">None</span>, <span style=\"color: #00af00; text-decoration-color: #00af00\">224</span>, <span style=\"color: #00af00; text-decoration-color: #00af00\">224</span>, <span style=\"color: #00af00; text-decoration-color: #00af00\">64</span>)        │          <span style=\"color: #00af00; text-decoration-color: #00af00\">36,928</span> │\n",
              "├──────────────────────────────────────┼─────────────────────────────┼─────────────────┤\n",
              "│ block1_pool (<span style=\"color: #0087ff; text-decoration-color: #0087ff\">MaxPooling2D</span>)           │ (<span style=\"color: #00d7ff; text-decoration-color: #00d7ff\">None</span>, <span style=\"color: #00af00; text-decoration-color: #00af00\">112</span>, <span style=\"color: #00af00; text-decoration-color: #00af00\">112</span>, <span style=\"color: #00af00; text-decoration-color: #00af00\">64</span>)        │               <span style=\"color: #00af00; text-decoration-color: #00af00\">0</span> │\n",
              "├──────────────────────────────────────┼─────────────────────────────┼─────────────────┤\n",
              "│ block2_conv1 (<span style=\"color: #0087ff; text-decoration-color: #0087ff\">Conv2D</span>)                │ (<span style=\"color: #00d7ff; text-decoration-color: #00d7ff\">None</span>, <span style=\"color: #00af00; text-decoration-color: #00af00\">112</span>, <span style=\"color: #00af00; text-decoration-color: #00af00\">112</span>, <span style=\"color: #00af00; text-decoration-color: #00af00\">128</span>)       │          <span style=\"color: #00af00; text-decoration-color: #00af00\">73,856</span> │\n",
              "├──────────────────────────────────────┼─────────────────────────────┼─────────────────┤\n",
              "│ block2_conv2 (<span style=\"color: #0087ff; text-decoration-color: #0087ff\">Conv2D</span>)                │ (<span style=\"color: #00d7ff; text-decoration-color: #00d7ff\">None</span>, <span style=\"color: #00af00; text-decoration-color: #00af00\">112</span>, <span style=\"color: #00af00; text-decoration-color: #00af00\">112</span>, <span style=\"color: #00af00; text-decoration-color: #00af00\">128</span>)       │         <span style=\"color: #00af00; text-decoration-color: #00af00\">147,584</span> │\n",
              "├──────────────────────────────────────┼─────────────────────────────┼─────────────────┤\n",
              "│ block2_pool (<span style=\"color: #0087ff; text-decoration-color: #0087ff\">MaxPooling2D</span>)           │ (<span style=\"color: #00d7ff; text-decoration-color: #00d7ff\">None</span>, <span style=\"color: #00af00; text-decoration-color: #00af00\">56</span>, <span style=\"color: #00af00; text-decoration-color: #00af00\">56</span>, <span style=\"color: #00af00; text-decoration-color: #00af00\">128</span>)         │               <span style=\"color: #00af00; text-decoration-color: #00af00\">0</span> │\n",
              "├──────────────────────────────────────┼─────────────────────────────┼─────────────────┤\n",
              "│ block3_conv1 (<span style=\"color: #0087ff; text-decoration-color: #0087ff\">Conv2D</span>)                │ (<span style=\"color: #00d7ff; text-decoration-color: #00d7ff\">None</span>, <span style=\"color: #00af00; text-decoration-color: #00af00\">56</span>, <span style=\"color: #00af00; text-decoration-color: #00af00\">56</span>, <span style=\"color: #00af00; text-decoration-color: #00af00\">256</span>)         │         <span style=\"color: #00af00; text-decoration-color: #00af00\">295,168</span> │\n",
              "├──────────────────────────────────────┼─────────────────────────────┼─────────────────┤\n",
              "│ block3_conv2 (<span style=\"color: #0087ff; text-decoration-color: #0087ff\">Conv2D</span>)                │ (<span style=\"color: #00d7ff; text-decoration-color: #00d7ff\">None</span>, <span style=\"color: #00af00; text-decoration-color: #00af00\">56</span>, <span style=\"color: #00af00; text-decoration-color: #00af00\">56</span>, <span style=\"color: #00af00; text-decoration-color: #00af00\">256</span>)         │         <span style=\"color: #00af00; text-decoration-color: #00af00\">590,080</span> │\n",
              "├──────────────────────────────────────┼─────────────────────────────┼─────────────────┤\n",
              "│ block3_conv3 (<span style=\"color: #0087ff; text-decoration-color: #0087ff\">Conv2D</span>)                │ (<span style=\"color: #00d7ff; text-decoration-color: #00d7ff\">None</span>, <span style=\"color: #00af00; text-decoration-color: #00af00\">56</span>, <span style=\"color: #00af00; text-decoration-color: #00af00\">56</span>, <span style=\"color: #00af00; text-decoration-color: #00af00\">256</span>)         │         <span style=\"color: #00af00; text-decoration-color: #00af00\">590,080</span> │\n",
              "├──────────────────────────────────────┼─────────────────────────────┼─────────────────┤\n",
              "│ block3_pool (<span style=\"color: #0087ff; text-decoration-color: #0087ff\">MaxPooling2D</span>)           │ (<span style=\"color: #00d7ff; text-decoration-color: #00d7ff\">None</span>, <span style=\"color: #00af00; text-decoration-color: #00af00\">28</span>, <span style=\"color: #00af00; text-decoration-color: #00af00\">28</span>, <span style=\"color: #00af00; text-decoration-color: #00af00\">256</span>)         │               <span style=\"color: #00af00; text-decoration-color: #00af00\">0</span> │\n",
              "├──────────────────────────────────────┼─────────────────────────────┼─────────────────┤\n",
              "│ block4_conv1 (<span style=\"color: #0087ff; text-decoration-color: #0087ff\">Conv2D</span>)                │ (<span style=\"color: #00d7ff; text-decoration-color: #00d7ff\">None</span>, <span style=\"color: #00af00; text-decoration-color: #00af00\">28</span>, <span style=\"color: #00af00; text-decoration-color: #00af00\">28</span>, <span style=\"color: #00af00; text-decoration-color: #00af00\">512</span>)         │       <span style=\"color: #00af00; text-decoration-color: #00af00\">1,180,160</span> │\n",
              "├──────────────────────────────────────┼─────────────────────────────┼─────────────────┤\n",
              "│ block4_conv2 (<span style=\"color: #0087ff; text-decoration-color: #0087ff\">Conv2D</span>)                │ (<span style=\"color: #00d7ff; text-decoration-color: #00d7ff\">None</span>, <span style=\"color: #00af00; text-decoration-color: #00af00\">28</span>, <span style=\"color: #00af00; text-decoration-color: #00af00\">28</span>, <span style=\"color: #00af00; text-decoration-color: #00af00\">512</span>)         │       <span style=\"color: #00af00; text-decoration-color: #00af00\">2,359,808</span> │\n",
              "├──────────────────────────────────────┼─────────────────────────────┼─────────────────┤\n",
              "│ block4_conv3 (<span style=\"color: #0087ff; text-decoration-color: #0087ff\">Conv2D</span>)                │ (<span style=\"color: #00d7ff; text-decoration-color: #00d7ff\">None</span>, <span style=\"color: #00af00; text-decoration-color: #00af00\">28</span>, <span style=\"color: #00af00; text-decoration-color: #00af00\">28</span>, <span style=\"color: #00af00; text-decoration-color: #00af00\">512</span>)         │       <span style=\"color: #00af00; text-decoration-color: #00af00\">2,359,808</span> │\n",
              "├──────────────────────────────────────┼─────────────────────────────┼─────────────────┤\n",
              "│ block4_pool (<span style=\"color: #0087ff; text-decoration-color: #0087ff\">MaxPooling2D</span>)           │ (<span style=\"color: #00d7ff; text-decoration-color: #00d7ff\">None</span>, <span style=\"color: #00af00; text-decoration-color: #00af00\">14</span>, <span style=\"color: #00af00; text-decoration-color: #00af00\">14</span>, <span style=\"color: #00af00; text-decoration-color: #00af00\">512</span>)         │               <span style=\"color: #00af00; text-decoration-color: #00af00\">0</span> │\n",
              "├──────────────────────────────────────┼─────────────────────────────┼─────────────────┤\n",
              "│ block5_conv1 (<span style=\"color: #0087ff; text-decoration-color: #0087ff\">Conv2D</span>)                │ (<span style=\"color: #00d7ff; text-decoration-color: #00d7ff\">None</span>, <span style=\"color: #00af00; text-decoration-color: #00af00\">14</span>, <span style=\"color: #00af00; text-decoration-color: #00af00\">14</span>, <span style=\"color: #00af00; text-decoration-color: #00af00\">512</span>)         │       <span style=\"color: #00af00; text-decoration-color: #00af00\">2,359,808</span> │\n",
              "├──────────────────────────────────────┼─────────────────────────────┼─────────────────┤\n",
              "│ block5_conv2 (<span style=\"color: #0087ff; text-decoration-color: #0087ff\">Conv2D</span>)                │ (<span style=\"color: #00d7ff; text-decoration-color: #00d7ff\">None</span>, <span style=\"color: #00af00; text-decoration-color: #00af00\">14</span>, <span style=\"color: #00af00; text-decoration-color: #00af00\">14</span>, <span style=\"color: #00af00; text-decoration-color: #00af00\">512</span>)         │       <span style=\"color: #00af00; text-decoration-color: #00af00\">2,359,808</span> │\n",
              "├──────────────────────────────────────┼─────────────────────────────┼─────────────────┤\n",
              "│ block5_conv3 (<span style=\"color: #0087ff; text-decoration-color: #0087ff\">Conv2D</span>)                │ (<span style=\"color: #00d7ff; text-decoration-color: #00d7ff\">None</span>, <span style=\"color: #00af00; text-decoration-color: #00af00\">14</span>, <span style=\"color: #00af00; text-decoration-color: #00af00\">14</span>, <span style=\"color: #00af00; text-decoration-color: #00af00\">512</span>)         │       <span style=\"color: #00af00; text-decoration-color: #00af00\">2,359,808</span> │\n",
              "├──────────────────────────────────────┼─────────────────────────────┼─────────────────┤\n",
              "│ block5_pool (<span style=\"color: #0087ff; text-decoration-color: #0087ff\">MaxPooling2D</span>)           │ (<span style=\"color: #00d7ff; text-decoration-color: #00d7ff\">None</span>, <span style=\"color: #00af00; text-decoration-color: #00af00\">7</span>, <span style=\"color: #00af00; text-decoration-color: #00af00\">7</span>, <span style=\"color: #00af00; text-decoration-color: #00af00\">512</span>)           │               <span style=\"color: #00af00; text-decoration-color: #00af00\">0</span> │\n",
              "├──────────────────────────────────────┼─────────────────────────────┼─────────────────┤\n",
              "│ global_average_pooling2d_10          │ (<span style=\"color: #00d7ff; text-decoration-color: #00d7ff\">None</span>, <span style=\"color: #00af00; text-decoration-color: #00af00\">512</span>)                 │               <span style=\"color: #00af00; text-decoration-color: #00af00\">0</span> │\n",
              "│ (<span style=\"color: #0087ff; text-decoration-color: #0087ff\">GlobalAveragePooling2D</span>)             │                             │                 │\n",
              "├──────────────────────────────────────┼─────────────────────────────┼─────────────────┤\n",
              "│ dropout_30 (<span style=\"color: #0087ff; text-decoration-color: #0087ff\">Dropout</span>)                 │ (<span style=\"color: #00d7ff; text-decoration-color: #00d7ff\">None</span>, <span style=\"color: #00af00; text-decoration-color: #00af00\">512</span>)                 │               <span style=\"color: #00af00; text-decoration-color: #00af00\">0</span> │\n",
              "├──────────────────────────────────────┼─────────────────────────────┼─────────────────┤\n",
              "│ dense_46 (<span style=\"color: #0087ff; text-decoration-color: #0087ff\">Dense</span>)                     │ (<span style=\"color: #00d7ff; text-decoration-color: #00d7ff\">None</span>, <span style=\"color: #00af00; text-decoration-color: #00af00\">512</span>)                 │         <span style=\"color: #00af00; text-decoration-color: #00af00\">262,656</span> │\n",
              "├──────────────────────────────────────┼─────────────────────────────┼─────────────────┤\n",
              "│ dropout_31 (<span style=\"color: #0087ff; text-decoration-color: #0087ff\">Dropout</span>)                 │ (<span style=\"color: #00d7ff; text-decoration-color: #00d7ff\">None</span>, <span style=\"color: #00af00; text-decoration-color: #00af00\">512</span>)                 │               <span style=\"color: #00af00; text-decoration-color: #00af00\">0</span> │\n",
              "├──────────────────────────────────────┼─────────────────────────────┼─────────────────┤\n",
              "│ dense_47 (<span style=\"color: #0087ff; text-decoration-color: #0087ff\">Dense</span>)                     │ (<span style=\"color: #00d7ff; text-decoration-color: #00d7ff\">None</span>, <span style=\"color: #00af00; text-decoration-color: #00af00\">256</span>)                 │         <span style=\"color: #00af00; text-decoration-color: #00af00\">131,328</span> │\n",
              "├──────────────────────────────────────┼─────────────────────────────┼─────────────────┤\n",
              "│ dropout_32 (<span style=\"color: #0087ff; text-decoration-color: #0087ff\">Dropout</span>)                 │ (<span style=\"color: #00d7ff; text-decoration-color: #00d7ff\">None</span>, <span style=\"color: #00af00; text-decoration-color: #00af00\">256</span>)                 │               <span style=\"color: #00af00; text-decoration-color: #00af00\">0</span> │\n",
              "├──────────────────────────────────────┼─────────────────────────────┼─────────────────┤\n",
              "│ dense_48 (<span style=\"color: #0087ff; text-decoration-color: #0087ff\">Dense</span>)                     │ (<span style=\"color: #00d7ff; text-decoration-color: #00d7ff\">None</span>, <span style=\"color: #00af00; text-decoration-color: #00af00\">2</span>)                   │             <span style=\"color: #00af00; text-decoration-color: #00af00\">514</span> │\n",
              "└──────────────────────────────────────┴─────────────────────────────┴─────────────────┘\n",
              "</pre>\n"
            ]
          },
          "metadata": {}
        },
        {
          "output_type": "display_data",
          "data": {
            "text/plain": [
              "\u001b[1m Total params: \u001b[0m\u001b[38;5;34m15,109,186\u001b[0m (57.64 MB)\n"
            ],
            "text/html": [
              "<pre style=\"white-space:pre;overflow-x:auto;line-height:normal;font-family:Menlo,'DejaVu Sans Mono',consolas,'Courier New',monospace\"><span style=\"font-weight: bold\"> Total params: </span><span style=\"color: #00af00; text-decoration-color: #00af00\">15,109,186</span> (57.64 MB)\n",
              "</pre>\n"
            ]
          },
          "metadata": {}
        },
        {
          "output_type": "display_data",
          "data": {
            "text/plain": [
              "\u001b[1m Trainable params: \u001b[0m\u001b[38;5;34m15,109,186\u001b[0m (57.64 MB)\n"
            ],
            "text/html": [
              "<pre style=\"white-space:pre;overflow-x:auto;line-height:normal;font-family:Menlo,'DejaVu Sans Mono',consolas,'Courier New',monospace\"><span style=\"font-weight: bold\"> Trainable params: </span><span style=\"color: #00af00; text-decoration-color: #00af00\">15,109,186</span> (57.64 MB)\n",
              "</pre>\n"
            ]
          },
          "metadata": {}
        },
        {
          "output_type": "display_data",
          "data": {
            "text/plain": [
              "\u001b[1m Non-trainable params: \u001b[0m\u001b[38;5;34m0\u001b[0m (0.00 B)\n"
            ],
            "text/html": [
              "<pre style=\"white-space:pre;overflow-x:auto;line-height:normal;font-family:Menlo,'DejaVu Sans Mono',consolas,'Courier New',monospace\"><span style=\"font-weight: bold\"> Non-trainable params: </span><span style=\"color: #00af00; text-decoration-color: #00af00\">0</span> (0.00 B)\n",
              "</pre>\n"
            ]
          },
          "metadata": {}
        }
      ],
      "source": [
        "model.summary()\n",
        "# removed the indent from return model as it is not part of any function and was causing the error"
      ]
    },
    {
      "cell_type": "code",
      "execution_count": 275,
      "metadata": {
        "id": "-xyum5wRCxSY"
      },
      "outputs": [],
      "source": [
        "input_shape = (224, 224, 3)\n",
        "opt = Adam(learning_rate=0.00001)\n",
        "n_classes = len('train_data.class_indices')"
      ]
    },
    {
      "cell_type": "code",
      "execution_count": 276,
      "metadata": {
        "id": "il798kj5C6kj"
      },
      "outputs": [],
      "source": [
        "# Create the VGG16 model\n",
        "model = create_vgg16_model(input_shape, n_classes, opt)\n"
      ]
    },
    {
      "cell_type": "code",
      "execution_count": 277,
      "metadata": {
        "id": "FfZXMJHfC6aD"
      },
      "outputs": [],
      "source": [
        "# Model saving and early stopping configuration\n",
        "checkpoint = ModelCheckpoint(\"/content/drive/MyDrive/saved_models/vgg16_model.keras\", monitor='val_accuracy', verbose=1, save_best_only=True, mode='auto')\n",
        "early_stop = EarlyStopping(monitor='val_accuracy', min_delta=0, patience=20, verbose=1, mode='auto', restore_best_weights=True)"
      ]
    },
    {
      "cell_type": "code",
      "execution_count": 278,
      "metadata": {
        "id": "kGeIij_ywe6N",
        "colab": {
          "base_uri": "https://localhost:8080/"
        },
        "outputId": "4043830c-be55-4ba2-8d21-21871624a83b"
      },
      "outputs": [
        {
          "output_type": "stream",
          "name": "stdout",
          "text": [
            "Found 235 images belonging to 3 classes.\n"
          ]
        }
      ],
      "source": [
        "from tensorflow.keras.preprocessing.image import ImageDataGenerator\n",
        "\n",
        "# Assign the path to your validation data directory to the variable\n",
        "validation_data_dir = '/content/drive/MyDrive/Training 70% augmented Testing 30%/Testing'\n",
        "\n",
        "# Set your desired values for image width and height\n",
        "img_width = 224\n",
        "img_height = 224\n",
        "\n",
        "# Set the batch size\n",
        "batch_size = 32 # Example value, adjust as needed\n",
        "\n",
        "# Create an instance of ImageDataGenerator\n",
        "datagen = ImageDataGenerator(\n",
        "    # You can add data augmentation options here if needed, like:\n",
        "    # rotation_range=20,\n",
        "    # width_shift_range=0.2,\n",
        "    # height_shift_range=0.2,\n",
        "    # shear_range=0.2,\n",
        "    # zoom_range=0.2,\n",
        "    # horizontal_flip=True,\n",
        "    # fill_mode='nearest'\n",
        ")\n",
        "\n",
        "val_data = datagen.flow_from_directory(\n",
        "    validation_data_dir,\n",
        "    target_size=(img_width, img_height),\n",
        "    batch_size=batch_size,\n",
        "    class_mode='categorical'\n",
        ")"
      ]
    },
    {
      "cell_type": "code",
      "execution_count": 279,
      "metadata": {
        "id": "ucn_8e1uve-0",
        "colab": {
          "base_uri": "https://localhost:8080/"
        },
        "outputId": "33c21385-92cb-4c72-8446-f36ab6f1177e"
      },
      "outputs": [
        {
          "output_type": "stream",
          "name": "stdout",
          "text": [
            "Found 235 images belonging to 3 classes.\n"
          ]
        }
      ],
      "source": [
        "# Assuming 'validation_data_dir' is the path to your validation data directory\n",
        "val_data = datagen.flow_from_directory(\n",
        "    validation_data_dir,\n",
        "    target_size=(img_width, img_height),\n",
        "    batch_size=batch_size,\n",
        "    class_mode='categorical'\n",
        ")"
      ]
    },
    {
      "cell_type": "code",
      "execution_count": 280,
      "metadata": {
        "id": "WZvHK9etDA5K"
      },
      "outputs": [],
      "source": [
        "# Train the model\n",
        "STEP_SIZE_TRAIN = train_data.n // train_data.batch_size\n",
        "STEP_SIZE_VALID = val_data.n // val_data.batch_size"
      ]
    },
    {
      "cell_type": "code",
      "execution_count": 281,
      "metadata": {
        "id": "7i7csji7H28i",
        "colab": {
          "base_uri": "https://localhost:8080/"
        },
        "outputId": "74611bf1-4ff5-4c84-c17f-7ea2e563adf8"
      },
      "outputs": [
        {
          "output_type": "stream",
          "name": "stdout",
          "text": [
            "Drive already mounted at /content/drive; to attempt to forcibly remount, call drive.mount(\"/content/drive\", force_remount=True).\n",
            "Contents of /content/drive/MyDrive/Training 70% augmented Testing 30%:\n",
            "['Testing', 'Augmenttaion Training']\n"
          ]
        }
      ],
      "source": [
        "from google.colab import drive\n",
        "\n",
        "# Mount Google Drive to the default location\n",
        "drive.mount('/content/drive')\n",
        "\n",
        "# Ensure the parent directory exists (after mounting)\n",
        "dataset_folder_path = '/content/drive/MyDrive/Training 70% augmented Testing 30%'\n",
        "\n",
        "\n",
        "# Check if the folder exists and list its contents\n",
        "import os\n",
        "if os.path.exists(dataset_folder_path):\n",
        "    print(f\"Contents of {dataset_folder_path}:\")\n",
        "    print(os.listdir(dataset_folder_path))\n",
        "else:\n",
        "    print(f\"Folder {dataset_folder_path} does not exist.\")\n"
      ]
    },
    {
      "cell_type": "code",
      "execution_count": 282,
      "metadata": {
        "id": "0nmKru3UFkZB",
        "colab": {
          "base_uri": "https://localhost:8080/"
        },
        "outputId": "62151b1a-7667-4fd6-cf2d-54ec7ff7ee18"
      },
      "outputs": [
        {
          "output_type": "stream",
          "name": "stdout",
          "text": [
            "Directory exists: /content/drive/MyDrive/Training 70% augmented Testing 30%/Augmenttaion Training\n",
            "Contents: ['normal', 'malignant', 'benign']\n"
          ]
        }
      ],
      "source": [
        "import os\n",
        "\n",
        "train_data_dir = '/content/drive/MyDrive/Training 70% augmented Testing 30%/Augmenttaion Training'\n",
        "# Check if the directory exists\n",
        "if os.path.exists(train_data_dir):\n",
        "    print(f\"Directory exists: {train_data_dir}\")\n",
        "    print(\"Contents:\", os.listdir(train_data_dir))  # List the contents of the directory\n",
        "else:\n",
        "    print(f\"Directory not found: {train_data_dir}\")\n"
      ]
    },
    {
      "cell_type": "code",
      "execution_count": 283,
      "metadata": {
        "id": "HnkQVPZ5F0Q8"
      },
      "outputs": [],
      "source": [
        "train_data_dir = '/content/drive/MyDrive/Training 70% augmented Testing 30%/Augmenttaion Training'\n"
      ]
    },
    {
      "cell_type": "code",
      "execution_count": 284,
      "metadata": {
        "id": "rypmcQxSK4y-",
        "colab": {
          "base_uri": "https://localhost:8080/"
        },
        "outputId": "85587dd2-28de-4672-b288-ae3d0c3a8991"
      },
      "outputs": [
        {
          "output_type": "stream",
          "name": "stdout",
          "text": [
            "Directory exists: /content/drive/MyDrive/Training 70% augmented Testing 30%/Augmenttaion Training\n",
            "Contents: ['normal', 'malignant', 'benign']\n"
          ]
        }
      ],
      "source": [
        "import os\n",
        "\n",
        "train_data_dir = '/content/drive/MyDrive/Training 70% augmented Testing 30%/Augmenttaion Training'\n",
        "\n",
        "\n",
        "# Check if the directory exists\n",
        "if os.path.exists(train_data_dir):\n",
        "    print(f\"Directory exists: {train_data_dir}\")\n",
        "    print(\"Contents:\", os.listdir(train_data_dir))  # List the contents of the directory\n",
        "else:\n",
        "    print(f\"Directory not found: {train_data_dir}\")\n"
      ]
    },
    {
      "cell_type": "code",
      "execution_count": 285,
      "metadata": {
        "id": "ffEFYhrJnYuE",
        "colab": {
          "base_uri": "https://localhost:8080/"
        },
        "outputId": "98c5fe9f-810c-4a5e-d19c-0a88fbf88211"
      },
      "outputs": [
        {
          "output_type": "stream",
          "name": "stdout",
          "text": [
            "Drive already mounted at /content/drive; to attempt to forcibly remount, call drive.mount(\"/content/drive\", force_remount=True).\n"
          ]
        }
      ],
      "source": [
        "from google.colab import drive\n",
        "drive.mount('/content/drive')"
      ]
    },
    {
      "cell_type": "code",
      "execution_count": 286,
      "metadata": {
        "id": "glORj-92rHaw"
      },
      "outputs": [],
      "source": [
        "train_data_dir = '/content/drive/MyDrive/Training 70% augmented Testing 30%/Augmenttaion Training'"
      ]
    },
    {
      "cell_type": "code",
      "execution_count": 287,
      "metadata": {
        "id": "KFadhDwxrHOB",
        "colab": {
          "base_uri": "https://localhost:8080/"
        },
        "outputId": "d28fa90f-87de-41cf-956d-cb1f3ff4c59e"
      },
      "outputs": [
        {
          "output_type": "stream",
          "name": "stdout",
          "text": [
            "Found 4388 images belonging to 3 classes.\n"
          ]
        }
      ],
      "source": [
        "from tensorflow.keras.preprocessing.image import ImageDataGenerator\n",
        "\n",
        "# Create an ImageDataGenerator instance\n",
        "# You can customize the augmentation parameters as needed\n",
        "train_datagen = ImageDataGenerator(\n",
        "    rescale=1./255,  # Example preprocessing - normalize pixel values\n",
        "    shear_range=0.2,\n",
        "    zoom_range=0.2,\n",
        "    horizontal_flip=True # removed extra indent\n",
        ")\n",
        "\n",
        "# Load the training data\n",
        "train_data = train_datagen.flow_from_directory(\n",
        "    '/content/drive/MyDrive/Training 70% augmented Testing 30%/Augmenttaion Training',\n",
        "    target_size=(224, 224) # Moved target_size to flow_from_directory\n",
        ")"
      ]
    },
    {
      "cell_type": "code",
      "execution_count": 288,
      "metadata": {
        "id": "Z2t03kfzK7Pi"
      },
      "outputs": [],
      "source": [
        "# Import the required module\n",
        "from tensorflow.keras.optimizers import Adam\n",
        "\n",
        "# Define the optimizer\n",
        "opt = Adam()\n",
        "\n",
        "# Create the VGG16 model\n",
        "model = create_vgg16_model(input_shape, n_classes, opt)"
      ]
    },
    {
      "cell_type": "code",
      "execution_count": 289,
      "metadata": {
        "id": "AVV-NhelNCVR"
      },
      "outputs": [],
      "source": [
        "# Model saving and early stopping configuration\n",
        "checkpoint = ModelCheckpoint(\"/content/drive/MyDrive/saved_models/vgg16_model.keras\", monitor='val_accuracy', verbose=1, save_best_only=True, mode='auto')\n",
        "early_stop = EarlyStopping(monitor='val_accuracy', min_delta=0, patience=20, verbose=1, mode='auto', restore_best_weights=True)\n"
      ]
    },
    {
      "cell_type": "code",
      "execution_count": 290,
      "metadata": {
        "id": "7j-qsiUONFCE"
      },
      "outputs": [],
      "source": [
        "# Train the model\n",
        "STEP_SIZE_TRAIN = train_data.n // train_data.batch_size\n",
        "STEP_SIZE_VALID = val_data.n // val_data.batch_size"
      ]
    },
    {
      "cell_type": "code",
      "execution_count": 291,
      "metadata": {
        "id": "oX_-CGJcSDgU"
      },
      "outputs": [],
      "source": [
        "# Define a checkpoint directory\n",
        "checkpoint_dir = '/content/drive/MyDrive/checkpoints_tf'\n",
        "os.makedirs(checkpoint_dir, exist_ok=True)\n",
        "\n",
        "# Create a checkpoint object\n",
        "checkpoint = tf.train.Checkpoint(optimizer=opt, model=model)\n",
        "\n",
        "# Define a checkpoint manager to manage multiple checkpoints\n",
        "checkpoint_manager = tf.train.CheckpointManager(\n",
        "    checkpoint, checkpoint_dir, max_to_keep=5  # Keep last 5 checkpoints\n",
        ")\n"
      ]
    },
    {
      "cell_type": "markdown",
      "metadata": {
        "id": "scBc3HHxaXpI"
      },
      "source": [
        "# First Time use following line of code\n",
        "### No need after code break"
      ]
    },
    {
      "cell_type": "code",
      "execution_count": 292,
      "metadata": {
        "id": "sKpYA0NdWRUD"
      },
      "outputs": [],
      "source": [
        "from tensorflow.keras.callbacks import Callback"
      ]
    },
    {
      "cell_type": "code",
      "execution_count": 293,
      "metadata": {
        "id": "TzcZxxYrTeXZ"
      },
      "outputs": [],
      "source": [
        "# Define a custom callback to save checkpoints\n",
        "class CustomCheckpointCallback(Callback):\n",
        "    def on_epoch_end(self, epoch, logs=None):\n",
        "        checkpoint_manager.save()\n",
        "        print(f\"\\nCheckpoint saved at epoch {epoch + 1}\")\n",
        "\n"
      ]
    },
    {
      "cell_type": "code",
      "execution_count": 294,
      "metadata": {
        "id": "_hxExFAqQM57",
        "colab": {
          "base_uri": "https://localhost:8080/"
        },
        "outputId": "817014c0-4be1-40a4-9909-d97e59b3709c"
      },
      "outputs": [
        {
          "output_type": "stream",
          "name": "stdout",
          "text": [
            "Epoch 1/10\n",
            "\u001b[1m1875/1875\u001b[0m \u001b[32m━━━━━━━━━━━━━━━━━━━━\u001b[0m\u001b[37m\u001b[0m \u001b[1m5s\u001b[0m 2ms/step - accuracy: 0.8631 - loss: 0.4953 - val_accuracy: 0.9499 - val_loss: 0.1683\n",
            "Epoch 2/10\n",
            "\u001b[1m1875/1875\u001b[0m \u001b[32m━━━━━━━━━━━━━━━━━━━━\u001b[0m\u001b[37m\u001b[0m \u001b[1m5s\u001b[0m 2ms/step - accuracy: 0.9558 - loss: 0.1535 - val_accuracy: 0.9637 - val_loss: 0.1180\n",
            "Epoch 3/10\n",
            "\u001b[1m1875/1875\u001b[0m \u001b[32m━━━━━━━━━━━━━━━━━━━━\u001b[0m\u001b[37m\u001b[0m \u001b[1m3s\u001b[0m 2ms/step - accuracy: 0.9694 - loss: 0.1065 - val_accuracy: 0.9703 - val_loss: 0.1006\n",
            "Epoch 4/10\n",
            "\u001b[1m1875/1875\u001b[0m \u001b[32m━━━━━━━━━━━━━━━━━━━━\u001b[0m\u001b[37m\u001b[0m \u001b[1m5s\u001b[0m 2ms/step - accuracy: 0.9749 - loss: 0.0829 - val_accuracy: 0.9714 - val_loss: 0.0917\n",
            "Epoch 5/10\n",
            "\u001b[1m1875/1875\u001b[0m \u001b[32m━━━━━━━━━━━━━━━━━━━━\u001b[0m\u001b[37m\u001b[0m \u001b[1m4s\u001b[0m 2ms/step - accuracy: 0.9799 - loss: 0.0660 - val_accuracy: 0.9754 - val_loss: 0.0854\n",
            "Epoch 6/10\n",
            "\u001b[1m1875/1875\u001b[0m \u001b[32m━━━━━━━━━━━━━━━━━━━━\u001b[0m\u001b[37m\u001b[0m \u001b[1m4s\u001b[0m 2ms/step - accuracy: 0.9846 - loss: 0.0523 - val_accuracy: 0.9728 - val_loss: 0.0862\n",
            "Epoch 7/10\n",
            "\u001b[1m1875/1875\u001b[0m \u001b[32m━━━━━━━━━━━━━━━━━━━━\u001b[0m\u001b[37m\u001b[0m \u001b[1m5s\u001b[0m 2ms/step - accuracy: 0.9869 - loss: 0.0442 - val_accuracy: 0.9738 - val_loss: 0.0887\n",
            "Epoch 8/10\n",
            "\u001b[1m1875/1875\u001b[0m \u001b[32m━━━━━━━━━━━━━━━━━━━━\u001b[0m\u001b[37m\u001b[0m \u001b[1m6s\u001b[0m 2ms/step - accuracy: 0.9882 - loss: 0.0391 - val_accuracy: 0.9755 - val_loss: 0.0815\n",
            "Epoch 9/10\n",
            "\u001b[1m1875/1875\u001b[0m \u001b[32m━━━━━━━━━━━━━━━━━━━━\u001b[0m\u001b[37m\u001b[0m \u001b[1m4s\u001b[0m 2ms/step - accuracy: 0.9902 - loss: 0.0331 - val_accuracy: 0.9755 - val_loss: 0.0850\n",
            "Epoch 10/10\n",
            "\u001b[1m1875/1875\u001b[0m \u001b[32m━━━━━━━━━━━━━━━━━━━━\u001b[0m\u001b[37m\u001b[0m \u001b[1m3s\u001b[0m 2ms/step - accuracy: 0.9919 - loss: 0.0275 - val_accuracy: 0.9763 - val_loss: 0.0881\n"
          ]
        },
        {
          "output_type": "execute_result",
          "data": {
            "text/plain": [
              "<keras.src.callbacks.history.History at 0x782001e7f370>"
            ]
          },
          "metadata": {},
          "execution_count": 294
        }
      ],
      "source": [
        "# Define the same model structure again\n",
        "model = tf.keras.models.Sequential([\n",
        "    tf.keras.layers.Flatten(input_shape=(28, 28, 1)), # Flatten the 28x28 image\n",
        "    tf.keras.layers.Dense(64, activation='relu'),\n",
        "    tf.keras.layers.Dense(10, activation='softmax')\n",
        "])\n",
        "\n",
        "# Compile the model\n",
        "model.compile(optimizer='adam', loss='sparse_categorical_crossentropy', metrics=['accuracy'])\n",
        "\n",
        "# Load the saved weights\n",
        "#model.load_weights(\"/content/checkpoint.pth\")\n",
        "\n",
        "# Load the MNIST dataset\n",
        "(train_data, train_labels), (test_data, test_labels) = tf.keras.datasets.mnist.load_data()\n",
        "\n",
        "# Preprocess the data (example)\n",
        "train_data = train_data.reshape((60000, 28, 28, 1))\n",
        "test_data = test_data.reshape((10000, 28, 28, 1))\n",
        "train_data = train_data.astype('float32') / 255.0\n",
        "test_data = test_data.astype('float32') / 255.0\n",
        "\n",
        "# Continue training\n",
        "model.fit(train_data, train_labels, initial_epoch=0, epochs=10, validation_data=(test_data, test_labels))"
      ]
    },
    {
      "cell_type": "markdown",
      "metadata": {
        "id": "U7uHADnpa1Sn"
      },
      "source": [
        "# Break the check points"
      ]
    },
    {
      "cell_type": "code",
      "execution_count": 295,
      "metadata": {
        "id": "VnrGnsdETa1A",
        "colab": {
          "base_uri": "https://localhost:8080/"
        },
        "outputId": "61d1be47-497f-43b7-bca9-ee7a94f48a81"
      },
      "outputs": [
        {
          "output_type": "stream",
          "name": "stdout",
          "text": [
            "Initializing from scratch.\n"
          ]
        }
      ],
      "source": [
        "# Restore from the latest checkpoint\n",
        "if checkpoint_manager.latest_checkpoint:\n",
        "    print(f\"Restoring from {checkpoint_manager.latest_checkpoint}\")\n",
        "    checkpoint.restore(checkpoint_manager.latest_checkpoint)\n",
        "    # Determine the starting epoch (you might need to track this separately)\n",
        "    # TensorFlow's Checkpoint API doesn't automatically track epoch numbers\n",
        "else:\n",
        "    print(\"Initializing from scratch.\")"
      ]
    },
    {
      "cell_type": "code",
      "execution_count": 296,
      "metadata": {
        "id": "S0-W5bDPZ11M"
      },
      "outputs": [],
      "source": [
        "# Compile the model\n",
        "model.compile(optimizer=opt,\n",
        "              loss='sparse_categorical_crossentropy',  # Use sparse_categorical_crossentropy\n",
        "              metrics=['accuracy'])"
      ]
    },
    {
      "cell_type": "code",
      "execution_count": 297,
      "metadata": {
        "id": "j4f53Kc-WuBl",
        "colab": {
          "base_uri": "https://localhost:8080/"
        },
        "outputId": "f09e9001-c0fe-436a-a71f-f14a598457ac"
      },
      "outputs": [
        {
          "output_type": "stream",
          "name": "stdout",
          "text": [
            "Epoch 1/10\n",
            "\u001b[1m1866/1875\u001b[0m \u001b[32m━━━━━━━━━━━━━━━━━━━\u001b[0m\u001b[37m━\u001b[0m \u001b[1m0s\u001b[0m 2ms/step - accuracy: 0.8576 - loss: 0.5118\n",
            "Checkpoint saved at epoch 1\n",
            "\u001b[1m1875/1875\u001b[0m \u001b[32m━━━━━━━━━━━━━━━━━━━━\u001b[0m\u001b[37m\u001b[0m \u001b[1m6s\u001b[0m 3ms/step - accuracy: 0.8578 - loss: 0.5108 - val_accuracy: 0.9492 - val_loss: 0.1662\n",
            "Epoch 2/10\n",
            "\u001b[1m1874/1875\u001b[0m \u001b[32m━━━━━━━━━━━━━━━━━━━\u001b[0m\u001b[37m━\u001b[0m \u001b[1m0s\u001b[0m 2ms/step - accuracy: 0.9568 - loss: 0.1500\n",
            "Checkpoint saved at epoch 2\n",
            "\u001b[1m1875/1875\u001b[0m \u001b[32m━━━━━━━━━━━━━━━━━━━━\u001b[0m\u001b[37m\u001b[0m \u001b[1m4s\u001b[0m 2ms/step - accuracy: 0.9568 - loss: 0.1500 - val_accuracy: 0.9643 - val_loss: 0.1210\n",
            "Epoch 3/10\n",
            "\u001b[1m1873/1875\u001b[0m \u001b[32m━━━━━━━━━━━━━━━━━━━\u001b[0m\u001b[37m━\u001b[0m \u001b[1m0s\u001b[0m 2ms/step - accuracy: 0.9693 - loss: 0.1039\n",
            "Checkpoint saved at epoch 3\n",
            "\u001b[1m1875/1875\u001b[0m \u001b[32m━━━━━━━━━━━━━━━━━━━━\u001b[0m\u001b[37m\u001b[0m \u001b[1m3s\u001b[0m 2ms/step - accuracy: 0.9693 - loss: 0.1039 - val_accuracy: 0.9688 - val_loss: 0.1008\n",
            "Epoch 4/10\n",
            "\u001b[1m1871/1875\u001b[0m \u001b[32m━━━━━━━━━━━━━━━━━━━\u001b[0m\u001b[37m━\u001b[0m \u001b[1m0s\u001b[0m 2ms/step - accuracy: 0.9778 - loss: 0.0767\n",
            "Checkpoint saved at epoch 4\n",
            "\u001b[1m1875/1875\u001b[0m \u001b[32m━━━━━━━━━━━━━━━━━━━━\u001b[0m\u001b[37m\u001b[0m \u001b[1m5s\u001b[0m 2ms/step - accuracy: 0.9778 - loss: 0.0767 - val_accuracy: 0.9703 - val_loss: 0.0951\n",
            "Epoch 5/10\n",
            "\u001b[1m1857/1875\u001b[0m \u001b[32m━━━━━━━━━━━━━━━━━━━\u001b[0m\u001b[37m━\u001b[0m \u001b[1m0s\u001b[0m 2ms/step - accuracy: 0.9802 - loss: 0.0646\n",
            "Checkpoint saved at epoch 5\n",
            "\u001b[1m1875/1875\u001b[0m \u001b[32m━━━━━━━━━━━━━━━━━━━━\u001b[0m\u001b[37m\u001b[0m \u001b[1m5s\u001b[0m 3ms/step - accuracy: 0.9802 - loss: 0.0646 - val_accuracy: 0.9730 - val_loss: 0.0882\n",
            "Epoch 6/10\n",
            "\u001b[1m1867/1875\u001b[0m \u001b[32m━━━━━━━━━━━━━━━━━━━\u001b[0m\u001b[37m━\u001b[0m \u001b[1m0s\u001b[0m 2ms/step - accuracy: 0.9843 - loss: 0.0533\n",
            "Checkpoint saved at epoch 6\n",
            "\u001b[1m1875/1875\u001b[0m \u001b[32m━━━━━━━━━━━━━━━━━━━━\u001b[0m\u001b[37m\u001b[0m \u001b[1m4s\u001b[0m 2ms/step - accuracy: 0.9843 - loss: 0.0534 - val_accuracy: 0.9728 - val_loss: 0.0897\n",
            "Epoch 7/10\n",
            "\u001b[1m1858/1875\u001b[0m \u001b[32m━━━━━━━━━━━━━━━━━━━\u001b[0m\u001b[37m━\u001b[0m \u001b[1m0s\u001b[0m 3ms/step - accuracy: 0.9867 - loss: 0.0454\n",
            "Checkpoint saved at epoch 7\n",
            "\u001b[1m1875/1875\u001b[0m \u001b[32m━━━━━━━━━━━━━━━━━━━━\u001b[0m\u001b[37m\u001b[0m \u001b[1m7s\u001b[0m 3ms/step - accuracy: 0.9867 - loss: 0.0454 - val_accuracy: 0.9742 - val_loss: 0.0893\n",
            "Epoch 8/10\n",
            "\u001b[1m1868/1875\u001b[0m \u001b[32m━━━━━━━━━━━━━━━━━━━\u001b[0m\u001b[37m━\u001b[0m \u001b[1m0s\u001b[0m 2ms/step - accuracy: 0.9884 - loss: 0.0396\n",
            "Checkpoint saved at epoch 8\n",
            "\u001b[1m1875/1875\u001b[0m \u001b[32m━━━━━━━━━━━━━━━━━━━━\u001b[0m\u001b[37m\u001b[0m \u001b[1m8s\u001b[0m 2ms/step - accuracy: 0.9884 - loss: 0.0396 - val_accuracy: 0.9732 - val_loss: 0.0889\n",
            "Epoch 9/10\n",
            "\u001b[1m1861/1875\u001b[0m \u001b[32m━━━━━━━━━━━━━━━━━━━\u001b[0m\u001b[37m━\u001b[0m \u001b[1m0s\u001b[0m 2ms/step - accuracy: 0.9906 - loss: 0.0329\n",
            "Checkpoint saved at epoch 9\n",
            "\u001b[1m1875/1875\u001b[0m \u001b[32m━━━━━━━━━━━━━━━━━━━━\u001b[0m\u001b[37m\u001b[0m \u001b[1m6s\u001b[0m 2ms/step - accuracy: 0.9906 - loss: 0.0329 - val_accuracy: 0.9756 - val_loss: 0.0883\n",
            "Epoch 10/10\n",
            "\u001b[1m1861/1875\u001b[0m \u001b[32m━━━━━━━━━━━━━━━━━━━\u001b[0m\u001b[37m━\u001b[0m \u001b[1m0s\u001b[0m 2ms/step - accuracy: 0.9920 - loss: 0.0261\n",
            "Checkpoint saved at epoch 10\n",
            "\u001b[1m1875/1875\u001b[0m \u001b[32m━━━━━━━━━━━━━━━━━━━━\u001b[0m\u001b[37m\u001b[0m \u001b[1m5s\u001b[0m 3ms/step - accuracy: 0.9920 - loss: 0.0262 - val_accuracy: 0.9739 - val_loss: 0.0938\n",
            "Restoring model weights from the end of the best epoch: 9.\n"
          ]
        }
      ],
      "source": [
        "# Define the same model structure again\n",
        "model = tf.keras.models.Sequential([\n",
        "    tf.keras.layers.Flatten(input_shape=(28, 28, 1)), # Flatten the 28x28 image\n",
        "    tf.keras.layers.Dense(64, activation='relu'),\n",
        "    tf.keras.layers.Dense(10, activation='softmax')\n",
        "])\n",
        "\n",
        "# Compile the model\n",
        "model.compile(optimizer='adam', loss='sparse_categorical_crossentropy', metrics=['accuracy'])\n",
        "\n",
        "# Load the MNIST dataset\n",
        "(train_data, train_labels), (test_data, test_labels) = tf.keras.datasets.mnist.load_data()\n",
        "\n",
        "# Preprocess the data (example)\n",
        "train_data = train_data.reshape((60000, 28, 28, 1))\n",
        "test_data = test_data.reshape((10000, 28, 28, 1))\n",
        "train_data = train_data.astype('float32') / 255.0\n",
        "test_data = test_data.astype('float32') / 255.0\n",
        "\n",
        "# Continue training\n",
        "history = model.fit(\n",
        "    train_data,\n",
        "    train_labels,\n",
        "    epochs=10,\n",
        "    initial_epoch=0,\n",
        "    validation_data=(test_data, test_labels),\n",
        "    callbacks=[CustomCheckpointCallback(), early_stop]\n",
        ")"
      ]
    },
    {
      "cell_type": "markdown",
      "metadata": {
        "id": "je-tRJaGbfBL"
      },
      "source": []
    },
    {
      "cell_type": "code",
      "execution_count": 298,
      "metadata": {
        "id": "PNFIW8txNLN8",
        "colab": {
          "base_uri": "https://localhost:8080/"
        },
        "outputId": "4d74e160-902b-4c1b-ebc7-4c7f31747c79"
      },
      "outputs": [
        {
          "output_type": "stream",
          "name": "stdout",
          "text": [
            "\u001b[1m312/312\u001b[0m \u001b[32m━━━━━━━━━━━━━━━━━━━━\u001b[0m\u001b[37m\u001b[0m \u001b[1m1s\u001b[0m 2ms/step - accuracy: 0.9729 - loss: 0.1050\n"
          ]
        },
        {
          "output_type": "stream",
          "name": "stderr",
          "text": [
            "/usr/lib/python3.10/contextlib.py:153: UserWarning: Your input ran out of data; interrupting training. Make sure that your dataset or generator can generate at least `steps_per_epoch * epochs` batches. You may need to use the `.repeat()` function when building your dataset.\n",
            "  self.gen.throw(typ, value, traceback)\n"
          ]
        },
        {
          "output_type": "stream",
          "name": "stdout",
          "text": [
            "Test Loss: 0.08834678679704666\n",
            "Test Accuracy: 0.975600004196167\n"
          ]
        }
      ],
      "source": [
        "# Reshape test_data to match the input shape of the model\n",
        "test_data = test_data.reshape((-1, 28, 28, 1))\n",
        "\n",
        "# Evaluate on test data\n",
        "STEP_SIZE_TEST = len(test_labels) // batch_size\n",
        "test_loss, test_acc = model.evaluate(test_data[:len(test_labels)], test_labels, steps=STEP_SIZE_TEST)\n",
        "print(f'Test Loss: {test_loss}')\n",
        "print(f'Test Accuracy: {test_acc}')"
      ]
    },
    {
      "cell_type": "code",
      "execution_count": 299,
      "metadata": {
        "id": "baxIpluIQ6jy"
      },
      "outputs": [],
      "source": [
        "# Calculate the correct step size\n",
        "STEP_SIZE_TEST = test_data.shape[0] // batch_size\n",
        "if test_data.shape[0] % batch_size != 0:\n",
        "    STEP_SIZE_TEST += 1"
      ]
    },
    {
      "cell_type": "code",
      "execution_count": 300,
      "metadata": {
        "id": "_4rLsWc-As2_",
        "colab": {
          "base_uri": "https://localhost:8080/"
        },
        "outputId": "bd1be32b-b76c-4ed5-c196-81d150c686e2"
      },
      "outputs": [
        {
          "output_type": "stream",
          "name": "stderr",
          "text": [
            "WARNING:tensorflow:5 out of the last 324 calls to <function TensorFlowTrainer.make_predict_function.<locals>.one_step_on_data_distributed at 0x782001d3e7a0> triggered tf.function retracing. Tracing is expensive and the excessive number of tracings could be due to (1) creating @tf.function repeatedly in a loop, (2) passing tensors with different shapes, (3) passing Python objects instead of tensors. For (1), please define your @tf.function outside of the loop. For (2), @tf.function has reduce_retracing=True option that can avoid unnecessary retracing. For (3), please refer to https://www.tensorflow.org/guide/function#controlling_retracing and https://www.tensorflow.org/api_docs/python/tf/function for  more details.\n"
          ]
        },
        {
          "output_type": "stream",
          "name": "stdout",
          "text": [
            "\u001b[1m313/313\u001b[0m \u001b[32m━━━━━━━━━━━━━━━━━━━━\u001b[0m\u001b[37m\u001b[0m \u001b[1m1s\u001b[0m 2ms/step\n"
          ]
        },
        {
          "output_type": "execute_result",
          "data": {
            "text/plain": [
              "10000"
            ]
          },
          "metadata": {},
          "execution_count": 300
        }
      ],
      "source": [
        "# Make predictions on the test data\n",
        "predictions = model.predict(test_data, steps=STEP_SIZE_TEST)\n",
        "# Convert predictions to class labels\n",
        "predicted_classes = np.argmax(predictions, axis=1)\n",
        "predicted_classes.size"
      ]
    },
    {
      "cell_type": "code",
      "source": [
        "test_data = test_data.reshape((-1, 28, 28, 1))\n",
        "STEP_SIZE_TEST = len(test_labels) // batch_size\n",
        "test_loss, test_acc = model.evaluate(test_data[:len(test_labels)], test_labels, steps=STEP_SIZE_TEST)\n",
        "print(f'Test Loss: {test_loss}')\n",
        "print(f'Test Accuracy: {test_acc}')"
      ],
      "metadata": {
        "colab": {
          "base_uri": "https://localhost:8080/"
        },
        "id": "1S2OSiS8cNEt",
        "outputId": "2b9d4d83-9b9a-4803-9c3e-c04444cc1167"
      },
      "execution_count": 301,
      "outputs": [
        {
          "output_type": "stream",
          "name": "stdout",
          "text": [
            "\u001b[1m312/312\u001b[0m \u001b[32m━━━━━━━━━━━━━━━━━━━━\u001b[0m\u001b[37m\u001b[0m \u001b[1m0s\u001b[0m 1ms/step - accuracy: 0.9729 - loss: 0.1050\n",
            "Test Loss: 0.08834678679704666\n",
            "Test Accuracy: 0.975600004196167\n"
          ]
        }
      ]
    },
    {
      "cell_type": "code",
      "source": [
        "STEP_SIZE_TEST = test_data.shape[0] // batch_size\n",
        "if test_data.shape[0] % batch_size != 0:\n",
        "    STEP_SIZE_TEST += 1"
      ],
      "metadata": {
        "id": "6nNoJrZbciMe"
      },
      "execution_count": 302,
      "outputs": []
    },
    {
      "cell_type": "code",
      "source": [
        "predictions = model.predict(test_data, steps=STEP_SIZE_TEST)\n",
        "predicted_classes = np.argmax(predictions, axis=1)"
      ],
      "metadata": {
        "colab": {
          "base_uri": "https://localhost:8080/"
        },
        "id": "XgM7660oclq4",
        "outputId": "81d3405c-ef9b-4d3c-a16c-c736ce71847d"
      },
      "execution_count": 303,
      "outputs": [
        {
          "output_type": "stream",
          "name": "stdout",
          "text": [
            "\u001b[1m313/313\u001b[0m \u001b[32m━━━━━━━━━━━━━━━━━━━━\u001b[0m\u001b[37m\u001b[0m \u001b[1m0s\u001b[0m 1ms/step\n"
          ]
        }
      ]
    },
    {
      "cell_type": "code",
      "source": [
        "def prepare_image(img_path, target_size=(224, 224)):\n",
        "    img = image.load_img(img_path, target_size=target_size)\n",
        "    img_array = image.img_to_array(img)\n",
        "    img_array = np.expand_dims(img_array, axis=0)\n",
        "    img_array = img_array / 255.0\n",
        "    return img_array"
      ],
      "metadata": {
        "id": "t9stPP7NcyCi"
      },
      "execution_count": 304,
      "outputs": []
    },
    {
      "cell_type": "code",
      "source": [
        "def predict_image_class(img_path):\n",
        "    img = prepare_image(img_path)\n",
        "    print(f\"Shape of preprocessed image: {img.shape}\")\n",
        "    prediction = model.predict([img], steps=STEP_SIZE_TEST)\n",
        "    class_names = ['Benign', 'Malignant', 'Normal']\n",
        "    predicted_class = class_names[np.argmax(prediction)]\n",
        "    img_display = image.load_img(img_path)\n",
        "    plt.imshow(img_display)\n",
        "    plt.title(f'Predicted: {predicted_class}')\n",
        "    plt.show()\n",
        "    return predicted_class"
      ],
      "metadata": {
        "id": "ep-HA_Pxczt_"
      },
      "execution_count": 305,
      "outputs": []
    },
    {
      "cell_type": "code",
      "source": [
        "model = Sequential([\n",
        "    Conv2D(32, (3, 3), activation='relu', input_shape=(224, 224, 3)),\n",
        "    MaxPooling2D(pool_size=(2, 2)),\n",
        "    Flatten(),\n",
        "    Dense(128, activation='relu'),\n",
        "    Dense(3, activation='softmax')\n",
        "])"
      ],
      "metadata": {
        "colab": {
          "base_uri": "https://localhost:8080/"
        },
        "id": "zXB7kkhHc3Ob",
        "outputId": "e513200b-1013-4371-d085-aae65d03ab25"
      },
      "execution_count": 306,
      "outputs": [
        {
          "output_type": "stream",
          "name": "stderr",
          "text": [
            "/usr/local/lib/python3.10/dist-packages/keras/src/layers/convolutional/base_conv.py:107: UserWarning: Do not pass an `input_shape`/`input_dim` argument to a layer. When using Sequential models, prefer using an `Input(shape)` object as the first layer in the model instead.\n",
            "  super().__init__(activity_regularizer=activity_regularizer, **kwargs)\n"
          ]
        }
      ]
    },
    {
      "cell_type": "code",
      "source": [
        "test_image_path = '/content/drive/MyDrive/Training 70% augmented Testing 30%/Testing/benign/benign (306).png'"
      ],
      "metadata": {
        "id": "wCqPp2skdWU3"
      },
      "execution_count": 319,
      "outputs": []
    },
    {
      "cell_type": "code",
      "source": [
        "predicted_class = predict_image_class(test_image_path)"
      ],
      "metadata": {
        "colab": {
          "base_uri": "https://localhost:8080/",
          "height": 488
        },
        "id": "dz00wA0ad4om",
        "outputId": "e00eaf3b-710a-4d4d-91c9-6989fe1bed72"
      },
      "execution_count": 320,
      "outputs": [
        {
          "output_type": "stream",
          "name": "stdout",
          "text": [
            "Shape of preprocessed image: (1, 224, 224, 3)\n",
            "\u001b[1m313/313\u001b[0m \u001b[32m━━━━━━━━━━━━━━━━━━━━\u001b[0m\u001b[37m\u001b[0m \u001b[1m0s\u001b[0m 7us/step \n"
          ]
        },
        {
          "output_type": "display_data",
          "data": {
            "text/plain": [
              "<Figure size 640x480 with 1 Axes>"
            ],
            "image/png": "[encoded data removed]"
          },
          "metadata": {}
        }
      ]
    },
    {
      "cell_type": "code",
      "source": [
        "print(f'The predicted class is: {predicted_class}')"
      ],
      "metadata": {
        "colab": {
          "base_uri": "https://localhost:8080/"
        },
        "id": "Qd8ZiAkgic7J",
        "outputId": "ccdd1021-7424-49a6-fa0c-7ce576e773c6"
      },
      "execution_count": 321,
      "outputs": [
        {
          "output_type": "stream",
          "name": "stdout",
          "text": [
            "The predicted class is: Benign\n"
          ]
        }
      ]
    },
    {
      "cell_type": "code",
      "source": [],
      "metadata": {
        "id": "FHQG63u30O1s"
      },
      "execution_count": null,
      "outputs": []
    },
    {
      "cell_type": "code",
      "source": [
        "import os\n",
        "from keras.models import load_model\n",
        "from tensorflow.keras.preprocessing.image import ImageDataGenerator\n",
        "from sklearn.metrics import classification_report, confusion_matrix\n",
        "import numpy as np\n",
        "import matplotlib.pyplot as plt\n",
        "\n",
        "\n",
        "# Set the directory path for testing data\n",
        "test_data_dir = '/content/drive/MyDrive/Training 70% augmented Testing 30%/Testing'  # You can change this to training if needed\n",
        "\n",
        "# Set your desired values for image width, height, and batch size\n",
        "img_width, img_height = 224, 224\n",
        "batch_size = 32\n",
        "\n",
        "# Create an ImageDataGenerator for the test data\n",
        "datagen = ImageDataGenerator(rescale=1./255)  # Rescale as in training\n",
        "\n",
        "# Load the validation data\n",
        "test_data = datagen.flow_from_directory(\n",
        "    test_data_dir,  # Change to 'train_data_dir' if you want to test on training data\n",
        "    target_size=(img_width, img_height),\n",
        "    batch_size=batch_size,\n",
        "    class_mode='categorical',\n",
        "    shuffle=False  # Important to avoid shuffling for correct evaluation\n",
        ")\n",
        "\n",
        "# Make predictions using the loaded model\n",
        "predictions = model.predict(test_data, verbose=1)\n",
        "\n",
        "# Convert predictions to class labels\n",
        "predicted_classes = np.argmax(predictions, axis=1)"
      ],
      "metadata": {
        "colab": {
          "base_uri": "https://localhost:8080/"
        },
        "id": "Bl84bXx_i_DL",
        "outputId": "0e781fee-e85f-4b47-c532-858af416462b"
      },
      "execution_count": 310,
      "outputs": [
        {
          "output_type": "stream",
          "name": "stdout",
          "text": [
            "Found 235 images belonging to 3 classes.\n"
          ]
        },
        {
          "output_type": "stream",
          "name": "stderr",
          "text": [
            "/usr/local/lib/python3.10/dist-packages/keras/src/trainers/data_adapters/py_dataset_adapter.py:121: UserWarning: Your `PyDataset` class should call `super().__init__(**kwargs)` in its constructor. `**kwargs` can include `workers`, `use_multiprocessing`, `max_queue_size`. Do not pass these arguments to `fit()`, as they will be ignored.\n",
            "  self._warn_if_super_not_called()\n"
          ]
        },
        {
          "output_type": "stream",
          "name": "stdout",
          "text": [
            "\u001b[1m8/8\u001b[0m \u001b[32m━━━━━━━━━━━━━━━━━━━━\u001b[0m\u001b[37m\u001b[0m \u001b[1m3s\u001b[0m 412ms/step\n"
          ]
        }
      ]
    },
    {
      "cell_type": "code",
      "source": [
        "# Get the true labels\n",
        "true_classes = test_data.classes\n",
        "class_labels = list(test_data.class_indices.keys())  # Get class labels\n",
        "\n",
        "# Generate classification report\n",
        "report = classification_report(true_classes, predicted_classes, target_names=class_labels)\n",
        "print(\"Classification Report:\\n\", report)\n",
        "\n",
        "# Confusion Matrix\n",
        "cm = confusion_matrix(true_classes, predicted_classes)\n",
        "print(\"Confusion Matrix:\\n\", cm)"
      ],
      "metadata": {
        "colab": {
          "base_uri": "https://localhost:8080/"
        },
        "id": "o-kmvwsPkwjI",
        "outputId": "22dade34-cbb0-46cf-bf17-eb2b8032fe23"
      },
      "execution_count": 311,
      "outputs": [
        {
          "output_type": "stream",
          "name": "stdout",
          "text": [
            "Classification Report:\n",
            "               precision    recall  f1-score   support\n",
            "\n",
            "      benign       0.58      0.71      0.64       132\n",
            "   malignant       0.21      0.05      0.08        63\n",
            "      normal       0.15      0.23      0.18        40\n",
            "\n",
            "    accuracy                           0.45       235\n",
            "   macro avg       0.32      0.33      0.30       235\n",
            "weighted avg       0.41      0.45      0.41       235\n",
            "\n",
            "Confusion Matrix:\n",
            " [[94  9 29]\n",
            " [38  3 22]\n",
            " [29  2  9]]\n"
          ]
        }
      ]
    },
    {
      "cell_type": "code",
      "source": [
        "plt.figure(figsize=(8,6))\n",
        "plt.imshow(cm, interpolation='nearest', cmap=plt.cm.Blues)\n",
        "plt.title('Confusion Matrix')\n",
        "plt.colorbar()\n",
        "tick_marks = np.arange(len(class_labels))\n",
        "plt.xticks(tick_marks, class_labels, rotation=45)\n",
        "plt.yticks(tick_marks, class_labels)\n",
        "plt.tight_layout()\n",
        "plt.ylabel('True Label')\n",
        "plt.xlabel('Predicted Label')\n",
        "plt.show()"
      ],
      "metadata": {
        "colab": {
          "base_uri": "https://localhost:8080/",
          "height": 626
        },
        "id": "RkWc_V4Dk57y",
        "outputId": "4bfc155e-ec2d-4090-b7c2-8a515a373be6"
      },
      "execution_count": 312,
      "outputs": [
        {
          "output_type": "display_data",
          "data": {
            "text/plain": [
              "<Figure size 800x600 with 2 Axes>"
            ],
            "image/png": "[encoded data removed]"
          },
          "metadata": {}
        }
      ]
    },
    {
      "cell_type": "code",
      "execution_count": 313,
      "metadata": {
        "id": "WsNiP1UtA2NQ"
      },
      "outputs": [],
      "source": [
        "import seaborn as sns  # Import Seaborn for advanced plotting\n",
        "import matplotlib.pyplot as plt  # Import Matplotlib for basic plotting"
      ]
    },
    {
      "cell_type": "markdown",
      "metadata": {
        "id": "J1HquxHpA7Ij"
      },
      "source": [
        "# Assuming you have already calculated the confusion matrix `cm` and `true_classes` and `predicted_classes`\n"
      ]
    },
    {
      "cell_type": "code",
      "execution_count": 314,
      "metadata": {
        "id": "c2SV3biPA2Kk"
      },
      "outputs": [],
      "source": [
        "# Define the class labels\n",
        "# class_labels = [str(i) for i in range(10)] # Assuming 10 classes, modify if necessary\n",
        "class_labels = list(test_data.class_indices.keys())  # Get class labels"
      ]
    },
    {
      "cell_type": "code",
      "execution_count": 315,
      "metadata": {
        "id": "rNhxmJ5rAspe",
        "colab": {
          "base_uri": "https://localhost:8080/",
          "height": 571
        },
        "outputId": "ab46de12-2bf0-4dfc-a01f-c3e672ea3a42"
      },
      "outputs": [
        {
          "output_type": "display_data",
          "data": {
            "text/plain": [
              "<Figure size 800x600 with 2 Axes>"
            ],
            "image/png": "[encoded data removed]"
          },
          "metadata": {}
        }
      ],
      "source": [
        "# Import the necessary library\n",
        "from sklearn.metrics import confusion_matrix\n",
        "\n",
        "# Assuming you have true_classes and predicted_classes defined\n",
        "cm = confusion_matrix(true_classes, predicted_classes)\n",
        "\n",
        "# Plotting the confusion matrix\n",
        "plt.figure(figsize=(8, 6))\n",
        "sns.heatmap(cm, annot=True, fmt='d', cmap='Blues', xticklabels=class_labels, yticklabels=class_labels)\n",
        "plt.title('Confusion Matrix', fontsize=16)\n",
        "plt.xlabel('Predicted Label', fontsize=14)\n",
        "plt.ylabel('True Label', fontsize=14)\n",
        "plt.show()\n"
      ]
    },
    {
      "cell_type": "markdown",
      "source": [
        "# **1. SVM Classifier**\n"
      ],
      "metadata": {
        "id": "0Az1nuDeIfUi"
      }
    },
    {
      "cell_type": "code",
      "source": [
        "from sklearn import svm\n",
        "from sklearn.metrics import classification_report, confusion_matrix\n",
        "from sklearn.preprocessing import StandardScaler\n",
        "import matplotlib.pyplot as plt\n",
        "import seaborn as sns\n",
        "import numpy as np\n",
        "\n",
        "# Reshape train_data and test_data\n",
        "train_data = train_data.reshape(train_data.shape[0], -1)\n",
        "test_data = test_data.reshape(test_data.shape[0], -1)\n",
        "\n",
        "# Scale the data\n",
        "scaler = StandardScaler()\n",
        "train_data = scaler.fit_transform(train_data)\n",
        "test_data = scaler.transform(test_data)\n",
        "\n",
        "# SVM classifier\n",
        "svm_clf = svm.SVC(kernel='linear', probability=True)\n",
        "svm_clf.fit(train_data, train_labels)\n",
        "\n",
        "# Predict using SVM\n",
        "svm_pred = svm_clf.predict(test_data)\n",
        "\n",
        "# Classification report\n",
        "print(\"SVM Classification Report:\")\n",
        "print(classification_report(test_labels, svm_pred))\n",
        "\n",
        "# Confusion Matrix\n",
        "svm_cm = confusion_matrix(test_labels, svm_pred)\n",
        "\n",
        "# Plotting the confusion matrix\n",
        "plt.figure(figsize=(8, 6))\n",
        "sns.heatmap(svm_cm, annot=True, fmt='d', cmap='Blues')\n",
        "plt.title('SVM Confusion Matrix')\n",
        "plt.xlabel('Predicted')\n",
        "plt.ylabel('Actual')\n",
        "plt.show()"
      ],
      "metadata": {
        "id": "Ec72lO3WEIWu",
        "colab": {
          "base_uri": "https://localhost:8080/",
          "height": 219
        },
        "outputId": "5d08632f-4140-4d71-bd29-72a8eb5890ae"
      },
      "execution_count": 4,
      "outputs": [
        {
          "output_type": "error",
          "ename": "NameError",
          "evalue": "name 'train_data' is not defined",
          "traceback": [
            "\u001b[0;31m---------------------------------------------------------------------------\u001b[0m",
            "\u001b[0;31mNameError\u001b[0m                                 Traceback (most recent call last)",
            "\u001b[0;32m<ipython-input-4-579825a92878>\u001b[0m in \u001b[0;36m<cell line: 8>\u001b[0;34m()\u001b[0m\n\u001b[1;32m      6\u001b[0m \u001b[0;34m\u001b[0m\u001b[0m\n\u001b[1;32m      7\u001b[0m \u001b[0;31m# Reshape train_data and test_data before fitting and predicting\u001b[0m\u001b[0;34m\u001b[0m\u001b[0;34m\u001b[0m\u001b[0m\n\u001b[0;32m----> 8\u001b[0;31m \u001b[0mtrain_data\u001b[0m \u001b[0;34m=\u001b[0m \u001b[0mtrain_data\u001b[0m\u001b[0;34m.\u001b[0m\u001b[0mreshape\u001b[0m\u001b[0;34m(\u001b[0m\u001b[0mtrain_data\u001b[0m\u001b[0;34m.\u001b[0m\u001b[0mshape\u001b[0m\u001b[0;34m[\u001b[0m\u001b[0;36m0\u001b[0m\u001b[0;34m]\u001b[0m\u001b[0;34m,\u001b[0m \u001b[0;34m-\u001b[0m\u001b[0;36m1\u001b[0m\u001b[0;34m)\u001b[0m\u001b[0;34m\u001b[0m\u001b[0;34m\u001b[0m\u001b[0m\n\u001b[0m\u001b[1;32m      9\u001b[0m \u001b[0mtest_data\u001b[0m \u001b[0;34m=\u001b[0m \u001b[0mtest_data\u001b[0m\u001b[0;34m.\u001b[0m\u001b[0mreshape\u001b[0m\u001b[0;34m(\u001b[0m\u001b[0mtest_data\u001b[0m\u001b[0;34m.\u001b[0m\u001b[0mshape\u001b[0m\u001b[0;34m[\u001b[0m\u001b[0;36m0\u001b[0m\u001b[0;34m]\u001b[0m\u001b[0;34m,\u001b[0m \u001b[0;34m-\u001b[0m\u001b[0;36m1\u001b[0m\u001b[0;34m)\u001b[0m\u001b[0;34m\u001b[0m\u001b[0;34m\u001b[0m\u001b[0m\n\u001b[1;32m     10\u001b[0m \u001b[0;34m\u001b[0m\u001b[0m\n",
            "\u001b[0;31mNameError\u001b[0m: name 'train_data' is not defined"
          ]
        }
      ]
    },
    {
      "cell_type": "code",
      "source": [
        "from sklearn.metrics import roc_auc_score, roc_curve\n",
        "from sklearn.preprocessing import label_binarize # Removed extra indentation\n",
        "\n",
        "# Binarize the labels for multiclass ROC AUC calculation\n",
        "y_test_bin = label_binarize(test_labels, classes=np.unique(test_labels))\n",
        "n_classes = y_test_bin.shape[1]\n",
        "\n",
        "# Calculate ROC curve and AUC for each class\n",
        "fpr_svm = dict()\n",
        "tpr_svm = dict()\n",
        "roc_auc_svm = dict()\n",
        "for i in range(n_classes):\n",
        "    fpr_svm[i], tpr_svm[i], _ = roc_curve(y_test_bin[:, i], svm_prob[:, i])\n",
        "    roc_auc_svm[i] = auc(fpr_svm[i], tpr_svm[i])\n",
        "\n",
        "# Plot the ROC curves (example for one class)\n",
        "plt.figure()\n",
        "plt.plot(fpr_svm[0], tpr_svm[0], label='ROC curve (area = %0.2f)' % roc_auc_svm[0])\n",
        "plt.plot([0, 1], [0, 1], 'k--')\n",
        "plt.xlim([0.0, 1.0])\n",
        "plt.ylim([0.0, 1.05])\n",
        "plt.xlabel('False Positive Rate')\n",
        "plt.ylabel('True Positive Rate')\n",
        "plt.title('Receiver operating characteristic example')\n",
        "plt.legend(loc=\"lower right\")\n",
        "plt.show()"
      ],
      "metadata": {
        "id": "FXORAcDWUFJF"
      },
      "execution_count": null,
      "outputs": []
    },
    {
      "cell_type": "markdown",
      "source": [
        "# **2. K-Nearest Neighbors (KNN) Classifier**"
      ],
      "metadata": {
        "id": "Jof2_RoCJXKk"
      }
    },
    {
      "cell_type": "code",
      "source": [
        "from sklearn.neighbors import KNeighborsClassifier\n",
        "\n",
        "# KNN classifier\n",
        "knn_clf = KNeighborsClassifier(n_neighbors=5) # You can change n_neighbors based on your data\n",
        "knn_clf.fit(train_data, train_labels)\n",
        "\n",
        "# Predict using KNN\n",
        "knn_pred = knn_clf.predict(test_data)\n",
        "\n",
        "# Classification report\n",
        "print(\"KNN Classification Report:\")\n",
        "print(classification_report(test_labels, knn_pred))\n",
        "\n",
        "# Confusion Matrix\n",
        "knn_cm = confusion_matrix(test_labels, knn_pred)\n",
        "\n",
        "# Plotting the confusion matrix for KNN\n",
        "plt.figure(figsize=(8,6))\n",
        "sns.heatmap(knn_cm, annot=True, fmt='d', cmap='Blues')\n",
        "plt.title('KNN Confusion Matrix')\n",
        "plt.xlabel('Predicted')\n",
        "plt.ylabel('Actual')\n",
        "plt.show()\n"
      ],
      "metadata": {
        "id": "cP6jq1huI7lI"
      },
      "execution_count": null,
      "outputs": []
    },
    {
      "cell_type": "markdown",
      "source": [
        "# ROC CURVE\n"
      ],
      "metadata": {
        "id": "MSXV0MyUMBwS"
      }
    },
    {
      "cell_type": "code",
      "source": [
        "from sklearn.preprocessing import label_binarize\n",
        "from sklearn.metrics import roc_curve, auc\n",
        "\n",
        "# Binarize the labels for multiclass ROC AUC calculation\n",
        "test_labels_bin = label_binarize(test_labels, classes=np.unique(test_labels))\n",
        "\n",
        "# Calculate ROC curve and AUC for each class\n",
        "fpr_knn = dict()\n",
        "tpr_knn = dict()\n",
        "roc_auc_knn = dict()\n",
        "n_classes = test_labels_bin.shape[1]\n",
        "\n",
        "for i in range(n_classes):\n",
        "    knn_prob_class_i = knn_clf.predict_proba(test_data)[:, i]  # Probability for class i\n",
        "    fpr_knn[i], tpr_knn[i], _ = roc_curve(test_labels_bin[:, i], knn_prob_class_i)\n",
        "    roc_auc_knn[i] = auc(fpr_knn[i], tpr_knn[i])\n",
        "\n",
        "# Plot ROC curves for each class (example for one class)\n",
        "# Replace plot_roc_curve with your actual plotting function\n",
        "# plot_roc_curve(fpr_knn[0], tpr_knn[0], roc_auc_knn[0], 'KNN - Class 0')\n",
        "\n",
        "# ... (Similarly plot for other classes) ..."
      ],
      "metadata": {
        "id": "2BwREsU-MAhc"
      },
      "execution_count": null,
      "outputs": []
    },
    {
      "cell_type": "code",
      "source": [],
      "metadata": {
        "id": "feOhevoSRzYs"
      },
      "execution_count": null,
      "outputs": []
    },
    {
      "cell_type": "code",
      "source": [
        "import matplotlib.pyplot as plt\n",
        "import numpy as np\n",
        "from sklearn.preprocessing import label_binarize\n",
        "from sklearn.metrics import roc_curve, auc, RocCurveDisplay\n",
        "\n",
        "# ... (your existing code from ipython-input-55-a1d1401d8c5a) ...\n",
        "\n",
        "# Function to plot ROC curve (modified)\n",
        "def plot_roc_curve(fpr, tpr, roc_auc, model_name):\n",
        "    \"\"\"\n",
        "    Plots the ROC curve for a given model.\n",
        "\n",
        "    Args:\n",
        "        fpr (dict): False positive rates for each class.\n",
        "        tpr (dict): True positive rates for each class.\n",
        "        roc_auc (dict): AUC values for each class.\n",
        "        model_name (str): Name of the model for the plot title.\n",
        "    \"\"\"\n",
        "\n",
        "    n_classes = len(fpr) # Get number of classes\n",
        "\n",
        "    # Plot ROC curves for each class\n",
        "    plt.figure(figsize=(8, 6))\n",
        "    for i in range(n_classes):\n",
        "        display = RocCurveDisplay(fpr=fpr[i], tpr=tpr[i], roc_auc=roc_auc[i])\n",
        "        display.plot(ax=plt.gca(), name=f'{model_name} - Class {i}') # Plot on current axes\n",
        "\n",
        "    plt.plot([0, 1], [0, 1], 'k--', label='Random Guess') # Baseline\n",
        "    plt.xlabel('False Positive Rate')\n",
        "    plt.ylabel('True Positive Rate')\n",
        "    plt.title(f'{model_name} ROC Curve')\n",
        "    plt.legend(loc=\"lower right\")\n",
        "    plt.show()\n",
        "\n",
        "\n",
        "# Call the function with the calculated values\n",
        "plot_roc_curve(fpr_knn, tpr_knn, roc_auc_knn, 'KNN')"
      ],
      "metadata": {
        "id": "sY6BsP5zQ0iM"
      },
      "execution_count": null,
      "outputs": []
    },
    {
      "cell_type": "markdown",
      "source": [
        "# **3. Naive Bayes Classifier:**"
      ],
      "metadata": {
        "id": "nFwesVe8McQf"
      }
    },
    {
      "cell_type": "code",
      "source": [
        "from sklearn.naive_bayes import GaussianNB\n",
        "\n",
        "# Naive Bayes classifier\n",
        "nb_clf = GaussianNB()\n",
        "nb_clf.fit(train_data, train_labels)\n",
        "\n",
        "# Predict using Naive Bayes\n",
        "nb_pred = nb_clf.predict(test_data)\n",
        "\n",
        "# Classification report\n",
        "print(\"Naive Bayes Classification Report:\")\n",
        "print(classification_report(test_labels, nb_pred))\n",
        "\n",
        "# Confusion Matrix\n",
        "nb_cm = confusion_matrix(test_labels, nb_pred)\n",
        "\n",
        "# Plotting the confusion matrix for Naive Bayes\n",
        "plt.figure(figsize=(8,6))\n",
        "sns.heatmap(nb_cm, annot=True, fmt='d', cmap='Blues')\n",
        "plt.title('Naive Bayes Confusion Matrix')\n",
        "plt.xlabel('Predicted')\n",
        "plt.ylabel('Actual')\n",
        "plt.show()\n"
      ],
      "metadata": {
        "id": "Q9ErbjQsMZoU"
      },
      "execution_count": null,
      "outputs": []
    },
    {
      "cell_type": "markdown",
      "source": [],
      "metadata": {
        "id": "TKQcv8UnMZVD"
      }
    },
    {
      "cell_type": "markdown",
      "source": [],
      "metadata": {
        "id": "4FvC6mt_XxJ4"
      }
    },
    {
      "cell_type": "code",
      "source": [
        "# Calculate accuracy scores for each classifier\n",
        "svm_acc = accuracy_score(test_labels, svm_pred)\n",
        "knn_acc = accuracy_score(test_labels, knn_pred)\n",
        "nb_acc = accuracy_score(test_labels, nb_pred)\n",
        "\n",
        "# Accuracy comparison plot\n",
        "classifiers = ['SVM', 'KNN', 'Naive Bayes']\n",
        "accuracies = [svm_acc, knn_acc, nb_acc]\n",
        "\n",
        "plt.figure(figsize=(8,6))\n",
        "plt.bar(classifiers, accuracies, color=['blue', 'green', 'orange'])\n",
        "plt.xlabel('Classifier')\n",
        "plt.ylabel('Accuracy')\n",
        "plt.title('Accuracy Comparison of SVM, KNN, and Naive Bayes')\n",
        "plt.show()\n"
      ],
      "metadata": {
        "id": "o7Qvt-wKXwoT"
      },
      "execution_count": null,
      "outputs": []
    },
    {
      "cell_type": "markdown",
      "source": [
        "# ROC CURVE"
      ],
      "metadata": {
        "id": "QsLGKgQZXz2d"
      }
    },
    {
      "cell_type": "code",
      "source": [
        "import matplotlib.pyplot as plt\n",
        "import numpy as np\n",
        "from sklearn.preprocessing import label_binarize\n",
        "from sklearn.metrics import roc_curve, auc, RocCurveDisplay\n",
        "from sklearn.naive_bayes import GaussianNB\n",
        "\n",
        "# Assuming train_data, train_labels, test_data, and test_labels are already defined\n",
        "\n",
        "# Reshape train_data and test_data before fitting and predicting\n",
        "train_data = train_data.reshape(train_data.shape[0], -1)\n",
        "test_data = test_data.reshape(test_data.shape[0], -1)\n",
        "\n",
        "# Naive Bayes classifier\n",
        "nb_clf = GaussianNB()\n",
        "nb_clf.fit(train_data, train_labels)\n",
        "\n",
        "# Predict probabilities\n",
        "nb_prob = nb_clf.predict_proba(test_data)\n",
        "\n",
        "# Binarize the labels for multiclass ROC AUC calculation\n",
        "y_test_bin = label_binarize(test_labels, classes=np.unique(test_labels))\n",
        "n_classes = y_test_bin.shape[1]\n",
        "\n",
        "# Calculate ROC curve and AUC for each class\n",
        "fpr_nb = dict()\n",
        "tpr_nb = dict()\n",
        "roc_auc_nb = dict()\n",
        "for i in range(n_classes):\n",
        "    fpr_nb[i], tpr_nb[i], _ = roc_curve(y_test_bin[:, i], nb_prob[:, i])\n",
        "    roc_auc_nb[i] = auc(fpr_nb[i], tpr_nb[i])"
      ],
      "metadata": {
        "id": "eQizY_7c4RGn"
      },
      "execution_count": null,
      "outputs": []
    },
    {
      "cell_type": "code",
      "source": [
        "import matplotlib.pyplot as plt\n",
        "import numpy as np\n",
        "from sklearn.preprocessing import label_binarize\n",
        "from sklearn.metrics import roc_curve, auc, RocCurveDisplay\n",
        "\n",
        "# ... (your existing code from ipython-input-55-a1d1401d8c5a) ...\n",
        "\n",
        "# Function to plot ROC curve (modified)\n",
        "def plot_roc_curve(fpr, tpr, roc_auc, model_name):\n",
        "    \"\"\"\n",
        "    Plots the ROC curve for a given model.\n",
        "\n",
        "    Args:\n",
        "        fpr (dict or array-like): False positive rates for each class or a single class.\n",
        "        tpr (dict or array-like): True positive rates for each class or a single class.\n",
        "        roc_auc (dict or float): AUC values for each class or a single class.\n",
        "        model_name (str): Name of the model for the plot title.\n",
        "    \"\"\"\n",
        "\n",
        "    # Check if fpr is a dictionary (multi-class) or not (single-class)\n",
        "    if isinstance(fpr, dict):\n",
        "        n_classes = len(fpr)\n",
        "        # Plot ROC curves for each class (multi-class case)\n",
        "        plt.figure(figsize=(8, 6))\n",
        "        for i in range(n_classes):\n",
        "            display = RocCurveDisplay(fpr=fpr[i], tpr=tpr[i], roc_auc=roc_auc[i])\n",
        "            display.plot(ax=plt.gca(), name=f'{model_name} - Class {i}')\n",
        "    else:\n",
        "        # Plot ROC curve for a single class (single-class case)\n",
        "        plt.figure(figsize=(8, 6))\n",
        "        display = RocCurveDisplay(fpr=fpr, tpr=tpr, roc_auc=roc_auc)\n",
        "        display.plot(ax=plt.gca(), name=model_name)\n",
        "\n",
        "    plt.plot([0, 1], [0, 1], 'k--', label='Random Guess')  # Baseline\n",
        "    plt.xlabel('False Positive Rate')\n",
        "    plt.ylabel('True Positive Rate')\n",
        "    plt.title(f'{model_name} ROC Curve')\n",
        "    plt.legend(loc=\"lower right\")\n",
        "    plt.show()\n",
        "\n",
        "# Call the function with the calculated values\n",
        "plot_roc_curve(fpr_nb, tpr_nb, roc_auc_nb, 'Naive Bayes - Class 0')"
      ],
      "metadata": {
        "id": "LY-tVaoVSTQZ"
      },
      "execution_count": null,
      "outputs": []
    },
    {
      "cell_type": "markdown",
      "source": [
        "# COMPARISON"
      ],
      "metadata": {
        "id": "U-EXbtdJj6h5"
      }
    },
    {
      "cell_type": "code",
      "source": [
        "# Plot ROC curves for all classifiers\n",
        "plt.figure(figsize=(8, 6))\n",
        "plot_roc_curve(fpr_svm, tpr_svm, roc_auc_svm, 'SVM')\n",
        "plot_roc_curve(fpr_knn, tpr_knn, roc_auc_knn, 'KNN')\n",
        "plot_roc_curve(fpr_nb, tpr_nb, roc_auc_nb, 'Naive Bayes')\n",
        "\n",
        "# Plot settings\n",
        "plt.plot([0, 1], [0, 1], color='navy', linestyle='--')  # Diagonal line for random guessing\n",
        "plt.xlim([0.0, 1.0])\n",
        "plt.ylim([0.0, 1.05])\n",
        "plt.xlabel('False Positive Rate')\n",
        "plt.ylabel('True Positive Rate')\n",
        "plt.title('ROC Curves for SVM, KNN, and Naive Bayes')\n",
        "plt.legend(loc=\"lower right\")\n",
        "plt.show()\n"
      ],
      "metadata": {
        "id": "yDAF4dvTT-9m"
      },
      "execution_count": null,
      "outputs": []
    },
    {
      "cell_type": "markdown",
      "source": [],
      "metadata": {
        "id": "9u3VCVm2SSxr"
      }
    },
    {
      "cell_type": "code",
      "source": [],
      "metadata": {
        "id": "lmCyYyiakmXv"
      },
      "execution_count": null,
      "outputs": []
    },
    {
      "cell_type": "code",
      "source": [
        "# Calculate accuracy scores for each classifier\n",
        "svm_acc = accuracy_score(test_labels, svm_pred)\n",
        "knn_acc = accuracy_score(test_labels, knn_pred)\n",
        "nb_acc = accuracy_score(test_labels, nb_pred)\n",
        "\n",
        "# Accuracy comparison plot\n",
        "classifiers = ['SVM', 'KNN', 'Naive Bayes']\n",
        "accuracies = [svm_acc, knn_acc, nb_acc]\n",
        "\n",
        "plt.figure(figsize=(8,6))\n",
        "plt.bar(classifiers, accuracies, color=['blue', 'green', 'orange'])\n",
        "plt.xlabel('Classifier')\n",
        "plt.ylabel('Accuracy')\n",
        "plt.title('Accuracy Comparison of SVM, KNN, and Naive Bayes')\n",
        "plt.show()\n"
      ],
      "metadata": {
        "id": "95V5VhA-j0fF"
      },
      "execution_count": null,
      "outputs": []
    },
    {
      "cell_type": "markdown",
      "source": [],
      "metadata": {
        "id": "VcZplgBnka15"
      }
    },
    {
      "cell_type": "markdown",
      "source": [
        "## Testing the Trained Model"
      ],
      "metadata": {
        "id": "7mJ27jdUkcdX"
      }
    },
    {
      "cell_type": "code",
      "source": [
        "import os\n",
        "from keras.models import load_model\n",
        "from tensorflow.keras.preprocessing.image import ImageDataGenerator\n",
        "from sklearn.metrics import classification_report, confusion_matrix\n",
        "import numpy as np\n",
        "import matplotlib.pyplot as plt\n",
        "\n",
        "# Load the trained model\n",
        "model_path = '/content/drive/MyDrive/saved_models/vgg16_model.keras'\n",
        "model = load_model(model_path)\n",
        "\n",
        "# Set the directory path for testing data\n",
        "test_data_dir = '/content/drive/MyDrive/Training augmented/Validation'  # You can change this to training if needed\n",
        "\n",
        "# Set your desired values for image width, height, and batch size\n",
        "img_width, img_height = 224, 224\n",
        "batch_size = 32\n",
        "\n",
        "# Create an ImageDataGenerator for the test data\n",
        "datagen = ImageDataGenerator(rescale=1./255)  # Rescale as in training\n",
        "\n",
        "# Load the validation data\n",
        "test_data = datagen.flow_from_directory(\n",
        "    test_data_dir,  # Change to 'train_data_dir' if you want to test on training data\n",
        "    target_size=(img_width, img_height),\n",
        "    batch_size=batch_size,\n",
        "    class_mode='categorical',\n",
        "    shuffle=False  # Important to avoid shuffling for correct evaluation\n",
        ")\n",
        "\n",
        "# Make predictions using the loaded model\n",
        "predictions = model.predict(test_data, verbose=1)\n",
        "\n",
        "# Convert predictions to class labels\n",
        "predicted_classes = np.argmax(predictions, axis=1)"
      ],
      "metadata": {
        "id": "QMcp-T8qkkSI"
      },
      "execution_count": null,
      "outputs": []
    },
    {
      "cell_type": "markdown",
      "source": [
        "### Evaluation"
      ],
      "metadata": {
        "id": "EMDwgJo4nwux"
      }
    },
    {
      "cell_type": "code",
      "source": [
        "# Get the true labels\n",
        "true_classes = test_data.classes\n",
        "class_labels = list(test_data.class_indices.keys())  # Get class labels\n",
        "\n",
        "# Generate classification report\n",
        "report = classification_report(true_classes, predicted_classes, target_names=class_labels)\n",
        "print(\"Classification Report:\\n\", report)\n",
        "\n",
        "# Confusion Matrix\n",
        "cm = confusion_matrix(true_classes, predicted_classes)\n",
        "print(\"Confusion Matrix:\\n\", cm)\n"
      ],
      "metadata": {
        "id": "JPH87iBwn0GR"
      },
      "execution_count": null,
      "outputs": []
    },
    {
      "cell_type": "markdown",
      "source": [
        "### Plotting confusion matrix"
      ],
      "metadata": {
        "id": "oY4MXbHIoMje"
      }
    },
    {
      "cell_type": "code",
      "source": [
        "\n",
        "plt.figure(figsize=(8,6))\n",
        "plt.imshow(cm, interpolation='nearest', cmap=plt.cm.Blues)\n",
        "plt.title('Confusion Matrix')\n",
        "plt.colorbar()\n",
        "tick_marks = np.arange(len(class_labels))\n",
        "plt.xticks(tick_marks, class_labels, rotation=45)\n",
        "plt.yticks(tick_marks, class_labels)\n",
        "plt.tight_layout()\n",
        "plt.ylabel('True Label')\n",
        "plt.xlabel('Predicted Label')\n",
        "plt.show()\n"
      ],
      "metadata": {
        "id": "IKDMqYEboCeA"
      },
      "execution_count": null,
      "outputs": []
    }
  ],
  "metadata": {
    "colab": {
      "provenance": [],
      "gpuType": "T4"
    },
    "kernelspec": {
      "display_name": "Python 3",
      "name": "python3"
    },
    "language_info": {
      "name": "python"
    },
    "accelerator": "GPU"
  },
  "nbformat": 4,
  "nbformat_minor": 0
}