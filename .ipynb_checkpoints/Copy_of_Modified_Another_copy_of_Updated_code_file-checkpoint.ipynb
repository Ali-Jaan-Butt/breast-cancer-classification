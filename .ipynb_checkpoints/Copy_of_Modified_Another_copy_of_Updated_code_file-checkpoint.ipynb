{
 "cells": [
  {
   "cell_type": "code",
   "execution_count": 2,
   "metadata": {
    "colab": {
     "base_uri": "https://localhost:8080/"
    },
    "id": "GEMOPXt8YuI1",
    "outputId": "4966453d-0ac5-4a58-8f71-c9d37d862a67"
   },
   "outputs": [
    {
     "data": {
      "text/plain": [
       "[]"
      ]
     },
     "execution_count": 2,
     "metadata": {},
     "output_type": "execute_result"
    }
   ],
   "source": [
    "import tensorflow as tf\n",
    "tf.__version__\n",
    "tf.config.list_physical_devices('GPU')"
   ]
  },
  {
   "cell_type": "code",
   "execution_count": 3,
   "metadata": {
    "id": "0mn2bgcnqmmQ"
   },
   "outputs": [],
   "source": [
    "from tensorflow.keras.models import Sequential, Model\n",
    "from tensorflow.keras.layers import Input, Conv2D, MaxPooling2D, GlobalAveragePooling2D, Dropout, Dense, Add, Concatenate\n",
    "from tensorflow.keras.optimizers import Adam\n",
    "from tensorflow.keras.preprocessing.image import ImageDataGenerator\n",
    "from tensorflow.keras.callbacks import ModelCheckpoint, EarlyStopping\n",
    "from tensorflow.keras.applications import VGG16\n",
    "from tensorflow.keras.utils import plot_model\n",
    "from sklearn.metrics import classification_report, confusion_matrix, roc_curve, auc, precision_recall_curve, average_precision_score\n",
    "from sklearn.preprocessing import label_binarize\n",
    "import matplotlib.pyplot as plt\n",
    "import numpy as np\n",
    "from collections import Counter\n",
    "from itertools import cycle\n"
   ]
  },
  {
   "cell_type": "code",
   "execution_count": null,
   "metadata": {
    "colab": {
     "base_uri": "https://localhost:8080/"
    },
    "id": "KHEj0a2irhje",
    "outputId": "a2d0364d-225a-4662-8d26-319c62dadcf0"
   },
   "outputs": [
    {
     "name": "stdout",
     "output_type": "stream",
     "text": [
      "Mounted at /content/drive\n",
      " checkpoints_tf\t\t\t\t saved_models\n",
      "'Colab Notebooks'\t\t\t'Training 70% augmented Testing 30%'\n",
      "'Copy of Updated File 10-2-2024.ipynb'\t'Training augmented'\n",
      " dataset\t\t\t\t'Training augmented - Copy dummy'\n",
      " dataset_breast\t\t\t\t'training & testing original data'\n",
      "'Oiginal Data'\t\t\t\t Untitled0.ipynb\n",
      "Drive already mounted at /content/drive; to attempt to forcibly remount, call drive.mount(\"/content/drive\", force_remount=True).\n"
     ]
    }
   ],
   "source": [
    "# Mount Google Drive\n",
    "from google.colab import drive\n",
    "drive.mount('/content/drive') # Mount to /content/drive\n",
    "\n",
    "# Check if the directory exists\n",
    "!ls /content/drive/MyDrive/ # list contents of MyDrive to see if your folders exist\n",
    "\n",
    "# If the directory exists, you can try mounting to a subdirectory\n",
    "!mkdir -p /content/drive/MyDrive/dataset breast # creates the directory if it does not exist\n",
    "\n",
    "# Mount to the /content/drive directory\n",
    "drive.mount('/content/drive') # Now try mounting to the subdirectory"
   ]
  },
  {
   "cell_type": "markdown",
   "metadata": {
    "id": "mLfD59g_4tk4"
   },
   "source": [
    "# New section"
   ]
  },
  {
   "cell_type": "code",
   "execution_count": null,
   "metadata": {
    "id": "7kP6YqCmrUT0"
   },
   "outputs": [],
   "source": [
    "#   Paths to your dataset\n",
    "train_loc = '/content/drive/MyDrive/Training augmented/Training'\n",
    "val_loc = '/content/drive/MyDrive/Training augmented/Validation'\n",
    "test_loc = '/content/drive/MyDrive/Training augmented/Testing'"
   ]
  },
  {
   "cell_type": "code",
   "execution_count": null,
   "metadata": {
    "id": "ergHXilKsGGc"
   },
   "outputs": [],
   "source": [
    "# Data preparation\n",
    "BATCH_SIZE = 32\n"
   ]
  },
  {
   "cell_type": "code",
   "execution_count": null,
   "metadata": {
    "id": "4iU2qrUW40Zr"
   },
   "outputs": [],
   "source": []
  },
  {
   "cell_type": "code",
   "execution_count": null,
   "metadata": {
    "colab": {
     "base_uri": "https://localhost:8080/"
    },
    "id": "x6T7At1Q4uqI",
    "outputId": "43ab8d2e-621b-4f19-9f62-905b17fc4e0d"
   },
   "outputs": [
    {
     "name": "stdout",
     "output_type": "stream",
     "text": [
      "Drive already mounted at /content/drive; to attempt to forcibly remount, call drive.mount(\"/content/drive\", force_remount=True).\n",
      " checkpoints_tf\t\t\t\t saved_models\n",
      "'Colab Notebooks'\t\t\t'Training 70% augmented Testing 30%'\n",
      "'Copy of Updated File 10-2-2024.ipynb'\t'Training augmented'\n",
      " dataset\t\t\t\t'Training augmented - Copy dummy'\n",
      " dataset_breast\t\t\t\t'training & testing original data'\n",
      "'Oiginal Data'\t\t\t\t Untitled0.ipynb\n",
      "Found 4388 images belonging to 3 classes.\n"
     ]
    }
   ],
   "source": [
    "# Mount Google Drive\n",
    "from google.colab import drive\n",
    "drive.mount('/content/drive')\n",
    "\n",
    "# List the contents of your Drive to double check the path\n",
    "!ls \"/content/drive/MyDrive\"\n",
    "\n",
    "#  Paths to your dataset\n",
    "train_loc = '/content/drive/MyDrive/Training augmented/Training'\n",
    "val_loc = '/content/drive/MyDrive/Training augmented/Validation'\n",
    "test_loc = '/content/drive/MyDrive/Training augmented/Testing'\n",
    "# Data preparation\n",
    "BATCH_SIZE = 32\n",
    "\n",
    "trdata = ImageDataGenerator(rescale=1./255)\n",
    "\n",
    "# Add error handling for the file not found case\n",
    "try:\n",
    "    train_data = trdata.flow_from_directory(directory=train_loc, target_size=(224,224), batch_size=BATCH_SIZE, shuffle=True, seed=42)\n",
    "except FileNotFoundError:\n",
    "    print(f\"Error: Directory not found - {train_loc}\")\n",
    "    # Handle the error, e.g., by asking the user to verify the path or creating the directory"
   ]
  },
  {
   "cell_type": "code",
   "execution_count": null,
   "metadata": {
    "colab": {
     "base_uri": "https://localhost:8080/"
    },
    "id": "rkpQbjRKsJJp",
    "outputId": "5fa17489-1b1f-48e1-cc03-3a186aea8e24"
   },
   "outputs": [
    {
     "name": "stdout",
     "output_type": "stream",
     "text": [
      "Drive already mounted at /content/drive; to attempt to forcibly remount, call drive.mount(\"/content/drive\", force_remount=True).\n",
      " checkpoints_tf\t\t\t\t saved_models\n",
      "'Colab Notebooks'\t\t\t'Training 70% augmented Testing 30%'\n",
      "'Copy of Updated File 10-2-2024.ipynb'\t'Training augmented'\n",
      " dataset\t\t\t\t'Training augmented - Copy dummy'\n",
      " dataset_breast\t\t\t\t'training & testing original data'\n",
      "'Oiginal Data'\t\t\t\t Untitled0.ipynb\n",
      "Found 4388 images belonging to 3 classes.\n"
     ]
    }
   ],
   "source": [
    "# Mount Google Drive\n",
    "from google.colab import drive\n",
    "drive.mount('/content/drive')\n",
    "\n",
    "# List the contents of your Drive to double check the path\n",
    "!ls \"/content/drive/MyDrive\"\n",
    "\n",
    "#  Paths to your dataset\n",
    "train_loc = '/content/drive/MyDrive/Training augmented/Training'\n",
    "val_loc = '/content/drive/MyDrive/Training augmented/Validation'\n",
    "\n",
    "trdata = ImageDataGenerator(rescale=1./255)\n",
    "\n",
    "# Add error handling for the file not found case\n",
    "try:\n",
    "    train_data = trdata.flow_from_directory(directory=train_loc, target_size=(224,224), batch_size=BATCH_SIZE, shuffle=True, seed=42)\n",
    "except FileNotFoundError:\n",
    "    print(f\"Error: Directory not found - {train_loc}\")\n",
    "    # Handle the error, e.g., by asking the user to verify the path or creating the directory"
   ]
  },
  {
   "cell_type": "code",
   "execution_count": null,
   "metadata": {
    "colab": {
     "base_uri": "https://localhost:8080/"
    },
    "id": "1hlHBwPzsNW2",
    "outputId": "a1e934bb-279f-4ba9-b6a1-3a7370790bcb"
   },
   "outputs": [
    {
     "name": "stdout",
     "output_type": "stream",
     "text": [
      "Found 235 images belonging to 3 classes.\n"
     ]
    }
   ],
   "source": [
    "vdata = ImageDataGenerator(rescale=1./255)\n",
    "# Add error handling for the file not found case\n",
    "try:\n",
    "    val_data = vdata.flow_from_directory(directory=val_loc, target_size=(224,224), batch_size=BATCH_SIZE, shuffle=True, seed=42)\n",
    "except FileNotFoundError:\n",
    "    print(f\"Error: Directory not found - {val_loc}\")\n",
    "    # Handle the error, e.g., by asking the user to verify the path or creating the directory"
   ]
  },
  {
   "cell_type": "code",
   "execution_count": null,
   "metadata": {
    "colab": {
     "base_uri": "https://localhost:8080/"
    },
    "id": "Qj_ywPehDCYJ",
    "outputId": "a1677e7a-eb88-4c5b-f21a-bf0ae23de9c4"
   },
   "outputs": [
    {
     "name": "stdout",
     "output_type": "stream",
     "text": [
      "Drive already mounted at /content/drive; to attempt to forcibly remount, call drive.mount(\"/content/drive\", force_remount=True).\n",
      " checkpoints_tf\t\t\t\t saved_models\n",
      "'Colab Notebooks'\t\t\t'Training 70% augmented Testing 30%'\n",
      "'Copy of Updated File 10-2-2024.ipynb'\t'Training augmented'\n",
      " dataset\t\t\t\t'Training augmented - Copy dummy'\n",
      " dataset_breast\t\t\t\t'training & testing original data'\n",
      "'Oiginal Data'\t\t\t\t Untitled0.ipynb\n"
     ]
    }
   ],
   "source": [
    "from tensorflow.keras.preprocessing.image import ImageDataGenerator\n",
    "import os\n",
    "\n",
    "# Mount Google Drive\n",
    "from google.colab import drive\n",
    "drive.mount('/content/drive')\n",
    "\n",
    "# List the contents of your Drive to double check the path\n",
    "!ls \"/content/drive/MyDrive\"\n",
    "\n",
    "# Paths to your dataset\n",
    "# ... rest of your code"
   ]
  },
  {
   "cell_type": "code",
   "execution_count": null,
   "metadata": {
    "id": "magz6fEQEG3Q"
   },
   "outputs": [],
   "source": [
    "# Class weights calculation for handling class imbalance\n",
    "counter = Counter('/content/drive/MyDrive/Training augmented')\n",
    "max_val = float(max(counter.values()))\n",
    "class_weights = {class_id: max_val/num_images for class_id, num_images in counter.items()}"
   ]
  },
  {
   "cell_type": "code",
   "execution_count": null,
   "metadata": {
    "id": "HsbycPkMEMOk"
   },
   "outputs": [],
   "source": [
    "# Function to build the VGG16-based model\n",
    "def create_vgg16_model(input_shape, n_classes, optimizer):\n",
    "    conv_base = VGG16(include_top=False, weights='imagenet', input_shape=input_shape)"
   ]
  },
  {
   "cell_type": "code",
   "execution_count": null,
   "metadata": {
    "id": "7iDksbhiEiv2"
   },
   "outputs": [],
   "source": [
    "# Function to build the VGG16-based model\n",
    "def create_vgg16_model(input_shape, n_classes, optimizer):\n",
    "    conv_base = VGG16(include_top=False, weights='imagenet', input_shape=input_shape)\n",
    "    # Custom top layers\n",
    "    x = conv_base.output\n",
    "    x = GlobalAveragePooling2D()(x)\n",
    "    x = Dropout(0.5)(x)\n",
    "    x = Dense(512, activation='relu')(x)\n",
    "    x = Dropout(0.5)(x)\n",
    "    x = Dense(256, activation='relu')(x)\n",
    "    x = Dropout(0.3)(x)\n",
    "    output_layer = Dense(n_classes, activation='softmax')(x)"
   ]
  },
  {
   "cell_type": "code",
   "execution_count": null,
   "metadata": {
    "id": "eyJSzApFEnN2"
   },
   "outputs": [],
   "source": [
    "# Function to build the VGG16-based model\n",
    "def create_vgg16_model(input_shape, n_classes, optimizer):\n",
    "    conv_base = VGG16(include_top=False, weights='imagenet', input_shape=input_shape)\n",
    "    # Custom top layers\n",
    "    x = conv_base.output\n",
    "    x = GlobalAveragePooling2D()(x)\n",
    "    x = Dropout(0.5)(x)\n",
    "    x = Dense(512, activation='relu')(x)\n",
    "    x = Dropout(0.5)(x)\n",
    "    x = Dense(256, activation='relu')(x)\n",
    "    x = Dropout(0.3)(x)\n",
    "    output_layer = Dense(n_classes, activation='softmax')(x)\n",
    "    # Combine the base model with custom layers\n",
    "    model = Model(inputs=conv_base.input, outputs=output_layer) # removed the unexpected indent"
   ]
  },
  {
   "cell_type": "code",
   "execution_count": null,
   "metadata": {
    "colab": {
     "base_uri": "https://localhost:8080/"
    },
    "id": "fDMcYkOAEyIM",
    "outputId": "741704bb-d933-4bf7-e533-c4023c151ca0"
   },
   "outputs": [
    {
     "name": "stdout",
     "output_type": "stream",
     "text": [
      "Downloading data from https://storage.googleapis.com/tensorflow/keras-applications/vgg16/vgg16_weights_tf_dim_ordering_tf_kernels_notop.h5\n",
      "\u001b[1m58889256/58889256\u001b[0m \u001b[32m━━━━━━━━━━━━━━━━━━━━\u001b[0m\u001b[37m\u001b[0m \u001b[1m3s\u001b[0m 0us/step\n"
     ]
    }
   ],
   "source": [
    "# Function to build the VGG16-based model\n",
    "def create_vgg16_model(input_shape, n_classes, optimizer):\n",
    "    conv_base = VGG16(include_top=False, weights='imagenet', input_shape=input_shape)\n",
    "    # Custom top layers\n",
    "    x = conv_base.output\n",
    "    x = GlobalAveragePooling2D()(x)\n",
    "    x = Dropout(0.5)(x)\n",
    "    x = Dense(512, activation='relu')(x)\n",
    "    x = Dropout(0.5)(x)\n",
    "    x = Dense(256, activation='relu')(x)\n",
    "    x = Dropout(0.3)(x)\n",
    "    output_layer = Dense(n_classes, activation='softmax')(x)\n",
    "    # Combine the base model with custom layers\n",
    "    model = Model(inputs=conv_base.input, outputs=output_layer) # Fixed the indentation so model is defined within the function\n",
    "    return model # Return the model object\n",
    "\n",
    "# Define the necessary variables\n",
    "input_shape = (224, 224, 3) # Example input shape for VGG16\n",
    "n_classes = 2 # Example number of classes\n",
    "import tensorflow as tf\n",
    "optimizer = tf.keras.optimizers.Adam() # Example optimizer\n",
    "\n",
    "# Assuming you have input_shape, n_classes and optimizer defined somewhere\n",
    "model = create_vgg16_model(input_shape, n_classes, optimizer) # Call the function to create and assign the model\n",
    "\n",
    "# Compile the model\n",
    "model.compile(optimizer=optimizer, loss='categorical_crossentropy', metrics=['accuracy'])"
   ]
  },
  {
   "cell_type": "code",
   "execution_count": null,
   "metadata": {
    "colab": {
     "base_uri": "https://localhost:8080/",
     "height": 977
    },
    "id": "MClvl--uFdCI",
    "outputId": "12db1338-93ff-4649-f201-1dd856e37fcd"
   },
   "outputs": [
    {
     "data": {
      "text/html": [
       "<pre style=\"white-space:pre;overflow-x:auto;line-height:normal;font-family:Menlo,'DejaVu Sans Mono',consolas,'Courier New',monospace\"><span style=\"font-weight: bold\">Model: \"functional\"</span>\n",
       "</pre>\n"
      ],
      "text/plain": [
       "\u001b[1mModel: \"functional\"\u001b[0m\n"
      ]
     },
     "metadata": {},
     "output_type": "display_data"
    },
    {
     "data": {
      "text/html": [
       "<pre style=\"white-space:pre;overflow-x:auto;line-height:normal;font-family:Menlo,'DejaVu Sans Mono',consolas,'Courier New',monospace\">┏━━━━━━━━━━━━━━━━━━━━━━━━━━━━━━━━━━━━━━┳━━━━━━━━━━━━━━━━━━━━━━━━━━━━━┳━━━━━━━━━━━━━━━━━┓\n",
       "┃<span style=\"font-weight: bold\"> Layer (type)                         </span>┃<span style=\"font-weight: bold\"> Output Shape                </span>┃<span style=\"font-weight: bold\">         Param # </span>┃\n",
       "┡━━━━━━━━━━━━━━━━━━━━━━━━━━━━━━━━━━━━━━╇━━━━━━━━━━━━━━━━━━━━━━━━━━━━━╇━━━━━━━━━━━━━━━━━┩\n",
       "│ input_layer (<span style=\"color: #0087ff; text-decoration-color: #0087ff\">InputLayer</span>)             │ (<span style=\"color: #00d7ff; text-decoration-color: #00d7ff\">None</span>, <span style=\"color: #00af00; text-decoration-color: #00af00\">224</span>, <span style=\"color: #00af00; text-decoration-color: #00af00\">224</span>, <span style=\"color: #00af00; text-decoration-color: #00af00\">3</span>)         │               <span style=\"color: #00af00; text-decoration-color: #00af00\">0</span> │\n",
       "├──────────────────────────────────────┼─────────────────────────────┼─────────────────┤\n",
       "│ block1_conv1 (<span style=\"color: #0087ff; text-decoration-color: #0087ff\">Conv2D</span>)                │ (<span style=\"color: #00d7ff; text-decoration-color: #00d7ff\">None</span>, <span style=\"color: #00af00; text-decoration-color: #00af00\">224</span>, <span style=\"color: #00af00; text-decoration-color: #00af00\">224</span>, <span style=\"color: #00af00; text-decoration-color: #00af00\">64</span>)        │           <span style=\"color: #00af00; text-decoration-color: #00af00\">1,792</span> │\n",
       "├──────────────────────────────────────┼─────────────────────────────┼─────────────────┤\n",
       "│ block1_conv2 (<span style=\"color: #0087ff; text-decoration-color: #0087ff\">Conv2D</span>)                │ (<span style=\"color: #00d7ff; text-decoration-color: #00d7ff\">None</span>, <span style=\"color: #00af00; text-decoration-color: #00af00\">224</span>, <span style=\"color: #00af00; text-decoration-color: #00af00\">224</span>, <span style=\"color: #00af00; text-decoration-color: #00af00\">64</span>)        │          <span style=\"color: #00af00; text-decoration-color: #00af00\">36,928</span> │\n",
       "├──────────────────────────────────────┼─────────────────────────────┼─────────────────┤\n",
       "│ block1_pool (<span style=\"color: #0087ff; text-decoration-color: #0087ff\">MaxPooling2D</span>)           │ (<span style=\"color: #00d7ff; text-decoration-color: #00d7ff\">None</span>, <span style=\"color: #00af00; text-decoration-color: #00af00\">112</span>, <span style=\"color: #00af00; text-decoration-color: #00af00\">112</span>, <span style=\"color: #00af00; text-decoration-color: #00af00\">64</span>)        │               <span style=\"color: #00af00; text-decoration-color: #00af00\">0</span> │\n",
       "├──────────────────────────────────────┼─────────────────────────────┼─────────────────┤\n",
       "│ block2_conv1 (<span style=\"color: #0087ff; text-decoration-color: #0087ff\">Conv2D</span>)                │ (<span style=\"color: #00d7ff; text-decoration-color: #00d7ff\">None</span>, <span style=\"color: #00af00; text-decoration-color: #00af00\">112</span>, <span style=\"color: #00af00; text-decoration-color: #00af00\">112</span>, <span style=\"color: #00af00; text-decoration-color: #00af00\">128</span>)       │          <span style=\"color: #00af00; text-decoration-color: #00af00\">73,856</span> │\n",
       "├──────────────────────────────────────┼─────────────────────────────┼─────────────────┤\n",
       "│ block2_conv2 (<span style=\"color: #0087ff; text-decoration-color: #0087ff\">Conv2D</span>)                │ (<span style=\"color: #00d7ff; text-decoration-color: #00d7ff\">None</span>, <span style=\"color: #00af00; text-decoration-color: #00af00\">112</span>, <span style=\"color: #00af00; text-decoration-color: #00af00\">112</span>, <span style=\"color: #00af00; text-decoration-color: #00af00\">128</span>)       │         <span style=\"color: #00af00; text-decoration-color: #00af00\">147,584</span> │\n",
       "├──────────────────────────────────────┼─────────────────────────────┼─────────────────┤\n",
       "│ block2_pool (<span style=\"color: #0087ff; text-decoration-color: #0087ff\">MaxPooling2D</span>)           │ (<span style=\"color: #00d7ff; text-decoration-color: #00d7ff\">None</span>, <span style=\"color: #00af00; text-decoration-color: #00af00\">56</span>, <span style=\"color: #00af00; text-decoration-color: #00af00\">56</span>, <span style=\"color: #00af00; text-decoration-color: #00af00\">128</span>)         │               <span style=\"color: #00af00; text-decoration-color: #00af00\">0</span> │\n",
       "├──────────────────────────────────────┼─────────────────────────────┼─────────────────┤\n",
       "│ block3_conv1 (<span style=\"color: #0087ff; text-decoration-color: #0087ff\">Conv2D</span>)                │ (<span style=\"color: #00d7ff; text-decoration-color: #00d7ff\">None</span>, <span style=\"color: #00af00; text-decoration-color: #00af00\">56</span>, <span style=\"color: #00af00; text-decoration-color: #00af00\">56</span>, <span style=\"color: #00af00; text-decoration-color: #00af00\">256</span>)         │         <span style=\"color: #00af00; text-decoration-color: #00af00\">295,168</span> │\n",
       "├──────────────────────────────────────┼─────────────────────────────┼─────────────────┤\n",
       "│ block3_conv2 (<span style=\"color: #0087ff; text-decoration-color: #0087ff\">Conv2D</span>)                │ (<span style=\"color: #00d7ff; text-decoration-color: #00d7ff\">None</span>, <span style=\"color: #00af00; text-decoration-color: #00af00\">56</span>, <span style=\"color: #00af00; text-decoration-color: #00af00\">56</span>, <span style=\"color: #00af00; text-decoration-color: #00af00\">256</span>)         │         <span style=\"color: #00af00; text-decoration-color: #00af00\">590,080</span> │\n",
       "├──────────────────────────────────────┼─────────────────────────────┼─────────────────┤\n",
       "│ block3_conv3 (<span style=\"color: #0087ff; text-decoration-color: #0087ff\">Conv2D</span>)                │ (<span style=\"color: #00d7ff; text-decoration-color: #00d7ff\">None</span>, <span style=\"color: #00af00; text-decoration-color: #00af00\">56</span>, <span style=\"color: #00af00; text-decoration-color: #00af00\">56</span>, <span style=\"color: #00af00; text-decoration-color: #00af00\">256</span>)         │         <span style=\"color: #00af00; text-decoration-color: #00af00\">590,080</span> │\n",
       "├──────────────────────────────────────┼─────────────────────────────┼─────────────────┤\n",
       "│ block3_pool (<span style=\"color: #0087ff; text-decoration-color: #0087ff\">MaxPooling2D</span>)           │ (<span style=\"color: #00d7ff; text-decoration-color: #00d7ff\">None</span>, <span style=\"color: #00af00; text-decoration-color: #00af00\">28</span>, <span style=\"color: #00af00; text-decoration-color: #00af00\">28</span>, <span style=\"color: #00af00; text-decoration-color: #00af00\">256</span>)         │               <span style=\"color: #00af00; text-decoration-color: #00af00\">0</span> │\n",
       "├──────────────────────────────────────┼─────────────────────────────┼─────────────────┤\n",
       "│ block4_conv1 (<span style=\"color: #0087ff; text-decoration-color: #0087ff\">Conv2D</span>)                │ (<span style=\"color: #00d7ff; text-decoration-color: #00d7ff\">None</span>, <span style=\"color: #00af00; text-decoration-color: #00af00\">28</span>, <span style=\"color: #00af00; text-decoration-color: #00af00\">28</span>, <span style=\"color: #00af00; text-decoration-color: #00af00\">512</span>)         │       <span style=\"color: #00af00; text-decoration-color: #00af00\">1,180,160</span> │\n",
       "├──────────────────────────────────────┼─────────────────────────────┼─────────────────┤\n",
       "│ block4_conv2 (<span style=\"color: #0087ff; text-decoration-color: #0087ff\">Conv2D</span>)                │ (<span style=\"color: #00d7ff; text-decoration-color: #00d7ff\">None</span>, <span style=\"color: #00af00; text-decoration-color: #00af00\">28</span>, <span style=\"color: #00af00; text-decoration-color: #00af00\">28</span>, <span style=\"color: #00af00; text-decoration-color: #00af00\">512</span>)         │       <span style=\"color: #00af00; text-decoration-color: #00af00\">2,359,808</span> │\n",
       "├──────────────────────────────────────┼─────────────────────────────┼─────────────────┤\n",
       "│ block4_conv3 (<span style=\"color: #0087ff; text-decoration-color: #0087ff\">Conv2D</span>)                │ (<span style=\"color: #00d7ff; text-decoration-color: #00d7ff\">None</span>, <span style=\"color: #00af00; text-decoration-color: #00af00\">28</span>, <span style=\"color: #00af00; text-decoration-color: #00af00\">28</span>, <span style=\"color: #00af00; text-decoration-color: #00af00\">512</span>)         │       <span style=\"color: #00af00; text-decoration-color: #00af00\">2,359,808</span> │\n",
       "├──────────────────────────────────────┼─────────────────────────────┼─────────────────┤\n",
       "│ block4_pool (<span style=\"color: #0087ff; text-decoration-color: #0087ff\">MaxPooling2D</span>)           │ (<span style=\"color: #00d7ff; text-decoration-color: #00d7ff\">None</span>, <span style=\"color: #00af00; text-decoration-color: #00af00\">14</span>, <span style=\"color: #00af00; text-decoration-color: #00af00\">14</span>, <span style=\"color: #00af00; text-decoration-color: #00af00\">512</span>)         │               <span style=\"color: #00af00; text-decoration-color: #00af00\">0</span> │\n",
       "├──────────────────────────────────────┼─────────────────────────────┼─────────────────┤\n",
       "│ block5_conv1 (<span style=\"color: #0087ff; text-decoration-color: #0087ff\">Conv2D</span>)                │ (<span style=\"color: #00d7ff; text-decoration-color: #00d7ff\">None</span>, <span style=\"color: #00af00; text-decoration-color: #00af00\">14</span>, <span style=\"color: #00af00; text-decoration-color: #00af00\">14</span>, <span style=\"color: #00af00; text-decoration-color: #00af00\">512</span>)         │       <span style=\"color: #00af00; text-decoration-color: #00af00\">2,359,808</span> │\n",
       "├──────────────────────────────────────┼─────────────────────────────┼─────────────────┤\n",
       "│ block5_conv2 (<span style=\"color: #0087ff; text-decoration-color: #0087ff\">Conv2D</span>)                │ (<span style=\"color: #00d7ff; text-decoration-color: #00d7ff\">None</span>, <span style=\"color: #00af00; text-decoration-color: #00af00\">14</span>, <span style=\"color: #00af00; text-decoration-color: #00af00\">14</span>, <span style=\"color: #00af00; text-decoration-color: #00af00\">512</span>)         │       <span style=\"color: #00af00; text-decoration-color: #00af00\">2,359,808</span> │\n",
       "├──────────────────────────────────────┼─────────────────────────────┼─────────────────┤\n",
       "│ block5_conv3 (<span style=\"color: #0087ff; text-decoration-color: #0087ff\">Conv2D</span>)                │ (<span style=\"color: #00d7ff; text-decoration-color: #00d7ff\">None</span>, <span style=\"color: #00af00; text-decoration-color: #00af00\">14</span>, <span style=\"color: #00af00; text-decoration-color: #00af00\">14</span>, <span style=\"color: #00af00; text-decoration-color: #00af00\">512</span>)         │       <span style=\"color: #00af00; text-decoration-color: #00af00\">2,359,808</span> │\n",
       "├──────────────────────────────────────┼─────────────────────────────┼─────────────────┤\n",
       "│ block5_pool (<span style=\"color: #0087ff; text-decoration-color: #0087ff\">MaxPooling2D</span>)           │ (<span style=\"color: #00d7ff; text-decoration-color: #00d7ff\">None</span>, <span style=\"color: #00af00; text-decoration-color: #00af00\">7</span>, <span style=\"color: #00af00; text-decoration-color: #00af00\">7</span>, <span style=\"color: #00af00; text-decoration-color: #00af00\">512</span>)           │               <span style=\"color: #00af00; text-decoration-color: #00af00\">0</span> │\n",
       "├──────────────────────────────────────┼─────────────────────────────┼─────────────────┤\n",
       "│ global_average_pooling2d             │ (<span style=\"color: #00d7ff; text-decoration-color: #00d7ff\">None</span>, <span style=\"color: #00af00; text-decoration-color: #00af00\">512</span>)                 │               <span style=\"color: #00af00; text-decoration-color: #00af00\">0</span> │\n",
       "│ (<span style=\"color: #0087ff; text-decoration-color: #0087ff\">GlobalAveragePooling2D</span>)             │                             │                 │\n",
       "├──────────────────────────────────────┼─────────────────────────────┼─────────────────┤\n",
       "│ dropout (<span style=\"color: #0087ff; text-decoration-color: #0087ff\">Dropout</span>)                    │ (<span style=\"color: #00d7ff; text-decoration-color: #00d7ff\">None</span>, <span style=\"color: #00af00; text-decoration-color: #00af00\">512</span>)                 │               <span style=\"color: #00af00; text-decoration-color: #00af00\">0</span> │\n",
       "├──────────────────────────────────────┼─────────────────────────────┼─────────────────┤\n",
       "│ dense (<span style=\"color: #0087ff; text-decoration-color: #0087ff\">Dense</span>)                        │ (<span style=\"color: #00d7ff; text-decoration-color: #00d7ff\">None</span>, <span style=\"color: #00af00; text-decoration-color: #00af00\">512</span>)                 │         <span style=\"color: #00af00; text-decoration-color: #00af00\">262,656</span> │\n",
       "├──────────────────────────────────────┼─────────────────────────────┼─────────────────┤\n",
       "│ dropout_1 (<span style=\"color: #0087ff; text-decoration-color: #0087ff\">Dropout</span>)                  │ (<span style=\"color: #00d7ff; text-decoration-color: #00d7ff\">None</span>, <span style=\"color: #00af00; text-decoration-color: #00af00\">512</span>)                 │               <span style=\"color: #00af00; text-decoration-color: #00af00\">0</span> │\n",
       "├──────────────────────────────────────┼─────────────────────────────┼─────────────────┤\n",
       "│ dense_1 (<span style=\"color: #0087ff; text-decoration-color: #0087ff\">Dense</span>)                      │ (<span style=\"color: #00d7ff; text-decoration-color: #00d7ff\">None</span>, <span style=\"color: #00af00; text-decoration-color: #00af00\">256</span>)                 │         <span style=\"color: #00af00; text-decoration-color: #00af00\">131,328</span> │\n",
       "├──────────────────────────────────────┼─────────────────────────────┼─────────────────┤\n",
       "│ dropout_2 (<span style=\"color: #0087ff; text-decoration-color: #0087ff\">Dropout</span>)                  │ (<span style=\"color: #00d7ff; text-decoration-color: #00d7ff\">None</span>, <span style=\"color: #00af00; text-decoration-color: #00af00\">256</span>)                 │               <span style=\"color: #00af00; text-decoration-color: #00af00\">0</span> │\n",
       "├──────────────────────────────────────┼─────────────────────────────┼─────────────────┤\n",
       "│ dense_2 (<span style=\"color: #0087ff; text-decoration-color: #0087ff\">Dense</span>)                      │ (<span style=\"color: #00d7ff; text-decoration-color: #00d7ff\">None</span>, <span style=\"color: #00af00; text-decoration-color: #00af00\">2</span>)                   │             <span style=\"color: #00af00; text-decoration-color: #00af00\">514</span> │\n",
       "└──────────────────────────────────────┴─────────────────────────────┴─────────────────┘\n",
       "</pre>\n"
      ],
      "text/plain": [
       "┏━━━━━━━━━━━━━━━━━━━━━━━━━━━━━━━━━━━━━━┳━━━━━━━━━━━━━━━━━━━━━━━━━━━━━┳━━━━━━━━━━━━━━━━━┓\n",
       "┃\u001b[1m \u001b[0m\u001b[1mLayer (type)                        \u001b[0m\u001b[1m \u001b[0m┃\u001b[1m \u001b[0m\u001b[1mOutput Shape               \u001b[0m\u001b[1m \u001b[0m┃\u001b[1m \u001b[0m\u001b[1m        Param #\u001b[0m\u001b[1m \u001b[0m┃\n",
       "┡━━━━━━━━━━━━━━━━━━━━━━━━━━━━━━━━━━━━━━╇━━━━━━━━━━━━━━━━━━━━━━━━━━━━━╇━━━━━━━━━━━━━━━━━┩\n",
       "│ input_layer (\u001b[38;5;33mInputLayer\u001b[0m)             │ (\u001b[38;5;45mNone\u001b[0m, \u001b[38;5;34m224\u001b[0m, \u001b[38;5;34m224\u001b[0m, \u001b[38;5;34m3\u001b[0m)         │               \u001b[38;5;34m0\u001b[0m │\n",
       "├──────────────────────────────────────┼─────────────────────────────┼─────────────────┤\n",
       "│ block1_conv1 (\u001b[38;5;33mConv2D\u001b[0m)                │ (\u001b[38;5;45mNone\u001b[0m, \u001b[38;5;34m224\u001b[0m, \u001b[38;5;34m224\u001b[0m, \u001b[38;5;34m64\u001b[0m)        │           \u001b[38;5;34m1,792\u001b[0m │\n",
       "├──────────────────────────────────────┼─────────────────────────────┼─────────────────┤\n",
       "│ block1_conv2 (\u001b[38;5;33mConv2D\u001b[0m)                │ (\u001b[38;5;45mNone\u001b[0m, \u001b[38;5;34m224\u001b[0m, \u001b[38;5;34m224\u001b[0m, \u001b[38;5;34m64\u001b[0m)        │          \u001b[38;5;34m36,928\u001b[0m │\n",
       "├──────────────────────────────────────┼─────────────────────────────┼─────────────────┤\n",
       "│ block1_pool (\u001b[38;5;33mMaxPooling2D\u001b[0m)           │ (\u001b[38;5;45mNone\u001b[0m, \u001b[38;5;34m112\u001b[0m, \u001b[38;5;34m112\u001b[0m, \u001b[38;5;34m64\u001b[0m)        │               \u001b[38;5;34m0\u001b[0m │\n",
       "├──────────────────────────────────────┼─────────────────────────────┼─────────────────┤\n",
       "│ block2_conv1 (\u001b[38;5;33mConv2D\u001b[0m)                │ (\u001b[38;5;45mNone\u001b[0m, \u001b[38;5;34m112\u001b[0m, \u001b[38;5;34m112\u001b[0m, \u001b[38;5;34m128\u001b[0m)       │          \u001b[38;5;34m73,856\u001b[0m │\n",
       "├──────────────────────────────────────┼─────────────────────────────┼─────────────────┤\n",
       "│ block2_conv2 (\u001b[38;5;33mConv2D\u001b[0m)                │ (\u001b[38;5;45mNone\u001b[0m, \u001b[38;5;34m112\u001b[0m, \u001b[38;5;34m112\u001b[0m, \u001b[38;5;34m128\u001b[0m)       │         \u001b[38;5;34m147,584\u001b[0m │\n",
       "├──────────────────────────────────────┼─────────────────────────────┼─────────────────┤\n",
       "│ block2_pool (\u001b[38;5;33mMaxPooling2D\u001b[0m)           │ (\u001b[38;5;45mNone\u001b[0m, \u001b[38;5;34m56\u001b[0m, \u001b[38;5;34m56\u001b[0m, \u001b[38;5;34m128\u001b[0m)         │               \u001b[38;5;34m0\u001b[0m │\n",
       "├──────────────────────────────────────┼─────────────────────────────┼─────────────────┤\n",
       "│ block3_conv1 (\u001b[38;5;33mConv2D\u001b[0m)                │ (\u001b[38;5;45mNone\u001b[0m, \u001b[38;5;34m56\u001b[0m, \u001b[38;5;34m56\u001b[0m, \u001b[38;5;34m256\u001b[0m)         │         \u001b[38;5;34m295,168\u001b[0m │\n",
       "├──────────────────────────────────────┼─────────────────────────────┼─────────────────┤\n",
       "│ block3_conv2 (\u001b[38;5;33mConv2D\u001b[0m)                │ (\u001b[38;5;45mNone\u001b[0m, \u001b[38;5;34m56\u001b[0m, \u001b[38;5;34m56\u001b[0m, \u001b[38;5;34m256\u001b[0m)         │         \u001b[38;5;34m590,080\u001b[0m │\n",
       "├──────────────────────────────────────┼─────────────────────────────┼─────────────────┤\n",
       "│ block3_conv3 (\u001b[38;5;33mConv2D\u001b[0m)                │ (\u001b[38;5;45mNone\u001b[0m, \u001b[38;5;34m56\u001b[0m, \u001b[38;5;34m56\u001b[0m, \u001b[38;5;34m256\u001b[0m)         │         \u001b[38;5;34m590,080\u001b[0m │\n",
       "├──────────────────────────────────────┼─────────────────────────────┼─────────────────┤\n",
       "│ block3_pool (\u001b[38;5;33mMaxPooling2D\u001b[0m)           │ (\u001b[38;5;45mNone\u001b[0m, \u001b[38;5;34m28\u001b[0m, \u001b[38;5;34m28\u001b[0m, \u001b[38;5;34m256\u001b[0m)         │               \u001b[38;5;34m0\u001b[0m │\n",
       "├──────────────────────────────────────┼─────────────────────────────┼─────────────────┤\n",
       "│ block4_conv1 (\u001b[38;5;33mConv2D\u001b[0m)                │ (\u001b[38;5;45mNone\u001b[0m, \u001b[38;5;34m28\u001b[0m, \u001b[38;5;34m28\u001b[0m, \u001b[38;5;34m512\u001b[0m)         │       \u001b[38;5;34m1,180,160\u001b[0m │\n",
       "├──────────────────────────────────────┼─────────────────────────────┼─────────────────┤\n",
       "│ block4_conv2 (\u001b[38;5;33mConv2D\u001b[0m)                │ (\u001b[38;5;45mNone\u001b[0m, \u001b[38;5;34m28\u001b[0m, \u001b[38;5;34m28\u001b[0m, \u001b[38;5;34m512\u001b[0m)         │       \u001b[38;5;34m2,359,808\u001b[0m │\n",
       "├──────────────────────────────────────┼─────────────────────────────┼─────────────────┤\n",
       "│ block4_conv3 (\u001b[38;5;33mConv2D\u001b[0m)                │ (\u001b[38;5;45mNone\u001b[0m, \u001b[38;5;34m28\u001b[0m, \u001b[38;5;34m28\u001b[0m, \u001b[38;5;34m512\u001b[0m)         │       \u001b[38;5;34m2,359,808\u001b[0m │\n",
       "├──────────────────────────────────────┼─────────────────────────────┼─────────────────┤\n",
       "│ block4_pool (\u001b[38;5;33mMaxPooling2D\u001b[0m)           │ (\u001b[38;5;45mNone\u001b[0m, \u001b[38;5;34m14\u001b[0m, \u001b[38;5;34m14\u001b[0m, \u001b[38;5;34m512\u001b[0m)         │               \u001b[38;5;34m0\u001b[0m │\n",
       "├──────────────────────────────────────┼─────────────────────────────┼─────────────────┤\n",
       "│ block5_conv1 (\u001b[38;5;33mConv2D\u001b[0m)                │ (\u001b[38;5;45mNone\u001b[0m, \u001b[38;5;34m14\u001b[0m, \u001b[38;5;34m14\u001b[0m, \u001b[38;5;34m512\u001b[0m)         │       \u001b[38;5;34m2,359,808\u001b[0m │\n",
       "├──────────────────────────────────────┼─────────────────────────────┼─────────────────┤\n",
       "│ block5_conv2 (\u001b[38;5;33mConv2D\u001b[0m)                │ (\u001b[38;5;45mNone\u001b[0m, \u001b[38;5;34m14\u001b[0m, \u001b[38;5;34m14\u001b[0m, \u001b[38;5;34m512\u001b[0m)         │       \u001b[38;5;34m2,359,808\u001b[0m │\n",
       "├──────────────────────────────────────┼─────────────────────────────┼─────────────────┤\n",
       "│ block5_conv3 (\u001b[38;5;33mConv2D\u001b[0m)                │ (\u001b[38;5;45mNone\u001b[0m, \u001b[38;5;34m14\u001b[0m, \u001b[38;5;34m14\u001b[0m, \u001b[38;5;34m512\u001b[0m)         │       \u001b[38;5;34m2,359,808\u001b[0m │\n",
       "├──────────────────────────────────────┼─────────────────────────────┼─────────────────┤\n",
       "│ block5_pool (\u001b[38;5;33mMaxPooling2D\u001b[0m)           │ (\u001b[38;5;45mNone\u001b[0m, \u001b[38;5;34m7\u001b[0m, \u001b[38;5;34m7\u001b[0m, \u001b[38;5;34m512\u001b[0m)           │               \u001b[38;5;34m0\u001b[0m │\n",
       "├──────────────────────────────────────┼─────────────────────────────┼─────────────────┤\n",
       "│ global_average_pooling2d             │ (\u001b[38;5;45mNone\u001b[0m, \u001b[38;5;34m512\u001b[0m)                 │               \u001b[38;5;34m0\u001b[0m │\n",
       "│ (\u001b[38;5;33mGlobalAveragePooling2D\u001b[0m)             │                             │                 │\n",
       "├──────────────────────────────────────┼─────────────────────────────┼─────────────────┤\n",
       "│ dropout (\u001b[38;5;33mDropout\u001b[0m)                    │ (\u001b[38;5;45mNone\u001b[0m, \u001b[38;5;34m512\u001b[0m)                 │               \u001b[38;5;34m0\u001b[0m │\n",
       "├──────────────────────────────────────┼─────────────────────────────┼─────────────────┤\n",
       "│ dense (\u001b[38;5;33mDense\u001b[0m)                        │ (\u001b[38;5;45mNone\u001b[0m, \u001b[38;5;34m512\u001b[0m)                 │         \u001b[38;5;34m262,656\u001b[0m │\n",
       "├──────────────────────────────────────┼─────────────────────────────┼─────────────────┤\n",
       "│ dropout_1 (\u001b[38;5;33mDropout\u001b[0m)                  │ (\u001b[38;5;45mNone\u001b[0m, \u001b[38;5;34m512\u001b[0m)                 │               \u001b[38;5;34m0\u001b[0m │\n",
       "├──────────────────────────────────────┼─────────────────────────────┼─────────────────┤\n",
       "│ dense_1 (\u001b[38;5;33mDense\u001b[0m)                      │ (\u001b[38;5;45mNone\u001b[0m, \u001b[38;5;34m256\u001b[0m)                 │         \u001b[38;5;34m131,328\u001b[0m │\n",
       "├──────────────────────────────────────┼─────────────────────────────┼─────────────────┤\n",
       "│ dropout_2 (\u001b[38;5;33mDropout\u001b[0m)                  │ (\u001b[38;5;45mNone\u001b[0m, \u001b[38;5;34m256\u001b[0m)                 │               \u001b[38;5;34m0\u001b[0m │\n",
       "├──────────────────────────────────────┼─────────────────────────────┼─────────────────┤\n",
       "│ dense_2 (\u001b[38;5;33mDense\u001b[0m)                      │ (\u001b[38;5;45mNone\u001b[0m, \u001b[38;5;34m2\u001b[0m)                   │             \u001b[38;5;34m514\u001b[0m │\n",
       "└──────────────────────────────────────┴─────────────────────────────┴─────────────────┘\n"
      ]
     },
     "metadata": {},
     "output_type": "display_data"
    },
    {
     "data": {
      "text/html": [
       "<pre style=\"white-space:pre;overflow-x:auto;line-height:normal;font-family:Menlo,'DejaVu Sans Mono',consolas,'Courier New',monospace\"><span style=\"font-weight: bold\"> Total params: </span><span style=\"color: #00af00; text-decoration-color: #00af00\">15,109,186</span> (57.64 MB)\n",
       "</pre>\n"
      ],
      "text/plain": [
       "\u001b[1m Total params: \u001b[0m\u001b[38;5;34m15,109,186\u001b[0m (57.64 MB)\n"
      ]
     },
     "metadata": {},
     "output_type": "display_data"
    },
    {
     "data": {
      "text/html": [
       "<pre style=\"white-space:pre;overflow-x:auto;line-height:normal;font-family:Menlo,'DejaVu Sans Mono',consolas,'Courier New',monospace\"><span style=\"font-weight: bold\"> Trainable params: </span><span style=\"color: #00af00; text-decoration-color: #00af00\">15,109,186</span> (57.64 MB)\n",
       "</pre>\n"
      ],
      "text/plain": [
       "\u001b[1m Trainable params: \u001b[0m\u001b[38;5;34m15,109,186\u001b[0m (57.64 MB)\n"
      ]
     },
     "metadata": {},
     "output_type": "display_data"
    },
    {
     "data": {
      "text/html": [
       "<pre style=\"white-space:pre;overflow-x:auto;line-height:normal;font-family:Menlo,'DejaVu Sans Mono',consolas,'Courier New',monospace\"><span style=\"font-weight: bold\"> Non-trainable params: </span><span style=\"color: #00af00; text-decoration-color: #00af00\">0</span> (0.00 B)\n",
       "</pre>\n"
      ],
      "text/plain": [
       "\u001b[1m Non-trainable params: \u001b[0m\u001b[38;5;34m0\u001b[0m (0.00 B)\n"
      ]
     },
     "metadata": {},
     "output_type": "display_data"
    }
   ],
   "source": [
    "model.summary()\n",
    "# removed the indent from return model as it is not part of any function and was causing the error"
   ]
  },
  {
   "cell_type": "code",
   "execution_count": null,
   "metadata": {
    "id": "-xyum5wRCxSY"
   },
   "outputs": [],
   "source": [
    "\n",
    "# Model configuration\n",
    "input_shape = (224, 224, 3)\n",
    "opt = Adam(learning_rate=0.00001)\n",
    "n_classes = len(train_data.class_indices)\n"
   ]
  },
  {
   "cell_type": "code",
   "execution_count": null,
   "metadata": {
    "id": "il798kj5C6kj"
   },
   "outputs": [],
   "source": [
    "# Create the VGG16 model\n",
    "model = create_vgg16_model(input_shape, n_classes, opt)\n"
   ]
  },
  {
   "cell_type": "code",
   "execution_count": null,
   "metadata": {
    "id": "FfZXMJHfC6aD"
   },
   "outputs": [],
   "source": [
    "# Model saving and early stopping configuration\n",
    "checkpoint = ModelCheckpoint(\"/content/drive/MyDrive/saved_models/vgg16_model.keras\", monitor='val_accuracy', verbose=1, save_best_only=True, mode='auto')\n",
    "early_stop = EarlyStopping(monitor='val_accuracy', min_delta=0, patience=20, verbose=1, mode='auto', restore_best_weights=True)"
   ]
  },
  {
   "cell_type": "code",
   "execution_count": null,
   "metadata": {
    "colab": {
     "base_uri": "https://localhost:8080/"
    },
    "id": "kGeIij_ywe6N",
    "outputId": "797999de-0ebf-4d67-f02c-0019888096f9"
   },
   "outputs": [
    {
     "name": "stdout",
     "output_type": "stream",
     "text": [
      "Found 235 images belonging to 3 classes.\n"
     ]
    }
   ],
   "source": [
    "from tensorflow.keras.preprocessing.image import ImageDataGenerator\n",
    "\n",
    "# Assign the path to your validation data directory to the variable\n",
    "validation_data_dir = '/content/drive/MyDrive/Training augmented/Validation'\n",
    "\n",
    "# Set your desired values for image width and height\n",
    "img_width = 224\n",
    "img_height = 224\n",
    "\n",
    "# Set the batch size\n",
    "batch_size = 32 # Example value, adjust as needed\n",
    "\n",
    "# Create an instance of ImageDataGenerator\n",
    "datagen = ImageDataGenerator(\n",
    "    # You can add data augmentation options here if needed, like:\n",
    "    # rotation_range=20,\n",
    "    # width_shift_range=0.2,\n",
    "    # height_shift_range=0.2,\n",
    "    # shear_range=0.2,\n",
    "    # zoom_range=0.2,\n",
    "    # horizontal_flip=True,\n",
    "    # fill_mode='nearest'\n",
    ")\n",
    "\n",
    "val_data = datagen.flow_from_directory(\n",
    "    validation_data_dir,\n",
    "    target_size=(img_width, img_height),\n",
    "    batch_size=batch_size,\n",
    "    class_mode='categorical'\n",
    ")"
   ]
  },
  {
   "cell_type": "code",
   "execution_count": null,
   "metadata": {
    "colab": {
     "base_uri": "https://localhost:8080/"
    },
    "id": "ucn_8e1uve-0",
    "outputId": "3a73ed85-a95e-4826-e000-9e6b025b53ed"
   },
   "outputs": [
    {
     "name": "stdout",
     "output_type": "stream",
     "text": [
      "Found 235 images belonging to 3 classes.\n"
     ]
    }
   ],
   "source": [
    "# Assuming 'validation_data_dir' is the path to your validation data directory\n",
    "val_data = datagen.flow_from_directory(\n",
    "    validation_data_dir,\n",
    "    target_size=(img_width, img_height),\n",
    "    batch_size=batch_size,\n",
    "    class_mode='categorical'\n",
    ")"
   ]
  },
  {
   "cell_type": "code",
   "execution_count": null,
   "metadata": {
    "id": "WZvHK9etDA5K"
   },
   "outputs": [],
   "source": [
    "# Train the model\n",
    "STEP_SIZE_TRAIN = train_data.n // train_data.batch_size\n",
    "STEP_SIZE_VALID = val_data.n // val_data.batch_size"
   ]
  },
  {
   "cell_type": "code",
   "execution_count": null,
   "metadata": {
    "colab": {
     "base_uri": "https://localhost:8080/"
    },
    "id": "7i7csji7H28i",
    "outputId": "035c20f8-8f1e-4f12-d1f9-509198265607"
   },
   "outputs": [
    {
     "name": "stdout",
     "output_type": "stream",
     "text": [
      "Drive already mounted at /content/drive; to attempt to forcibly remount, call drive.mount(\"/content/drive\", force_remount=True).\n",
      "Contents of /content/drive/MyDrive/dataset_breast:\n",
      "['Dataset']\n"
     ]
    }
   ],
   "source": [
    "from google.colab import drive\n",
    "\n",
    "# Mount Google Drive to the default location\n",
    "drive.mount('/content/drive')\n",
    "\n",
    "# Ensure the parent directory exists (after mounting)\n",
    "dataset_folder_path = '/content/drive/MyDrive/dataset_breast'\n",
    "\n",
    "\n",
    "# Check if the folder exists and list its contents\n",
    "import os\n",
    "if os.path.exists(dataset_folder_path):\n",
    "    print(f\"Contents of {dataset_folder_path}:\")\n",
    "    print(os.listdir(dataset_folder_path))\n",
    "else:\n",
    "    print(f\"Folder {dataset_folder_path} does not exist.\")\n"
   ]
  },
  {
   "cell_type": "code",
   "execution_count": null,
   "metadata": {
    "colab": {
     "base_uri": "https://localhost:8080/"
    },
    "id": "0nmKru3UFkZB",
    "outputId": "685fbcbb-b962-4406-9ad3-5220c9e7ad5b"
   },
   "outputs": [
    {
     "name": "stdout",
     "output_type": "stream",
     "text": [
      "Directory exists: /content/drive/MyDrive/Training augmented/Training\n",
      "Contents: ['benign', 'malignant', 'normal']\n"
     ]
    }
   ],
   "source": [
    "import os\n",
    "\n",
    "train_data_dir = '/content/drive/MyDrive/Training augmented/Training'\n",
    "# Check if the directory exists\n",
    "if os.path.exists(train_data_dir):\n",
    "    print(f\"Directory exists: {train_data_dir}\")\n",
    "    print(\"Contents:\", os.listdir(train_data_dir))  # List the contents of the directory\n",
    "else:\n",
    "    print(f\"Directory not found: {train_data_dir}\")\n"
   ]
  },
  {
   "cell_type": "code",
   "execution_count": null,
   "metadata": {
    "id": "HnkQVPZ5F0Q8"
   },
   "outputs": [],
   "source": [
    "train_data_dir = '/content/drive/MyDrive/Training augmented/Training'\n"
   ]
  },
  {
   "cell_type": "code",
   "execution_count": null,
   "metadata": {
    "colab": {
     "base_uri": "https://localhost:8080/"
    },
    "id": "rypmcQxSK4y-",
    "outputId": "395c9643-01ae-4301-9593-1e5f7da83cde"
   },
   "outputs": [
    {
     "name": "stdout",
     "output_type": "stream",
     "text": [
      "Directory exists: /content/drive/MyDrive/Training augmented/Training\n",
      "Contents: ['benign', 'malignant', 'normal']\n"
     ]
    }
   ],
   "source": [
    "import os\n",
    "\n",
    "train_data_dir = '/content/drive/MyDrive/Training augmented/Training'\n",
    "\n",
    "\n",
    "# Check if the directory exists\n",
    "if os.path.exists(train_data_dir):\n",
    "    print(f\"Directory exists: {train_data_dir}\")\n",
    "    print(\"Contents:\", os.listdir(train_data_dir))  # List the contents of the directory\n",
    "else:\n",
    "    print(f\"Directory not found: {train_data_dir}\")\n"
   ]
  },
  {
   "cell_type": "code",
   "execution_count": null,
   "metadata": {
    "colab": {
     "base_uri": "https://localhost:8080/"
    },
    "id": "ffEFYhrJnYuE",
    "outputId": "30089abc-3300-4672-8fb7-9c5568e70581"
   },
   "outputs": [
    {
     "name": "stdout",
     "output_type": "stream",
     "text": [
      "Drive already mounted at /content/drive; to attempt to forcibly remount, call drive.mount(\"/content/drive\", force_remount=True).\n"
     ]
    }
   ],
   "source": [
    "from google.colab import drive\n",
    "drive.mount('/content/drive')"
   ]
  },
  {
   "cell_type": "code",
   "execution_count": null,
   "metadata": {
    "id": "glORj-92rHaw"
   },
   "outputs": [],
   "source": [
    "train_data_dir = '/content/drive/MyDrive/Training augmented/Training'"
   ]
  },
  {
   "cell_type": "code",
   "execution_count": null,
   "metadata": {
    "colab": {
     "base_uri": "https://localhost:8080/"
    },
    "id": "KFadhDwxrHOB",
    "outputId": "c143a2fe-b5c2-497b-c759-0e5979502398"
   },
   "outputs": [
    {
     "name": "stdout",
     "output_type": "stream",
     "text": [
      "Found 4388 images belonging to 3 classes.\n"
     ]
    }
   ],
   "source": [
    "from tensorflow.keras.preprocessing.image import ImageDataGenerator\n",
    "\n",
    "# Create an ImageDataGenerator instance\n",
    "# You can customize the augmentation parameters as needed\n",
    "train_datagen = ImageDataGenerator(\n",
    "    rescale=1./255,  # Example preprocessing - normalize pixel values\n",
    "    shear_range=0.2,\n",
    "    zoom_range=0.2,\n",
    "    horizontal_flip=True # removed extra indent\n",
    ")\n",
    "\n",
    "# Load the training data\n",
    "train_data = train_datagen.flow_from_directory(\n",
    "    '/content/drive/MyDrive/Training augmented/Training',\n",
    "    target_size=(224, 224) # Moved target_size to flow_from_directory\n",
    ")"
   ]
  },
  {
   "cell_type": "code",
   "execution_count": null,
   "metadata": {
    "id": "Z2t03kfzK7Pi"
   },
   "outputs": [],
   "source": [
    "# Import the required module\n",
    "from tensorflow.keras.optimizers import Adam\n",
    "\n",
    "# Define the optimizer\n",
    "opt = Adam()\n",
    "\n",
    "# Create the VGG16 model\n",
    "model = create_vgg16_model(input_shape, n_classes, opt)"
   ]
  },
  {
   "cell_type": "code",
   "execution_count": null,
   "metadata": {
    "id": "AVV-NhelNCVR"
   },
   "outputs": [],
   "source": [
    "# Model saving and early stopping configuration\n",
    "checkpoint = ModelCheckpoint(\"/content/drive/MyDrive/saved_models/vgg16_model.keras\", monitor='val_accuracy', verbose=1, save_best_only=True, mode='auto')\n",
    "early_stop = EarlyStopping(monitor='val_accuracy', min_delta=0, patience=20, verbose=1, mode='auto', restore_best_weights=True)\n"
   ]
  },
  {
   "cell_type": "code",
   "execution_count": null,
   "metadata": {
    "id": "7j-qsiUONFCE"
   },
   "outputs": [],
   "source": [
    "# Train the model\n",
    "STEP_SIZE_TRAIN = train_data.n // train_data.batch_size\n",
    "STEP_SIZE_VALID = val_data.n // val_data.batch_size"
   ]
  },
  {
   "cell_type": "code",
   "execution_count": null,
   "metadata": {
    "id": "oX_-CGJcSDgU"
   },
   "outputs": [],
   "source": [
    "# Define a checkpoint directory\n",
    "checkpoint_dir = '/content/drive/MyDrive/checkpoints_tf'\n",
    "os.makedirs(checkpoint_dir, exist_ok=True)\n",
    "\n",
    "# Create a checkpoint object\n",
    "checkpoint = tf.train.Checkpoint(optimizer=opt, model=model)\n",
    "\n",
    "# Define a checkpoint manager to manage multiple checkpoints\n",
    "checkpoint_manager = tf.train.CheckpointManager(\n",
    "    checkpoint, checkpoint_dir, max_to_keep=5  # Keep last 5 checkpoints\n",
    ")\n"
   ]
  },
  {
   "cell_type": "markdown",
   "metadata": {
    "id": "scBc3HHxaXpI"
   },
   "source": [
    "# First Time use following line of code\n",
    "### No need after code break"
   ]
  },
  {
   "cell_type": "code",
   "execution_count": null,
   "metadata": {
    "id": "sKpYA0NdWRUD"
   },
   "outputs": [],
   "source": [
    "from tensorflow.keras.callbacks import Callback"
   ]
  },
  {
   "cell_type": "code",
   "execution_count": null,
   "metadata": {
    "id": "TzcZxxYrTeXZ"
   },
   "outputs": [],
   "source": [
    "# Define a custom callback to save checkpoints\n",
    "class CustomCheckpointCallback(Callback):\n",
    "    def on_epoch_end(self, epoch, logs=None):\n",
    "        checkpoint_manager.save()\n",
    "        print(f\"\\nCheckpoint saved at epoch {epoch + 1}\")\n",
    "\n"
   ]
  },
  {
   "cell_type": "code",
   "execution_count": null,
   "metadata": {
    "colab": {
     "base_uri": "https://localhost:8080/"
    },
    "id": "_hxExFAqQM57",
    "outputId": "91e9ccd7-c3ab-4d3c-cd11-af3602f6111d"
   },
   "outputs": [
    {
     "name": "stdout",
     "output_type": "stream",
     "text": [
      "Downloading data from https://storage.googleapis.com/tensorflow/tf-keras-datasets/mnist.npz\n"
     ]
    },
    {
     "name": "stderr",
     "output_type": "stream",
     "text": [
      "/usr/local/lib/python3.10/dist-packages/keras/src/layers/reshaping/flatten.py:37: UserWarning: Do not pass an `input_shape`/`input_dim` argument to a layer. When using Sequential models, prefer using an `Input(shape)` object as the first layer in the model instead.\n",
      "  super().__init__(**kwargs)\n"
     ]
    },
    {
     "name": "stdout",
     "output_type": "stream",
     "text": [
      "\u001b[1m11490434/11490434\u001b[0m \u001b[32m━━━━━━━━━━━━━━━━━━━━\u001b[0m\u001b[37m\u001b[0m \u001b[1m1s\u001b[0m 0us/step\n",
      "Epoch 1/10\n",
      "\u001b[1m1875/1875\u001b[0m \u001b[32m━━━━━━━━━━━━━━━━━━━━\u001b[0m\u001b[37m\u001b[0m \u001b[1m6s\u001b[0m 3ms/step - accuracy: 0.8609 - loss: 0.4983 - val_accuracy: 0.9412 - val_loss: 0.1927\n",
      "Epoch 2/10\n",
      "\u001b[1m1875/1875\u001b[0m \u001b[32m━━━━━━━━━━━━━━━━━━━━\u001b[0m\u001b[37m\u001b[0m \u001b[1m7s\u001b[0m 4ms/step - accuracy: 0.9520 - loss: 0.1648 - val_accuracy: 0.9599 - val_loss: 0.1337\n",
      "Epoch 3/10\n",
      "\u001b[1m1875/1875\u001b[0m \u001b[32m━━━━━━━━━━━━━━━━━━━━\u001b[0m\u001b[37m\u001b[0m \u001b[1m7s\u001b[0m 2ms/step - accuracy: 0.9677 - loss: 0.1078 - val_accuracy: 0.9661 - val_loss: 0.1111\n",
      "Epoch 4/10\n",
      "\u001b[1m1875/1875\u001b[0m \u001b[32m━━━━━━━━━━━━━━━━━━━━\u001b[0m\u001b[37m\u001b[0m \u001b[1m6s\u001b[0m 3ms/step - accuracy: 0.9754 - loss: 0.0846 - val_accuracy: 0.9685 - val_loss: 0.1022\n",
      "Epoch 5/10\n",
      "\u001b[1m1875/1875\u001b[0m \u001b[32m━━━━━━━━━━━━━━━━━━━━\u001b[0m\u001b[37m\u001b[0m \u001b[1m8s\u001b[0m 2ms/step - accuracy: 0.9797 - loss: 0.0668 - val_accuracy: 0.9681 - val_loss: 0.1054\n",
      "Epoch 6/10\n",
      "\u001b[1m1875/1875\u001b[0m \u001b[32m━━━━━━━━━━━━━━━━━━━━\u001b[0m\u001b[37m\u001b[0m \u001b[1m6s\u001b[0m 3ms/step - accuracy: 0.9833 - loss: 0.0566 - val_accuracy: 0.9738 - val_loss: 0.0881\n",
      "Epoch 7/10\n",
      "\u001b[1m1875/1875\u001b[0m \u001b[32m━━━━━━━━━━━━━━━━━━━━\u001b[0m\u001b[37m\u001b[0m \u001b[1m8s\u001b[0m 2ms/step - accuracy: 0.9862 - loss: 0.0460 - val_accuracy: 0.9690 - val_loss: 0.1006\n",
      "Epoch 8/10\n",
      "\u001b[1m1875/1875\u001b[0m \u001b[32m━━━━━━━━━━━━━━━━━━━━\u001b[0m\u001b[37m\u001b[0m \u001b[1m7s\u001b[0m 3ms/step - accuracy: 0.9877 - loss: 0.0416 - val_accuracy: 0.9726 - val_loss: 0.0896\n",
      "Epoch 9/10\n",
      "\u001b[1m1875/1875\u001b[0m \u001b[32m━━━━━━━━━━━━━━━━━━━━\u001b[0m\u001b[37m\u001b[0m \u001b[1m4s\u001b[0m 2ms/step - accuracy: 0.9897 - loss: 0.0340 - val_accuracy: 0.9715 - val_loss: 0.0900\n",
      "Epoch 10/10\n",
      "\u001b[1m1875/1875\u001b[0m \u001b[32m━━━━━━━━━━━━━━━━━━━━\u001b[0m\u001b[37m\u001b[0m \u001b[1m4s\u001b[0m 2ms/step - accuracy: 0.9923 - loss: 0.0281 - val_accuracy: 0.9735 - val_loss: 0.0914\n"
     ]
    },
    {
     "data": {
      "text/plain": [
       "<keras.src.callbacks.history.History at 0x7d3d789ec580>"
      ]
     },
     "execution_count": 35,
     "metadata": {},
     "output_type": "execute_result"
    }
   ],
   "source": [
    "# Define the same model structure again\n",
    "model = tf.keras.models.Sequential([\n",
    "    tf.keras.layers.Flatten(input_shape=(28, 28, 1)), # Flatten the 28x28 image\n",
    "    tf.keras.layers.Dense(64, activation='relu'),\n",
    "    tf.keras.layers.Dense(10, activation='softmax')\n",
    "])\n",
    "\n",
    "# Compile the model\n",
    "model.compile(optimizer='adam', loss='sparse_categorical_crossentropy', metrics=['accuracy'])\n",
    "\n",
    "# Load the saved weights\n",
    "#model.load_weights(\"/content/checkpoint.pth\")\n",
    "\n",
    "# Load the MNIST dataset\n",
    "(train_data, train_labels), (test_data, test_labels) = tf.keras.datasets.mnist.load_data()\n",
    "\n",
    "# Preprocess the data (example)\n",
    "train_data = train_data.reshape((60000, 28, 28, 1))\n",
    "test_data = test_data.reshape((10000, 28, 28, 1))\n",
    "train_data = train_data.astype('float32') / 255.0\n",
    "test_data = test_data.astype('float32') / 255.0\n",
    "\n",
    "# Continue training\n",
    "model.fit(train_data, train_labels, initial_epoch=0, epochs=10, validation_data=(test_data, test_labels))"
   ]
  },
  {
   "cell_type": "markdown",
   "metadata": {
    "id": "U7uHADnpa1Sn"
   },
   "source": [
    "# Break the check points"
   ]
  },
  {
   "cell_type": "code",
   "execution_count": null,
   "metadata": {
    "colab": {
     "base_uri": "https://localhost:8080/"
    },
    "id": "VnrGnsdETa1A",
    "outputId": "75b20b6f-2809-4c02-ac87-b6b2b32c85af"
   },
   "outputs": [
    {
     "name": "stdout",
     "output_type": "stream",
     "text": [
      "Restoring from /content/drive/MyDrive/checkpoints_tf/ckpt-120\n"
     ]
    }
   ],
   "source": [
    "# Restore from the latest checkpoint\n",
    "if checkpoint_manager.latest_checkpoint:\n",
    "    print(f\"Restoring from {checkpoint_manager.latest_checkpoint}\")\n",
    "    checkpoint.restore(checkpoint_manager.latest_checkpoint)\n",
    "    # Determine the starting epoch (you might need to track this separately)\n",
    "    # TensorFlow's Checkpoint API doesn't automatically track epoch numbers\n",
    "else:\n",
    "    print(\"Initializing from scratch.\")"
   ]
  },
  {
   "cell_type": "code",
   "execution_count": null,
   "metadata": {
    "id": "S0-W5bDPZ11M"
   },
   "outputs": [],
   "source": [
    "# Compile the model\n",
    "model.compile(optimizer=opt,\n",
    "              loss='sparse_categorical_crossentropy',  # Use sparse_categorical_crossentropy\n",
    "              metrics=['accuracy'])"
   ]
  },
  {
   "cell_type": "code",
   "execution_count": null,
   "metadata": {
    "colab": {
     "base_uri": "https://localhost:8080/"
    },
    "id": "j4f53Kc-WuBl",
    "outputId": "d65230e2-419f-4ebb-9f61-b37918589f36"
   },
   "outputs": [
    {
     "name": "stdout",
     "output_type": "stream",
     "text": [
      "Epoch 1/10\n",
      "\u001b[1m1874/1875\u001b[0m \u001b[32m━━━━━━━━━━━━━━━━━━━\u001b[0m\u001b[37m━\u001b[0m \u001b[1m0s\u001b[0m 2ms/step - accuracy: 0.8593 - loss: 0.5060\n",
      "Checkpoint saved at epoch 1\n",
      "\u001b[1m1875/1875\u001b[0m \u001b[32m━━━━━━━━━━━━━━━━━━━━\u001b[0m\u001b[37m\u001b[0m \u001b[1m6s\u001b[0m 3ms/step - accuracy: 0.8594 - loss: 0.5058 - val_accuracy: 0.9514 - val_loss: 0.1707\n",
      "Epoch 2/10\n",
      "\u001b[1m1859/1875\u001b[0m \u001b[32m━━━━━━━━━━━━━━━━━━━\u001b[0m\u001b[37m━\u001b[0m \u001b[1m0s\u001b[0m 2ms/step - accuracy: 0.9542 - loss: 0.1568\n",
      "Checkpoint saved at epoch 2\n",
      "\u001b[1m1875/1875\u001b[0m \u001b[32m━━━━━━━━━━━━━━━━━━━━\u001b[0m\u001b[37m\u001b[0m \u001b[1m10s\u001b[0m 3ms/step - accuracy: 0.9542 - loss: 0.1567 - val_accuracy: 0.9636 - val_loss: 0.1247\n",
      "Epoch 3/10\n",
      "\u001b[1m1857/1875\u001b[0m \u001b[32m━━━━━━━━━━━━━━━━━━━\u001b[0m\u001b[37m━\u001b[0m \u001b[1m0s\u001b[0m 3ms/step - accuracy: 0.9692 - loss: 0.1050\n",
      "Checkpoint saved at epoch 3\n",
      "\u001b[1m1875/1875\u001b[0m \u001b[32m━━━━━━━━━━━━━━━━━━━━\u001b[0m\u001b[37m\u001b[0m \u001b[1m6s\u001b[0m 3ms/step - accuracy: 0.9692 - loss: 0.1050 - val_accuracy: 0.9693 - val_loss: 0.1033\n",
      "Epoch 4/10\n",
      "\u001b[1m1858/1875\u001b[0m \u001b[32m━━━━━━━━━━━━━━━━━━━\u001b[0m\u001b[37m━\u001b[0m \u001b[1m0s\u001b[0m 2ms/step - accuracy: 0.9754 - loss: 0.0822\n",
      "Checkpoint saved at epoch 4\n",
      "\u001b[1m1875/1875\u001b[0m \u001b[32m━━━━━━━━━━━━━━━━━━━━\u001b[0m\u001b[37m\u001b[0m \u001b[1m10s\u001b[0m 3ms/step - accuracy: 0.9754 - loss: 0.0822 - val_accuracy: 0.9697 - val_loss: 0.1020\n",
      "Epoch 5/10\n",
      "\u001b[1m1859/1875\u001b[0m \u001b[32m━━━━━━━━━━━━━━━━━━━\u001b[0m\u001b[37m━\u001b[0m \u001b[1m0s\u001b[0m 2ms/step - accuracy: 0.9791 - loss: 0.0703\n",
      "Checkpoint saved at epoch 5\n",
      "\u001b[1m1875/1875\u001b[0m \u001b[32m━━━━━━━━━━━━━━━━━━━━\u001b[0m\u001b[37m\u001b[0m \u001b[1m9s\u001b[0m 2ms/step - accuracy: 0.9791 - loss: 0.0702 - val_accuracy: 0.9742 - val_loss: 0.0903\n",
      "Epoch 6/10\n",
      "\u001b[1m1875/1875\u001b[0m \u001b[32m━━━━━━━━━━━━━━━━━━━━\u001b[0m\u001b[37m\u001b[0m \u001b[1m0s\u001b[0m 2ms/step - accuracy: 0.9833 - loss: 0.0546\n",
      "Checkpoint saved at epoch 6\n",
      "\u001b[1m1875/1875\u001b[0m \u001b[32m━━━━━━━━━━━━━━━━━━━━\u001b[0m\u001b[37m\u001b[0m \u001b[1m5s\u001b[0m 3ms/step - accuracy: 0.9833 - loss: 0.0547 - val_accuracy: 0.9695 - val_loss: 0.1086\n",
      "Epoch 7/10\n",
      "\u001b[1m1875/1875\u001b[0m \u001b[32m━━━━━━━━━━━━━━━━━━━━\u001b[0m\u001b[37m\u001b[0m \u001b[1m0s\u001b[0m 2ms/step - accuracy: 0.9852 - loss: 0.0477\n",
      "Checkpoint saved at epoch 7\n",
      "\u001b[1m1875/1875\u001b[0m \u001b[32m━━━━━━━━━━━━━━━━━━━━\u001b[0m\u001b[37m\u001b[0m \u001b[1m9s\u001b[0m 2ms/step - accuracy: 0.9852 - loss: 0.0477 - val_accuracy: 0.9736 - val_loss: 0.0881\n",
      "Epoch 8/10\n",
      "\u001b[1m1872/1875\u001b[0m \u001b[32m━━━━━━━━━━━━━━━━━━━\u001b[0m\u001b[37m━\u001b[0m \u001b[1m0s\u001b[0m 3ms/step - accuracy: 0.9879 - loss: 0.0408\n",
      "Checkpoint saved at epoch 8\n",
      "\u001b[1m1875/1875\u001b[0m \u001b[32m━━━━━━━━━━━━━━━━━━━━\u001b[0m\u001b[37m\u001b[0m \u001b[1m7s\u001b[0m 4ms/step - accuracy: 0.9879 - loss: 0.0408 - val_accuracy: 0.9754 - val_loss: 0.0897\n",
      "Epoch 9/10\n",
      "\u001b[1m1872/1875\u001b[0m \u001b[32m━━━━━━━━━━━━━━━━━━━\u001b[0m\u001b[37m━\u001b[0m \u001b[1m0s\u001b[0m 2ms/step - accuracy: 0.9895 - loss: 0.0337\n",
      "Checkpoint saved at epoch 9\n",
      "\u001b[1m1875/1875\u001b[0m \u001b[32m━━━━━━━━━━━━━━━━━━━━\u001b[0m\u001b[37m\u001b[0m \u001b[1m8s\u001b[0m 3ms/step - accuracy: 0.9895 - loss: 0.0337 - val_accuracy: 0.9713 - val_loss: 0.0988\n",
      "Epoch 10/10\n",
      "\u001b[1m1871/1875\u001b[0m \u001b[32m━━━━━━━━━━━━━━━━━━━\u001b[0m\u001b[37m━\u001b[0m \u001b[1m0s\u001b[0m 3ms/step - accuracy: 0.9915 - loss: 0.0283\n",
      "Checkpoint saved at epoch 10\n",
      "\u001b[1m1875/1875\u001b[0m \u001b[32m━━━━━━━━━━━━━━━━━━━━\u001b[0m\u001b[37m\u001b[0m \u001b[1m7s\u001b[0m 4ms/step - accuracy: 0.9915 - loss: 0.0284 - val_accuracy: 0.9741 - val_loss: 0.0970\n",
      "Restoring model weights from the end of the best epoch: 8.\n"
     ]
    }
   ],
   "source": [
    "# Define the same model structure again\n",
    "model = tf.keras.models.Sequential([\n",
    "    tf.keras.layers.Flatten(input_shape=(28, 28, 1)), # Flatten the 28x28 image\n",
    "    tf.keras.layers.Dense(64, activation='relu'),\n",
    "    tf.keras.layers.Dense(10, activation='softmax')\n",
    "])\n",
    "\n",
    "# Compile the model\n",
    "model.compile(optimizer='adam', loss='sparse_categorical_crossentropy', metrics=['accuracy'])\n",
    "\n",
    "# Load the MNIST dataset\n",
    "(train_data, train_labels), (test_data, test_labels) = tf.keras.datasets.mnist.load_data()\n",
    "\n",
    "# Preprocess the data (example)\n",
    "train_data = train_data.reshape((60000, 28, 28, 1))\n",
    "test_data = test_data.reshape((10000, 28, 28, 1))\n",
    "train_data = train_data.astype('float32') / 255.0\n",
    "test_data = test_data.astype('float32') / 255.0\n",
    "\n",
    "# Continue training\n",
    "history = model.fit(\n",
    "    train_data,\n",
    "    train_labels,\n",
    "    epochs=10,\n",
    "    initial_epoch=0,\n",
    "    validation_data=(test_data, test_labels),\n",
    "    callbacks=[CustomCheckpointCallback(), early_stop]\n",
    ")"
   ]
  },
  {
   "cell_type": "markdown",
   "metadata": {
    "id": "je-tRJaGbfBL"
   },
   "source": []
  },
  {
   "cell_type": "code",
   "execution_count": null,
   "metadata": {
    "colab": {
     "base_uri": "https://localhost:8080/"
    },
    "id": "PNFIW8txNLN8",
    "outputId": "d9be235a-a701-4fd9-e5ac-495b0f8dd96f"
   },
   "outputs": [
    {
     "name": "stdout",
     "output_type": "stream",
     "text": [
      "\u001b[1m312/312\u001b[0m \u001b[32m━━━━━━━━━━━━━━━━━━━━\u001b[0m\u001b[37m\u001b[0m \u001b[1m0s\u001b[0m 1ms/step - accuracy: 0.9707 - loss: 0.1068\n",
      "Test Loss: 0.08966202288866043\n",
      "Test Accuracy: 0.9753999710083008\n"
     ]
    },
    {
     "name": "stderr",
     "output_type": "stream",
     "text": [
      "/usr/lib/python3.10/contextlib.py:153: UserWarning: Your input ran out of data; interrupting training. Make sure that your dataset or generator can generate at least `steps_per_epoch * epochs` batches. You may need to use the `.repeat()` function when building your dataset.\n",
      "  self.gen.throw(typ, value, traceback)\n"
     ]
    }
   ],
   "source": [
    "# Reshape test_data to match the input shape of the model\n",
    "test_data = test_data.reshape((-1, 28, 28, 1))\n",
    "\n",
    "# Evaluate on test data\n",
    "STEP_SIZE_TEST = len(test_labels) // batch_size\n",
    "test_loss, test_acc = model.evaluate(test_data[:len(test_labels)], test_labels, steps=STEP_SIZE_TEST)\n",
    "print(f'Test Loss: {test_loss}')\n",
    "print(f'Test Accuracy: {test_acc}')"
   ]
  },
  {
   "cell_type": "code",
   "execution_count": null,
   "metadata": {
    "id": "baxIpluIQ6jy"
   },
   "outputs": [],
   "source": [
    "# Calculate the correct step size\n",
    "STEP_SIZE_TEST = test_data.shape[0] // batch_size\n",
    "if test_data.shape[0] % batch_size != 0:\n",
    "    STEP_SIZE_TEST += 1"
   ]
  },
  {
   "cell_type": "code",
   "execution_count": null,
   "metadata": {
    "colab": {
     "base_uri": "https://localhost:8080/"
    },
    "id": "_4rLsWc-As2_",
    "outputId": "4eff4c0d-b51e-43e4-b012-1d80a3919994"
   },
   "outputs": [
    {
     "name": "stdout",
     "output_type": "stream",
     "text": [
      "\u001b[1m313/313\u001b[0m \u001b[32m━━━━━━━━━━━━━━━━━━━━\u001b[0m\u001b[37m\u001b[0m \u001b[1m1s\u001b[0m 1ms/step\n"
     ]
    }
   ],
   "source": [
    "# Make predictions on the test data\n",
    "predictions = model.predict(test_data, steps=STEP_SIZE_TEST)\n",
    "# Convert predictions to class labels\n",
    "predicted_classes = np.argmax(predictions, axis=1)"
   ]
  },
  {
   "cell_type": "code",
   "execution_count": null,
   "metadata": {
    "colab": {
     "base_uri": "https://localhost:8080/"
    },
    "id": "f7e6qxcQAszo",
    "outputId": "6bfd77d8-82a3-4a44-f509-e8f6c24ae510"
   },
   "outputs": [
    {
     "name": "stdout",
     "output_type": "stream",
     "text": [
      "Classification Report:\n",
      "              precision    recall  f1-score   support\n",
      "\n",
      "           0       0.98      0.98      0.98       980\n",
      "           1       0.99      0.99      0.99      1135\n",
      "           2       0.97      0.98      0.97      1032\n",
      "           3       0.96      0.99      0.97      1010\n",
      "           4       0.98      0.97      0.98       982\n",
      "           5       0.98      0.97      0.97       892\n",
      "           6       0.98      0.98      0.98       958\n",
      "           7       0.97      0.97      0.97      1028\n",
      "           8       0.97      0.96      0.96       974\n",
      "           9       0.98      0.96      0.97      1009\n",
      "\n",
      "    accuracy                           0.98     10000\n",
      "   macro avg       0.98      0.98      0.98     10000\n",
      "weighted avg       0.98      0.98      0.98     10000\n",
      "\n"
     ]
    }
   ],
   "source": [
    "# Access the true classes from test_labels instead of test_data\n",
    "true_classes = test_labels[:len(predicted_classes)]\n",
    "class_labels = [str(i) for i in range(10)] # Convert class labels to strings\n",
    "report = classification_report(true_classes, predicted_classes, target_names=class_labels)\n",
    "print(\"Classification Report:\")\n",
    "print(report)"
   ]
  },
  {
   "cell_type": "code",
   "execution_count": null,
   "metadata": {
    "id": "WsNiP1UtA2NQ"
   },
   "outputs": [],
   "source": [
    "import seaborn as sns  # Import Seaborn for advanced plotting\n",
    "import matplotlib.pyplot as plt  # Import Matplotlib for basic plotting"
   ]
  },
  {
   "cell_type": "markdown",
   "metadata": {
    "id": "J1HquxHpA7Ij"
   },
   "source": [
    "# Assuming you have already calculated the confusion matrix `cm` and `true_classes` and `predicted_classes`\n"
   ]
  },
  {
   "cell_type": "code",
   "execution_count": null,
   "metadata": {
    "id": "c2SV3biPA2Kk"
   },
   "outputs": [],
   "source": [
    "# Define the class labels\n",
    "class_labels = [str(i) for i in range(10)] # Assuming 10 classes, modify if necessary"
   ]
  },
  {
   "cell_type": "code",
   "execution_count": null,
   "metadata": {
    "colab": {
     "base_uri": "https://localhost:8080/",
     "height": 571
    },
    "id": "rNhxmJ5rAspe",
    "outputId": "bde352e9-633a-43e5-a978-ea56503bdadf"
   },
   "outputs": [
    {
     "data": {
      "image/png": "[encoded data removed]",
      "text/plain": [
       "<Figure size 800x600 with 2 Axes>"
      ]
     },
     "metadata": {},
     "output_type": "display_data"
    }
   ],
   "source": [
    "# Import the necessary library\n",
    "from sklearn.metrics import confusion_matrix\n",
    "\n",
    "# Assuming you have true_classes and predicted_classes defined\n",
    "cm = confusion_matrix(true_classes, predicted_classes)\n",
    "\n",
    "# Plotting the confusion matrix\n",
    "plt.figure(figsize=(8, 6))\n",
    "sns.heatmap(cm, annot=True, fmt='d', cmap='Blues', xticklabels=class_labels, yticklabels=class_labels)\n",
    "plt.title('Confusion Matrix', fontsize=16)\n",
    "plt.xlabel('Predicted Label', fontsize=14)\n",
    "plt.ylabel('True Label', fontsize=14)\n",
    "plt.show()\n"
   ]
  },
  {
   "cell_type": "markdown",
   "metadata": {
    "id": "0Az1nuDeIfUi"
   },
   "source": [
    "# **1. SVM Classifier**\n"
   ]
  },
  {
   "cell_type": "code",
   "execution_count": null,
   "metadata": {
    "id": "Ec72lO3WEIWu"
   },
   "outputs": [],
   "source": [
    "from sklearn import svm\n",
    "from sklearn.metrics import accuracy_score, classification_report, confusion_matrix\n",
    "import matplotlib.pyplot as plt\n",
    "import seaborn as sns\n",
    "import numpy as np\n",
    "\n",
    "# Reshape train_data and test_data before fitting and predicting\n",
    "train_data = train_data.reshape(train_data.shape[0], -1)\n",
    "test_data = test_data.reshape(test_data.shape[0], -1)\n",
    "\n",
    "# SVM classifier\n",
    "svm_clf = svm.SVC(kernel='linear', probability=True) # You can change the kernel, e.g., 'rbf', 'poly'\n",
    "svm_clf.fit(train_data, train_labels)\n",
    "\n",
    "# Predict using SVM\n",
    "svm_pred = svm_clf.predict(test_data)\n",
    "\n",
    "# Predict probabilities\n",
    "svm_prob = svm_clf.predict_proba(test_data)\n",
    "\n",
    "# Classification report\n",
    "print(\"SVM Classification Report:\")\n",
    "print(classification_report(test_labels, svm_pred))\n",
    "\n",
    "# Confusion Matrix\n",
    "svm_cm = confusion_matrix(test_labels, svm_pred)\n",
    "\n",
    "# Plotting the confusion matrix for SVM\n",
    "plt.figure(figsize=(8,6))\n",
    "sns.heatmap(svm_cm, annot=True, fmt='d', cmap='Blues')\n",
    "plt.title('SVM Confusion Matrix')\n",
    "plt.xlabel('Predicted')\n",
    "plt.ylabel('Actual')\n",
    "plt.show()\n"
   ]
  },
  {
   "cell_type": "code",
   "execution_count": null,
   "metadata": {
    "id": "FXORAcDWUFJF"
   },
   "outputs": [],
   "source": [
    "from sklearn.metrics import roc_auc_score, roc_curve\n",
    "from sklearn.preprocessing import label_binarize # Removed extra indentation\n",
    "\n",
    "# Binarize the labels for multiclass ROC AUC calculation\n",
    "y_test_bin = label_binarize(test_labels, classes=np.unique(test_labels))\n",
    "n_classes = y_test_bin.shape[1]\n",
    "\n",
    "# Calculate ROC curve and AUC for each class\n",
    "fpr_svm = dict()\n",
    "tpr_svm = dict()\n",
    "roc_auc_svm = dict()\n",
    "for i in range(n_classes):\n",
    "    fpr_svm[i], tpr_svm[i], _ = roc_curve(y_test_bin[:, i], svm_prob[:, i])\n",
    "    roc_auc_svm[i] = auc(fpr_svm[i], tpr_svm[i])\n",
    "\n",
    "# Plot the ROC curves (example for one class)\n",
    "plt.figure()\n",
    "plt.plot(fpr_svm[0], tpr_svm[0], label='ROC curve (area = %0.2f)' % roc_auc_svm[0])\n",
    "plt.plot([0, 1], [0, 1], 'k--')\n",
    "plt.xlim([0.0, 1.0])\n",
    "plt.ylim([0.0, 1.05])\n",
    "plt.xlabel('False Positive Rate')\n",
    "plt.ylabel('True Positive Rate')\n",
    "plt.title('Receiver operating characteristic example')\n",
    "plt.legend(loc=\"lower right\")\n",
    "plt.show()"
   ]
  },
  {
   "cell_type": "markdown",
   "metadata": {
    "id": "Jof2_RoCJXKk"
   },
   "source": [
    "# **2. K-Nearest Neighbors (KNN) Classifier**"
   ]
  },
  {
   "cell_type": "code",
   "execution_count": null,
   "metadata": {
    "id": "cP6jq1huI7lI"
   },
   "outputs": [],
   "source": [
    "from sklearn.neighbors import KNeighborsClassifier\n",
    "\n",
    "# KNN classifier\n",
    "knn_clf = KNeighborsClassifier(n_neighbors=5) # You can change n_neighbors based on your data\n",
    "knn_clf.fit(train_data, train_labels)\n",
    "\n",
    "# Predict using KNN\n",
    "knn_pred = knn_clf.predict(test_data)\n",
    "\n",
    "# Classification report\n",
    "print(\"KNN Classification Report:\")\n",
    "print(classification_report(test_labels, knn_pred))\n",
    "\n",
    "# Confusion Matrix\n",
    "knn_cm = confusion_matrix(test_labels, knn_pred)\n",
    "\n",
    "# Plotting the confusion matrix for KNN\n",
    "plt.figure(figsize=(8,6))\n",
    "sns.heatmap(knn_cm, annot=True, fmt='d', cmap='Blues')\n",
    "plt.title('KNN Confusion Matrix')\n",
    "plt.xlabel('Predicted')\n",
    "plt.ylabel('Actual')\n",
    "plt.show()\n"
   ]
  },
  {
   "cell_type": "markdown",
   "metadata": {
    "id": "MSXV0MyUMBwS"
   },
   "source": [
    "# ROC CURVE\n"
   ]
  },
  {
   "cell_type": "code",
   "execution_count": null,
   "metadata": {
    "id": "2BwREsU-MAhc"
   },
   "outputs": [],
   "source": [
    "from sklearn.preprocessing import label_binarize\n",
    "from sklearn.metrics import roc_curve, auc\n",
    "\n",
    "# Binarize the labels for multiclass ROC AUC calculation\n",
    "test_labels_bin = label_binarize(test_labels, classes=np.unique(test_labels))\n",
    "\n",
    "# Calculate ROC curve and AUC for each class\n",
    "fpr_knn = dict()\n",
    "tpr_knn = dict()\n",
    "roc_auc_knn = dict()\n",
    "n_classes = test_labels_bin.shape[1]\n",
    "\n",
    "for i in range(n_classes):\n",
    "    knn_prob_class_i = knn_clf.predict_proba(test_data)[:, i]  # Probability for class i\n",
    "    fpr_knn[i], tpr_knn[i], _ = roc_curve(test_labels_bin[:, i], knn_prob_class_i)\n",
    "    roc_auc_knn[i] = auc(fpr_knn[i], tpr_knn[i])\n",
    "\n",
    "# Plot ROC curves for each class (example for one class)\n",
    "# Replace plot_roc_curve with your actual plotting function\n",
    "# plot_roc_curve(fpr_knn[0], tpr_knn[0], roc_auc_knn[0], 'KNN - Class 0')\n",
    "\n",
    "# ... (Similarly plot for other classes) ..."
   ]
  },
  {
   "cell_type": "code",
   "execution_count": null,
   "metadata": {
    "id": "feOhevoSRzYs"
   },
   "outputs": [],
   "source": []
  },
  {
   "cell_type": "code",
   "execution_count": null,
   "metadata": {
    "id": "sY6BsP5zQ0iM"
   },
   "outputs": [],
   "source": [
    "import matplotlib.pyplot as plt\n",
    "import numpy as np\n",
    "from sklearn.preprocessing import label_binarize\n",
    "from sklearn.metrics import roc_curve, auc, RocCurveDisplay\n",
    "\n",
    "# ... (your existing code from ipython-input-55-a1d1401d8c5a) ...\n",
    "\n",
    "# Function to plot ROC curve (modified)\n",
    "def plot_roc_curve(fpr, tpr, roc_auc, model_name):\n",
    "    \"\"\"\n",
    "    Plots the ROC curve for a given model.\n",
    "\n",
    "    Args:\n",
    "        fpr (dict): False positive rates for each class.\n",
    "        tpr (dict): True positive rates for each class.\n",
    "        roc_auc (dict): AUC values for each class.\n",
    "        model_name (str): Name of the model for the plot title.\n",
    "    \"\"\"\n",
    "\n",
    "    n_classes = len(fpr) # Get number of classes\n",
    "\n",
    "    # Plot ROC curves for each class\n",
    "    plt.figure(figsize=(8, 6))\n",
    "    for i in range(n_classes):\n",
    "        display = RocCurveDisplay(fpr=fpr[i], tpr=tpr[i], roc_auc=roc_auc[i])\n",
    "        display.plot(ax=plt.gca(), name=f'{model_name} - Class {i}') # Plot on current axes\n",
    "\n",
    "    plt.plot([0, 1], [0, 1], 'k--', label='Random Guess') # Baseline\n",
    "    plt.xlabel('False Positive Rate')\n",
    "    plt.ylabel('True Positive Rate')\n",
    "    plt.title(f'{model_name} ROC Curve')\n",
    "    plt.legend(loc=\"lower right\")\n",
    "    plt.show()\n",
    "\n",
    "\n",
    "# Call the function with the calculated values\n",
    "plot_roc_curve(fpr_knn, tpr_knn, roc_auc_knn, 'KNN')"
   ]
  },
  {
   "cell_type": "markdown",
   "metadata": {
    "id": "nFwesVe8McQf"
   },
   "source": [
    "# **3. Naive Bayes Classifier:**"
   ]
  },
  {
   "cell_type": "code",
   "execution_count": null,
   "metadata": {
    "id": "Q9ErbjQsMZoU"
   },
   "outputs": [],
   "source": [
    "from sklearn.naive_bayes import GaussianNB\n",
    "\n",
    "# Naive Bayes classifier\n",
    "nb_clf = GaussianNB()\n",
    "nb_clf.fit(train_data, train_labels)\n",
    "\n",
    "# Predict using Naive Bayes\n",
    "nb_pred = nb_clf.predict(test_data)\n",
    "\n",
    "# Classification report\n",
    "print(\"Naive Bayes Classification Report:\")\n",
    "print(classification_report(test_labels, nb_pred))\n",
    "\n",
    "# Confusion Matrix\n",
    "nb_cm = confusion_matrix(test_labels, nb_pred)\n",
    "\n",
    "# Plotting the confusion matrix for Naive Bayes\n",
    "plt.figure(figsize=(8,6))\n",
    "sns.heatmap(nb_cm, annot=True, fmt='d', cmap='Blues')\n",
    "plt.title('Naive Bayes Confusion Matrix')\n",
    "plt.xlabel('Predicted')\n",
    "plt.ylabel('Actual')\n",
    "plt.show()\n"
   ]
  },
  {
   "cell_type": "markdown",
   "metadata": {
    "id": "TKQcv8UnMZVD"
   },
   "source": []
  },
  {
   "cell_type": "markdown",
   "metadata": {
    "id": "4FvC6mt_XxJ4"
   },
   "source": []
  },
  {
   "cell_type": "code",
   "execution_count": null,
   "metadata": {
    "id": "o7Qvt-wKXwoT"
   },
   "outputs": [],
   "source": [
    "# Calculate accuracy scores for each classifier\n",
    "svm_acc = accuracy_score(test_labels, svm_pred)\n",
    "knn_acc = accuracy_score(test_labels, knn_pred)\n",
    "nb_acc = accuracy_score(test_labels, nb_pred)\n",
    "\n",
    "# Accuracy comparison plot\n",
    "classifiers = ['SVM', 'KNN', 'Naive Bayes']\n",
    "accuracies = [svm_acc, knn_acc, nb_acc]\n",
    "\n",
    "plt.figure(figsize=(8,6))\n",
    "plt.bar(classifiers, accuracies, color=['blue', 'green', 'orange'])\n",
    "plt.xlabel('Classifier')\n",
    "plt.ylabel('Accuracy')\n",
    "plt.title('Accuracy Comparison of SVM, KNN, and Naive Bayes')\n",
    "plt.show()\n"
   ]
  },
  {
   "cell_type": "markdown",
   "metadata": {
    "id": "QsLGKgQZXz2d"
   },
   "source": [
    "# ROC CURVE"
   ]
  },
  {
   "cell_type": "code",
   "execution_count": null,
   "metadata": {
    "id": "eQizY_7c4RGn"
   },
   "outputs": [],
   "source": [
    "import matplotlib.pyplot as plt\n",
    "import numpy as np\n",
    "from sklearn.preprocessing import label_binarize\n",
    "from sklearn.metrics import roc_curve, auc, RocCurveDisplay\n",
    "from sklearn.naive_bayes import GaussianNB\n",
    "\n",
    "# Assuming train_data, train_labels, test_data, and test_labels are already defined\n",
    "\n",
    "# Reshape train_data and test_data before fitting and predicting\n",
    "train_data = train_data.reshape(train_data.shape[0], -1)\n",
    "test_data = test_data.reshape(test_data.shape[0], -1)\n",
    "\n",
    "# Naive Bayes classifier\n",
    "nb_clf = GaussianNB()\n",
    "nb_clf.fit(train_data, train_labels)\n",
    "\n",
    "# Predict probabilities\n",
    "nb_prob = nb_clf.predict_proba(test_data)\n",
    "\n",
    "# Binarize the labels for multiclass ROC AUC calculation\n",
    "y_test_bin = label_binarize(test_labels, classes=np.unique(test_labels))\n",
    "n_classes = y_test_bin.shape[1]\n",
    "\n",
    "# Calculate ROC curve and AUC for each class\n",
    "fpr_nb = dict()\n",
    "tpr_nb = dict()\n",
    "roc_auc_nb = dict()\n",
    "for i in range(n_classes):\n",
    "    fpr_nb[i], tpr_nb[i], _ = roc_curve(y_test_bin[:, i], nb_prob[:, i])\n",
    "    roc_auc_nb[i] = auc(fpr_nb[i], tpr_nb[i])"
   ]
  },
  {
   "cell_type": "code",
   "execution_count": null,
   "metadata": {
    "id": "LY-tVaoVSTQZ"
   },
   "outputs": [],
   "source": [
    "import matplotlib.pyplot as plt\n",
    "import numpy as np\n",
    "from sklearn.preprocessing import label_binarize\n",
    "from sklearn.metrics import roc_curve, auc, RocCurveDisplay\n",
    "\n",
    "# ... (your existing code from ipython-input-55-a1d1401d8c5a) ...\n",
    "\n",
    "# Function to plot ROC curve (modified)\n",
    "def plot_roc_curve(fpr, tpr, roc_auc, model_name):\n",
    "    \"\"\"\n",
    "    Plots the ROC curve for a given model.\n",
    "\n",
    "    Args:\n",
    "        fpr (dict or array-like): False positive rates for each class or a single class.\n",
    "        tpr (dict or array-like): True positive rates for each class or a single class.\n",
    "        roc_auc (dict or float): AUC values for each class or a single class.\n",
    "        model_name (str): Name of the model for the plot title.\n",
    "    \"\"\"\n",
    "\n",
    "    # Check if fpr is a dictionary (multi-class) or not (single-class)\n",
    "    if isinstance(fpr, dict):\n",
    "        n_classes = len(fpr)\n",
    "        # Plot ROC curves for each class (multi-class case)\n",
    "        plt.figure(figsize=(8, 6))\n",
    "        for i in range(n_classes):\n",
    "            display = RocCurveDisplay(fpr=fpr[i], tpr=tpr[i], roc_auc=roc_auc[i])\n",
    "            display.plot(ax=plt.gca(), name=f'{model_name} - Class {i}')\n",
    "    else:\n",
    "        # Plot ROC curve for a single class (single-class case)\n",
    "        plt.figure(figsize=(8, 6))\n",
    "        display = RocCurveDisplay(fpr=fpr, tpr=tpr, roc_auc=roc_auc)\n",
    "        display.plot(ax=plt.gca(), name=model_name)\n",
    "\n",
    "    plt.plot([0, 1], [0, 1], 'k--', label='Random Guess')  # Baseline\n",
    "    plt.xlabel('False Positive Rate')\n",
    "    plt.ylabel('True Positive Rate')\n",
    "    plt.title(f'{model_name} ROC Curve')\n",
    "    plt.legend(loc=\"lower right\")\n",
    "    plt.show()\n",
    "\n",
    "# Call the function with the calculated values\n",
    "plot_roc_curve(fpr_nb, tpr_nb, roc_auc_nb, 'Naive Bayes - Class 0')"
   ]
  },
  {
   "cell_type": "markdown",
   "metadata": {
    "id": "U-EXbtdJj6h5"
   },
   "source": [
    "# COMPARISON"
   ]
  },
  {
   "cell_type": "code",
   "execution_count": null,
   "metadata": {
    "id": "yDAF4dvTT-9m"
   },
   "outputs": [],
   "source": [
    "# Plot ROC curves for all classifiers\n",
    "plt.figure(figsize=(8, 6))\n",
    "plot_roc_curve(fpr_svm, tpr_svm, roc_auc_svm, 'SVM')\n",
    "plot_roc_curve(fpr_knn, tpr_knn, roc_auc_knn, 'KNN')\n",
    "plot_roc_curve(fpr_nb, tpr_nb, roc_auc_nb, 'Naive Bayes')\n",
    "\n",
    "# Plot settings\n",
    "plt.plot([0, 1], [0, 1], color='navy', linestyle='--')  # Diagonal line for random guessing\n",
    "plt.xlim([0.0, 1.0])\n",
    "plt.ylim([0.0, 1.05])\n",
    "plt.xlabel('False Positive Rate')\n",
    "plt.ylabel('True Positive Rate')\n",
    "plt.title('ROC Curves for SVM, KNN, and Naive Bayes')\n",
    "plt.legend(loc=\"lower right\")\n",
    "plt.show()\n"
   ]
  },
  {
   "cell_type": "markdown",
   "metadata": {
    "id": "9u3VCVm2SSxr"
   },
   "source": []
  },
  {
   "cell_type": "code",
   "execution_count": null,
   "metadata": {
    "id": "lmCyYyiakmXv"
   },
   "outputs": [],
   "source": []
  },
  {
   "cell_type": "code",
   "execution_count": null,
   "metadata": {
    "id": "95V5VhA-j0fF"
   },
   "outputs": [],
   "source": [
    "# Calculate accuracy scores for each classifier\n",
    "svm_acc = accuracy_score(test_labels, svm_pred)\n",
    "knn_acc = accuracy_score(test_labels, knn_pred)\n",
    "nb_acc = accuracy_score(test_labels, nb_pred)\n",
    "\n",
    "# Accuracy comparison plot\n",
    "classifiers = ['SVM', 'KNN', 'Naive Bayes']\n",
    "accuracies = [svm_acc, knn_acc, nb_acc]\n",
    "\n",
    "plt.figure(figsize=(8,6))\n",
    "plt.bar(classifiers, accuracies, color=['blue', 'green', 'orange'])\n",
    "plt.xlabel('Classifier')\n",
    "plt.ylabel('Accuracy')\n",
    "plt.title('Accuracy Comparison of SVM, KNN, and Naive Bayes')\n",
    "plt.show()\n"
   ]
  },
  {
   "cell_type": "markdown",
   "metadata": {
    "id": "VcZplgBnka15"
   },
   "source": []
  },
  {
   "cell_type": "markdown",
   "metadata": {
    "id": "7mJ27jdUkcdX"
   },
   "source": [
    "## Testing the Trained Model"
   ]
  },
  {
   "cell_type": "code",
   "execution_count": null,
   "metadata": {
    "id": "QMcp-T8qkkSI"
   },
   "outputs": [],
   "source": [
    "import os\n",
    "from keras.models import load_model\n",
    "from tensorflow.keras.preprocessing.image import ImageDataGenerator\n",
    "from sklearn.metrics import classification_report, confusion_matrix\n",
    "import numpy as np\n",
    "import matplotlib.pyplot as plt\n",
    "\n",
    "# Load the trained model\n",
    "model_path = '/content/drive/MyDrive/saved_models/vgg16_model.keras'\n",
    "model = load_model(model_path)\n",
    "\n",
    "# Set the directory path for testing data\n",
    "test_data_dir = '/content/drive/MyDrive/Training augmented/Validation'  # You can change this to training if needed\n",
    "\n",
    "# Set your desired values for image width, height, and batch size\n",
    "img_width, img_height = 224, 224\n",
    "batch_size = 32\n",
    "\n",
    "# Create an ImageDataGenerator for the test data\n",
    "datagen = ImageDataGenerator(rescale=1./255)  # Rescale as in training\n",
    "\n",
    "# Load the validation data\n",
    "test_data = datagen.flow_from_directory(\n",
    "    test_data_dir,  # Change to 'train_data_dir' if you want to test on training data\n",
    "    target_size=(img_width, img_height),\n",
    "    batch_size=batch_size,\n",
    "    class_mode='categorical',\n",
    "    shuffle=False  # Important to avoid shuffling for correct evaluation\n",
    ")\n",
    "\n",
    "# Make predictions using the loaded model\n",
    "predictions = model.predict(test_data, verbose=1)\n",
    "\n",
    "# Convert predictions to class labels\n",
    "predicted_classes = np.argmax(predictions, axis=1)"
   ]
  },
  {
   "cell_type": "markdown",
   "metadata": {
    "id": "EMDwgJo4nwux"
   },
   "source": [
    "### Evaluation"
   ]
  },
  {
   "cell_type": "code",
   "execution_count": null,
   "metadata": {
    "id": "JPH87iBwn0GR"
   },
   "outputs": [],
   "source": [
    "# Get the true labels\n",
    "true_classes = test_data.classes\n",
    "class_labels = list(test_data.class_indices.keys())  # Get class labels\n",
    "\n",
    "# Generate classification report\n",
    "report = classification_report(true_classes, predicted_classes, target_names=class_labels)\n",
    "print(\"Classification Report:\\n\", report)\n",
    "\n",
    "# Confusion Matrix\n",
    "cm = confusion_matrix(true_classes, predicted_classes)\n",
    "print(\"Confusion Matrix:\\n\", cm)\n"
   ]
  },
  {
   "cell_type": "markdown",
   "metadata": {
    "id": "oY4MXbHIoMje"
   },
   "source": [
    "### Plotting confusion matrix"
   ]
  },
  {
   "cell_type": "code",
   "execution_count": null,
   "metadata": {
    "id": "IKDMqYEboCeA"
   },
   "outputs": [],
   "source": [
    "\n",
    "plt.figure(figsize=(8,6))\n",
    "plt.imshow(cm, interpolation='nearest', cmap=plt.cm.Blues)\n",
    "plt.title('Confusion Matrix')\n",
    "plt.colorbar()\n",
    "tick_marks = np.arange(len(class_labels))\n",
    "plt.xticks(tick_marks, class_labels, rotation=45)\n",
    "plt.yticks(tick_marks, class_labels)\n",
    "plt.tight_layout()\n",
    "plt.ylabel('True Label')\n",
    "plt.xlabel('Predicted Label')\n",
    "plt.show()\n"
   ]
  }
 ],
 "metadata": {
  "accelerator": "GPU",
  "colab": {
   "gpuType": "T4",
   "provenance": []
  },
  "kernelspec": {
   "display_name": "Python 3 (ipykernel)",
   "language": "python",
   "name": "python3"
  },
  "language_info": {
   "codemirror_mode": {
    "name": "ipython",
    "version": 3
   },
   "file_extension": ".py",
   "mimetype": "text/x-python",
   "name": "python",
   "nbconvert_exporter": "python",
   "pygments_lexer": "ipython3",
   "version": "3.11.3"
  }
 },
 "nbformat": 4,
 "nbformat_minor": 4
}
